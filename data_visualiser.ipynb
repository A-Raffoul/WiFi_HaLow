{
 "cells": [
  {
   "cell_type": "code",
   "execution_count": 1,
   "metadata": {},
   "outputs": [],
   "source": [
    "# Importing the libraries\n",
    "import pandas as pd\n",
    "import matplotlib.pyplot as plt\n",
    "import seaborn as sns\n",
    "import os\n",
    "import plotly.graph_objects as go\n",
    "from scenario import*\n",
    "import plotly.express as px\n",
    "from ipywidgets import interact, interactive, fixed, interact_manual"
   ]
  },
  {
   "cell_type": "code",
   "execution_count": 2,
   "metadata": {},
   "outputs": [
    {
     "name": "stdout",
     "output_type": "stream",
     "text": [
      "results_50dBm_STA_1MHz\n",
      "results_50dBm_STA_2MHz\n",
      "results_60dBm_STA_1MHz\n",
      "results_60dBm_STA_2MHz\n",
      "results_70dBm_STA_1MHz\n",
      "results_70dBm_STA_2MHz\n",
      "results_50dBm_STA_1MHz\n",
      "results_50dBm_STA_2MHz\n",
      "results_60dBm_STA_1MHz\n",
      "results_60dBm_STA_2MHz\n",
      "results_70dBm_STA_1MHz\n",
      "results_70dBm_STA_2MHz\n",
      "coaxial_txpwr0_1Mhz_50dBm.txt\n",
      "coaxial_txpwr10_1Mhz_50dBm.txt\n",
      "coaxial_txpwr11_1Mhz_50dBm.txt\n",
      "coaxial_txpwr12_1Mhz_50dBm.txt\n",
      "coaxial_txpwr13_1Mhz_50dBm.txt\n",
      "coaxial_txpwr14_1Mhz_50dBm.txt\n",
      "coaxial_txpwr15_1Mhz_50dBm.txt\n",
      "coaxial_txpwr16_1Mhz_50dBm.txt\n",
      "coaxial_txpwr17_1Mhz_50dBm.txt\n",
      "coaxial_txpwr18_1Mhz_50dBm.txt\n",
      "coaxial_txpwr19_1Mhz_50dBm.txt\n",
      "coaxial_txpwr1_1Mhz_50dBm.txt\n",
      "coaxial_txpwr20_1Mhz_50dBm.txt\n",
      "coaxial_txpwr2_1Mhz_50dBm.txt\n",
      "coaxial_txpwr3_1Mhz_50dBm.txt\n",
      "coaxial_txpwr4_1Mhz_50dBm.txt\n",
      "coaxial_txpwr5_1Mhz_50dBm.txt\n",
      "coaxial_txpwr6_1Mhz_50dBm.txt\n",
      "coaxial_txpwr7_1Mhz_50dBm.txt\n",
      "coaxial_txpwr8_1Mhz_50dBm.txt\n",
      "coaxial_txpwr9_1Mhz_50dBm.txt\n",
      "coaxial_txpwr0_2Mhz_50dBm.txt\n",
      "coaxial_txpwr10_2Mhz_50dBm.txt\n",
      "coaxial_txpwr11_2Mhz_50dBm.txt\n",
      "coaxial_txpwr12_2Mhz_50dBm.txt\n",
      "coaxial_txpwr13_2Mhz_50dBm.txt\n",
      "coaxial_txpwr14_2Mhz_50dBm.txt\n",
      "coaxial_txpwr15_2Mhz_50dBm.txt\n",
      "coaxial_txpwr16_2Mhz_50dBm.txt\n",
      "coaxial_txpwr17_2Mhz_50dBm.txt\n",
      "coaxial_txpwr18_2Mhz_50dBm.txt\n",
      "coaxial_txpwr19_2Mhz_50dBm.txt\n",
      "coaxial_txpwr1_2Mhz_50dBm.txt\n",
      "coaxial_txpwr20_2Mhz_50dBm.txt\n",
      "coaxial_txpwr2_2Mhz_50dBm.txt\n",
      "coaxial_txpwr3_2Mhz_50dBm.txt\n",
      "coaxial_txpwr4_2Mhz_50dBm.txt\n",
      "coaxial_txpwr5_2Mhz_50dBm.txt\n",
      "coaxial_txpwr6_2Mhz_50dBm.txt\n",
      "coaxial_txpwr7_2Mhz_50dBm.txt\n",
      "coaxial_txpwr8_2Mhz_50dBm.txt\n",
      "coaxial_txpwr9_2Mhz_50dBm.txt\n",
      "coaxial_txpwr0_1Mhz_60dBm.txt\n",
      "coaxial_txpwr10_1Mhz_60dBm.txt\n",
      "coaxial_txpwr11_1Mhz_60dBm.txt\n",
      "coaxial_txpwr12_1Mhz_60dBm.txt\n",
      "coaxial_txpwr13_1Mhz_60dBm.txt\n",
      "coaxial_txpwr14_1Mhz_60dBm.txt\n",
      "coaxial_txpwr15_1Mhz_60dBm.txt\n",
      "coaxial_txpwr16_1Mhz_60dBm.txt\n",
      "coaxial_txpwr17_1Mhz_60dBm.txt\n",
      "coaxial_txpwr18_1Mhz_60dBm.txt\n",
      "coaxial_txpwr19_1Mhz_60dBm.txt\n",
      "coaxial_txpwr1_1Mhz_60dBm.txt\n",
      "coaxial_txpwr20_1Mhz_60dBm.txt\n",
      "An error occurred while processing data\\coaxial\\logs\\results_60dBm_STA_1MHz\\coaxial_txpwr20_1Mhz_60dBm.txt: invalid literal for int() with base 10: 'None'\n",
      "coaxial_txpwr2_1Mhz_60dBm.txt\n",
      "coaxial_txpwr3_1Mhz_60dBm.txt\n",
      "coaxial_txpwr4_1Mhz_60dBm.txt\n",
      "coaxial_txpwr5_1Mhz_60dBm.txt\n",
      "coaxial_txpwr6_1Mhz_60dBm.txt\n",
      "coaxial_txpwr7_1Mhz_60dBm.txt\n",
      "coaxial_txpwr8_1Mhz_60dBm.txt\n",
      "coaxial_txpwr9_1Mhz_60dBm.txt\n",
      "coaxial_txpwr0_2Mhz_60dBm.txt\n",
      "coaxial_txpwr10_2Mhz_60dBm.txt\n",
      "coaxial_txpwr11_2Mhz_60dBm.txt\n",
      "coaxial_txpwr12_2Mhz_60dBm.txt\n",
      "coaxial_txpwr13_2Mhz_60dBm.txt\n",
      "coaxial_txpwr14_2Mhz_60dBm.txt\n",
      "coaxial_txpwr15_2Mhz_60dBm.txt\n",
      "coaxial_txpwr16_2Mhz_60dBm.txt\n",
      "coaxial_txpwr17_2Mhz_60dBm.txt\n",
      "coaxial_txpwr18_2Mhz_60dBm.txt\n",
      "coaxial_txpwr19_2Mhz_60dBm.txt\n",
      "coaxial_txpwr1_2Mhz_60dBm.txt\n",
      "coaxial_txpwr20_2Mhz_60dBm.txt\n",
      "coaxial_txpwr2_2Mhz_60dBm.txt\n",
      "coaxial_txpwr3_2Mhz_60dBm.txt\n",
      "coaxial_txpwr4_2Mhz_60dBm.txt\n",
      "coaxial_txpwr5_2Mhz_60dBm.txt\n",
      "coaxial_txpwr6_2Mhz_60dBm.txt\n",
      "coaxial_txpwr7_2Mhz_60dBm.txt\n",
      "coaxial_txpwr8_2Mhz_60dBm.txt\n",
      "coaxial_txpwr9_2Mhz_60dBm.txt\n",
      "coaxial_txpwr10_1Mhz_70dBm.txt\n",
      "coaxial_txpwr11_1Mhz_70dBm.txt\n",
      "coaxial_txpwr12_1Mhz_70dBm.txt\n",
      "coaxial_txpwr13_1Mhz_70dBm.txt\n",
      "coaxial_txpwr14_1Mhz_70dBm.txt\n",
      "coaxial_txpwr15_1Mhz_70dBm.txt\n",
      "coaxial_txpwr16_1Mhz_70dBm.txt\n",
      "coaxial_txpwr17_1Mhz_70dBm.txt\n",
      "coaxial_txpwr18_1Mhz_70dBm.txt\n",
      "coaxial_txpwr19_1Mhz_70dBm.txt\n",
      "coaxial_txpwr20_1Mhz_70dBm.txt\n",
      "coaxial_txpwr7_1Mhz_70dBm.txt\n",
      "coaxial_txpwr8_1Mhz_70dBm.txt\n",
      "coaxial_txpwr9_1Mhz_70dBm.txt\n",
      "coaxial_txpwr0_2Mhz_70dBm.txt\n",
      "An error occurred while processing data\\coaxial\\logs\\results_70dBm_STA_2MHz\\coaxial_txpwr0_2Mhz_70dBm.txt: could not convert string to float: 'None'\n",
      "coaxial_txpwr10_2Mhz_70dBm.txt\n",
      "coaxial_txpwr11_2Mhz_70dBm.txt\n",
      "coaxial_txpwr12_2Mhz_70dBm.txt\n",
      "coaxial_txpwr13_2Mhz_70dBm.txt\n",
      "coaxial_txpwr14_2Mhz_70dBm.txt\n",
      "coaxial_txpwr15_2Mhz_70dBm.txt\n",
      "coaxial_txpwr16_2Mhz_70dBm.txt\n",
      "coaxial_txpwr17_2Mhz_70dBm.txt\n",
      "coaxial_txpwr18_2Mhz_70dBm.txt\n",
      "coaxial_txpwr19_2Mhz_70dBm.txt\n",
      "coaxial_txpwr1_2Mhz_70dBm.txt\n",
      "An error occurred while processing data\\coaxial\\logs\\results_70dBm_STA_2MHz\\coaxial_txpwr1_2Mhz_70dBm.txt: could not convert string to float: 'None'\n",
      "coaxial_txpwr20_2Mhz_70dBm.txt\n",
      "coaxial_txpwr2_2Mhz_70dBm.txt\n",
      "An error occurred while processing data\\coaxial\\logs\\results_70dBm_STA_2MHz\\coaxial_txpwr2_2Mhz_70dBm.txt: could not convert string to float: 'None'\n",
      "coaxial_txpwr3_2Mhz_70dBm.txt\n",
      "An error occurred while processing data\\coaxial\\logs\\results_70dBm_STA_2MHz\\coaxial_txpwr3_2Mhz_70dBm.txt: could not convert string to float: 'None'\n",
      "coaxial_txpwr4_2Mhz_70dBm.txt\n",
      "An error occurred while processing data\\coaxial\\logs\\results_70dBm_STA_2MHz\\coaxial_txpwr4_2Mhz_70dBm.txt: could not convert string to float: 'None'\n",
      "coaxial_txpwr5_2Mhz_70dBm.txt\n",
      "An error occurred while processing data\\coaxial\\logs\\results_70dBm_STA_2MHz\\coaxial_txpwr5_2Mhz_70dBm.txt: could not convert string to float: 'None'\n",
      "coaxial_txpwr6_2Mhz_70dBm.txt\n",
      "An error occurred while processing data\\coaxial\\logs\\results_70dBm_STA_2MHz\\coaxial_txpwr6_2Mhz_70dBm.txt: could not convert string to float: 'None'\n",
      "coaxial_txpwr7_2Mhz_70dBm.txt\n",
      "An error occurred while processing data\\coaxial\\logs\\results_70dBm_STA_2MHz\\coaxial_txpwr7_2Mhz_70dBm.txt: could not convert string to float: 'None'\n",
      "coaxial_txpwr8_2Mhz_70dBm.txt\n",
      "coaxial_txpwr9_2Mhz_70dBm.txt\n",
      "coaxial_txpwr0_1Mhz_50dBm_combined.log\n",
      "coaxial_txpwr10_1Mhz_50dBm_combined.log\n",
      "coaxial_txpwr11_1Mhz_50dBm_combined.log\n",
      "coaxial_txpwr12_1Mhz_50dBm_combined.log\n",
      "coaxial_txpwr13_1Mhz_50dBm_combined.log\n",
      "coaxial_txpwr14_1Mhz_50dBm_combined.log\n",
      "coaxial_txpwr15_1Mhz_50dBm_combined.log\n",
      "coaxial_txpwr16_1Mhz_50dBm_combined.log\n",
      "coaxial_txpwr17_1Mhz_50dBm_combined.log\n",
      "coaxial_txpwr18_1Mhz_50dBm_combined.log\n",
      "coaxial_txpwr19_1Mhz_50dBm_combined.log\n",
      "coaxial_txpwr1_1Mhz_50dBm_combined.log\n",
      "coaxial_txpwr20_1Mhz_50dBm_combined.log\n",
      "coaxial_txpwr2_1Mhz_50dBm_combined.log\n",
      "coaxial_txpwr3_1Mhz_50dBm_combined.log\n",
      "coaxial_txpwr4_1Mhz_50dBm_combined.log\n",
      "coaxial_txpwr5_1Mhz_50dBm_combined.log\n",
      "coaxial_txpwr6_1Mhz_50dBm_combined.log\n",
      "coaxial_txpwr7_1Mhz_50dBm_combined.log\n",
      "coaxial_txpwr8_1Mhz_50dBm_combined.log\n",
      "coaxial_txpwr9_1Mhz_50dBm_combined.log\n",
      "coaxial_txpwr0_2Mhz_50dBm_combined.log\n",
      "coaxial_txpwr10_2Mhz_50dBm_combined.log\n",
      "coaxial_txpwr11_2Mhz_50dBm_combined.log\n",
      "coaxial_txpwr12_2Mhz_50dBm_combined.log\n",
      "coaxial_txpwr13_2Mhz_50dBm_combined.log\n",
      "coaxial_txpwr14_2Mhz_50dBm_combined.log\n",
      "coaxial_txpwr15_2Mhz_50dBm_combined.log\n",
      "coaxial_txpwr16_2Mhz_50dBm_combined.log\n",
      "coaxial_txpwr17_2Mhz_50dBm_combined.log\n",
      "coaxial_txpwr18_2Mhz_50dBm_combined.log\n",
      "coaxial_txpwr19_2Mhz_50dBm_combined.log\n",
      "coaxial_txpwr1_2Mhz_50dBm_combined.log\n",
      "coaxial_txpwr20_2Mhz_50dBm_combined.log\n",
      "coaxial_txpwr2_2Mhz_50dBm_combined.log\n",
      "coaxial_txpwr3_2Mhz_50dBm_combined.log\n",
      "coaxial_txpwr4_2Mhz_50dBm_combined.log\n",
      "coaxial_txpwr5_2Mhz_50dBm_combined.log\n",
      "coaxial_txpwr6_2Mhz_50dBm_combined.log\n",
      "coaxial_txpwr7_2Mhz_50dBm_combined.log\n",
      "coaxial_txpwr8_2Mhz_50dBm_combined.log\n",
      "coaxial_txpwr9_2Mhz_50dBm_combined.log\n",
      "coaxial_txpwr0_1Mhz_60dBm_combined.log\n",
      "coaxial_txpwr10_1Mhz_60dBm_combined.log\n",
      "coaxial_txpwr11_1Mhz_60dBm_combined.log\n",
      "coaxial_txpwr12_1Mhz_60dBm_combined.log\n",
      "coaxial_txpwr13_1Mhz_60dBm_combined.log\n",
      "coaxial_txpwr14_1Mhz_60dBm_combined.log\n",
      "coaxial_txpwr15_1Mhz_60dBm_combined.log\n",
      "coaxial_txpwr16_1Mhz_60dBm_combined.log\n",
      "coaxial_txpwr17_1Mhz_60dBm_combined.log\n",
      "coaxial_txpwr18_1Mhz_60dBm_combined.log\n",
      "coaxial_txpwr19_1Mhz_60dBm_combined.log\n",
      "coaxial_txpwr1_1Mhz_60dBm_combined.log\n",
      "coaxial_txpwr20_1Mhz_60dBm_combined.log\n",
      "coaxial_txpwr2_1Mhz_60dBm_combined.log\n",
      "coaxial_txpwr3_1Mhz_60dBm_combined.log\n",
      "coaxial_txpwr4_1Mhz_60dBm_combined.log\n",
      "coaxial_txpwr5_1Mhz_60dBm_combined.log\n",
      "coaxial_txpwr6_1Mhz_60dBm_combined.log\n",
      "coaxial_txpwr7_1Mhz_60dBm_combined.log\n",
      "coaxial_txpwr8_1Mhz_60dBm_combined.log\n",
      "coaxial_txpwr9_1Mhz_60dBm_combined.log\n",
      "coaxial_txpwr0_2Mhz_60dBm_combined.log\n",
      "coaxial_txpwr10_2Mhz_60dBm_combined.log\n",
      "coaxial_txpwr11_2Mhz_60dBm_combined.log\n",
      "coaxial_txpwr12_2Mhz_60dBm_combined.log\n",
      "coaxial_txpwr13_2Mhz_60dBm_combined.log\n",
      "coaxial_txpwr14_2Mhz_60dBm_combined.log\n",
      "coaxial_txpwr15_2Mhz_60dBm_combined.log\n",
      "coaxial_txpwr16_2Mhz_60dBm_combined.log\n",
      "coaxial_txpwr17_2Mhz_60dBm_combined.log\n",
      "coaxial_txpwr18_2Mhz_60dBm_combined.log\n",
      "coaxial_txpwr19_2Mhz_60dBm_combined.log\n",
      "coaxial_txpwr1_2Mhz_60dBm_combined.log\n",
      "coaxial_txpwr20_2Mhz_60dBm_combined.log\n",
      "coaxial_txpwr2_2Mhz_60dBm_combined.log\n",
      "coaxial_txpwr3_2Mhz_60dBm_combined.log\n",
      "coaxial_txpwr4_2Mhz_60dBm_combined.log\n",
      "coaxial_txpwr5_2Mhz_60dBm_combined.log\n",
      "coaxial_txpwr6_2Mhz_60dBm_combined.log\n",
      "coaxial_txpwr7_2Mhz_60dBm_combined.log\n",
      "coaxial_txpwr8_2Mhz_60dBm_combined.log\n",
      "coaxial_txpwr9_2Mhz_60dBm_combined.log\n",
      "coaxial_txpwr10_1Mhz_70dBm_combined.log\n",
      "coaxial_txpwr11_1Mhz_70dBm_combined.log\n",
      "coaxial_txpwr12_1Mhz_70dBm_combined.log\n",
      "coaxial_txpwr13_1Mhz_70dBm_combined.log\n",
      "coaxial_txpwr14_1Mhz_70dBm_combined.log\n",
      "coaxial_txpwr15_1Mhz_70dBm_combined.log\n",
      "coaxial_txpwr16_1Mhz_70dBm_combined.log\n",
      "coaxial_txpwr17_1Mhz_70dBm_combined.log\n",
      "coaxial_txpwr18_1Mhz_70dBm_combined.log\n",
      "coaxial_txpwr19_1Mhz_70dBm_combined.log\n",
      "coaxial_txpwr20_1Mhz_70dBm_combined.log\n",
      "coaxial_txpwr6_1Mhz_70dBm_combined.log\n",
      "coaxial_txpwr7_1Mhz_70dBm_combined.log\n",
      "coaxial_txpwr8_1Mhz_70dBm_combined.log\n",
      "coaxial_txpwr9_1Mhz_70dBm_combined.log\n",
      "coaxial_txpwr0_2Mhz_70dBm_combined.log\n",
      "coaxial_txpwr10_2Mhz_70dBm_combined.log\n",
      "coaxial_txpwr11_2Mhz_70dBm_combined.log\n",
      "coaxial_txpwr12_2Mhz_70dBm_combined.log\n",
      "coaxial_txpwr13_2Mhz_70dBm_combined.log\n",
      "coaxial_txpwr14_2Mhz_70dBm_combined.log\n",
      "coaxial_txpwr15_2Mhz_70dBm_combined.log\n",
      "coaxial_txpwr16_2Mhz_70dBm_combined.log\n",
      "coaxial_txpwr17_2Mhz_70dBm_combined.log\n",
      "coaxial_txpwr18_2Mhz_70dBm_combined.log\n",
      "coaxial_txpwr19_2Mhz_70dBm_combined.log\n",
      "coaxial_txpwr1_2Mhz_70dBm_combined.log\n",
      "coaxial_txpwr20_2Mhz_70dBm_combined.log\n",
      "coaxial_txpwr2_2Mhz_70dBm_combined.log\n",
      "coaxial_txpwr3_2Mhz_70dBm_combined.log\n",
      "coaxial_txpwr4_2Mhz_70dBm_combined.log\n",
      "coaxial_txpwr5_2Mhz_70dBm_combined.log\n",
      "coaxial_txpwr6_2Mhz_70dBm_combined.log\n",
      "coaxial_txpwr7_2Mhz_70dBm_combined.log\n",
      "coaxial_txpwr8_2Mhz_70dBm_combined.log\n",
      "coaxial_txpwr9_2Mhz_70dBm_combined.log\n",
      "                               Test Name                        Timestamp  \\\n",
      "0     coaxial_txpwr0_1Mhz_50dBm_combined  Sat 11 May 2024 01:35:41 AM -05   \n",
      "1    coaxial_txpwr10_1Mhz_50dBm_combined  Sat 11 May 2024 01:25:35 AM -05   \n",
      "2    coaxial_txpwr11_1Mhz_50dBm_combined  Sat 11 May 2024 01:24:34 AM -05   \n",
      "3    coaxial_txpwr12_1Mhz_50dBm_combined  Sat 11 May 2024 01:23:34 AM -05   \n",
      "4    coaxial_txpwr13_1Mhz_50dBm_combined  Sat 11 May 2024 01:22:33 AM -05   \n",
      "..                                   ...                              ...   \n",
      "105  coaxial_txpwr18_2Mhz_70dBm_combined  Sat 11 May 2024 02:51:34 AM -05   \n",
      "106  coaxial_txpwr19_2Mhz_70dBm_combined  Sat 11 May 2024 02:50:33 AM -05   \n",
      "107  coaxial_txpwr20_2Mhz_70dBm_combined  Sat 11 May 2024 02:49:33 AM -05   \n",
      "108   coaxial_txpwr8_2Mhz_70dBm_combined  Sat 11 May 2024 03:01:40 AM -05   \n",
      "109   coaxial_txpwr9_2Mhz_70dBm_combined  Sat 11 May 2024 03:00:39 AM -05   \n",
      "\n",
      "    Test Type Distance  Attenuation (dBm) Propagation Bandwidth Frequency  \\\n",
      "0     coaxial     null                 50         LoS        1M      8675   \n",
      "1     coaxial     null                 50         LoS        1M      8675   \n",
      "2     coaxial     null                 50         LoS        1M      8675   \n",
      "3     coaxial     null                 50         LoS        1M      8675   \n",
      "4     coaxial     null                 50         LoS        1M      8675   \n",
      "..        ...      ...                ...         ...       ...       ...   \n",
      "105   coaxial     null                 70         LoS        2M      8640   \n",
      "106   coaxial     null                 70         LoS        2M      8640   \n",
      "107   coaxial     null                 70         LoS        2M      8640   \n",
      "108   coaxial     null                 70         LoS        2M      8640   \n",
      "109   coaxial     null                 70         LoS        2M      8640   \n",
      "\n",
      "     MCS Rate Control Guard Interval  TX Gain  RX iPerf Bitrate (Mbits/sec)  \\\n",
      "0      4           on           long        0                      1.150000   \n",
      "1      7           on           long       10                      1.840000   \n",
      "2      7           on           long       11                      1.850000   \n",
      "3      7           on           long       12                      1.840000   \n",
      "4      7           on           long       13                      1.840000   \n",
      "..   ...          ...            ...      ...                           ...   \n",
      "105    2           on           long       18                      1.210000   \n",
      "106    3           on           long       19                      1.560000   \n",
      "107    3           on           long       20                      1.580000   \n",
      "108    0           on           long        8                      0.000445   \n",
      "109    1           on           long        9                      0.129000   \n",
      "\n",
      "     TX iPerf Bitrate (Mbits/sec) Receiver Lost/Total Datagrams  Jitter (ms)  \\\n",
      "0                          1.1800                        0/2540       15.064   \n",
      "1                          1.8700                        0/4040       10.328   \n",
      "2                          1.8800                        0/4050        9.459   \n",
      "3                          1.8700                        0/4040        9.839   \n",
      "4                          1.8700                        0/4040        9.260   \n",
      "..                            ...                           ...          ...   \n",
      "105                        1.2300                        0/2660       13.565   \n",
      "106                        1.5800                        0/3420       12.052   \n",
      "107                        1.6100                        0/3470        9.627   \n",
      "108                        0.0649                         64/66      607.782   \n",
      "109                        0.1580                        14/340      103.755   \n",
      "\n",
      "     Receiver BER (%)  RSSI Median  SNR Median  Total Gain  \n",
      "0                 0.0        -90.0        17.0         -50  \n",
      "1                 0.0        -81.0        25.0         -40  \n",
      "2                 0.0        -79.0        26.0         -39  \n",
      "3                 0.0        -78.0        26.0         -38  \n",
      "4                 0.0        -77.0        27.0         -37  \n",
      "..                ...          ...         ...         ...  \n",
      "105               0.0        -92.0        10.0         -52  \n",
      "106               0.0        -91.0        11.0         -51  \n",
      "107               0.0        -89.0        12.0         -50  \n",
      "108              97.0       -101.0         0.0         -62  \n",
      "109               4.1       -101.0         0.0         -61  \n",
      "\n",
      "[110 rows x 20 columns]\n"
     ]
    },
    {
     "data": {
      "application/vnd.plotly.v1+json": {
       "config": {
        "plotlyServerURL": "https://plot.ly"
       },
       "data": [
        {
         "hovertemplate": "Test Name=%{y}<extra></extra>",
         "legendgroup": "",
         "marker": {
          "color": "#636efa",
          "symbol": "circle"
         },
         "mode": "markers",
         "name": "",
         "orientation": "v",
         "showlegend": false,
         "type": "scatter",
         "x": [
          "coaxial_txpwr0_1Mhz_50dBm_combined",
          "coaxial_txpwr10_1Mhz_50dBm_combined",
          "coaxial_txpwr11_1Mhz_50dBm_combined",
          "coaxial_txpwr12_1Mhz_50dBm_combined",
          "coaxial_txpwr13_1Mhz_50dBm_combined",
          "coaxial_txpwr14_1Mhz_50dBm_combined",
          "coaxial_txpwr15_1Mhz_50dBm_combined",
          "coaxial_txpwr16_1Mhz_50dBm_combined",
          "coaxial_txpwr17_1Mhz_50dBm_combined",
          "coaxial_txpwr18_1Mhz_50dBm_combined",
          "coaxial_txpwr19_1Mhz_50dBm_combined",
          "coaxial_txpwr1_1Mhz_50dBm_combined",
          "coaxial_txpwr20_1Mhz_50dBm_combined",
          "coaxial_txpwr2_1Mhz_50dBm_combined",
          "coaxial_txpwr3_1Mhz_50dBm_combined",
          "coaxial_txpwr4_1Mhz_50dBm_combined",
          "coaxial_txpwr5_1Mhz_50dBm_combined",
          "coaxial_txpwr6_1Mhz_50dBm_combined",
          "coaxial_txpwr7_1Mhz_50dBm_combined",
          "coaxial_txpwr8_1Mhz_50dBm_combined",
          "coaxial_txpwr9_1Mhz_50dBm_combined",
          "coaxial_txpwr0_2Mhz_50dBm_combined",
          "coaxial_txpwr10_2Mhz_50dBm_combined",
          "coaxial_txpwr11_2Mhz_50dBm_combined",
          "coaxial_txpwr12_2Mhz_50dBm_combined",
          "coaxial_txpwr13_2Mhz_50dBm_combined",
          "coaxial_txpwr14_2Mhz_50dBm_combined",
          "coaxial_txpwr15_2Mhz_50dBm_combined",
          "coaxial_txpwr16_2Mhz_50dBm_combined",
          "coaxial_txpwr17_2Mhz_50dBm_combined",
          "coaxial_txpwr18_2Mhz_50dBm_combined",
          "coaxial_txpwr19_2Mhz_50dBm_combined",
          "coaxial_txpwr1_2Mhz_50dBm_combined",
          "coaxial_txpwr20_2Mhz_50dBm_combined",
          "coaxial_txpwr2_2Mhz_50dBm_combined",
          "coaxial_txpwr3_2Mhz_50dBm_combined",
          "coaxial_txpwr4_2Mhz_50dBm_combined",
          "coaxial_txpwr5_2Mhz_50dBm_combined",
          "coaxial_txpwr6_2Mhz_50dBm_combined",
          "coaxial_txpwr7_2Mhz_50dBm_combined",
          "coaxial_txpwr8_2Mhz_50dBm_combined",
          "coaxial_txpwr9_2Mhz_50dBm_combined",
          "coaxial_txpwr0_1Mhz_60dBm_combined",
          "coaxial_txpwr10_1Mhz_60dBm_combined",
          "coaxial_txpwr11_1Mhz_60dBm_combined",
          "coaxial_txpwr12_1Mhz_60dBm_combined",
          "coaxial_txpwr13_1Mhz_60dBm_combined",
          "coaxial_txpwr14_1Mhz_60dBm_combined",
          "coaxial_txpwr15_1Mhz_60dBm_combined",
          "coaxial_txpwr16_1Mhz_60dBm_combined",
          "coaxial_txpwr17_1Mhz_60dBm_combined",
          "coaxial_txpwr18_1Mhz_60dBm_combined",
          "coaxial_txpwr19_1Mhz_60dBm_combined",
          "coaxial_txpwr1_1Mhz_60dBm_combined",
          "coaxial_txpwr2_1Mhz_60dBm_combined",
          "coaxial_txpwr3_1Mhz_60dBm_combined",
          "coaxial_txpwr4_1Mhz_60dBm_combined",
          "coaxial_txpwr5_1Mhz_60dBm_combined",
          "coaxial_txpwr6_1Mhz_60dBm_combined",
          "coaxial_txpwr7_1Mhz_60dBm_combined",
          "coaxial_txpwr8_1Mhz_60dBm_combined",
          "coaxial_txpwr9_1Mhz_60dBm_combined",
          "coaxial_txpwr0_2Mhz_60dBm_combined",
          "coaxial_txpwr10_2Mhz_60dBm_combined",
          "coaxial_txpwr11_2Mhz_60dBm_combined",
          "coaxial_txpwr12_2Mhz_60dBm_combined",
          "coaxial_txpwr13_2Mhz_60dBm_combined",
          "coaxial_txpwr14_2Mhz_60dBm_combined",
          "coaxial_txpwr15_2Mhz_60dBm_combined",
          "coaxial_txpwr16_2Mhz_60dBm_combined",
          "coaxial_txpwr17_2Mhz_60dBm_combined",
          "coaxial_txpwr18_2Mhz_60dBm_combined",
          "coaxial_txpwr19_2Mhz_60dBm_combined",
          "coaxial_txpwr1_2Mhz_60dBm_combined",
          "coaxial_txpwr20_2Mhz_60dBm_combined",
          "coaxial_txpwr2_2Mhz_60dBm_combined",
          "coaxial_txpwr3_2Mhz_60dBm_combined",
          "coaxial_txpwr4_2Mhz_60dBm_combined",
          "coaxial_txpwr5_2Mhz_60dBm_combined",
          "coaxial_txpwr6_2Mhz_60dBm_combined",
          "coaxial_txpwr7_2Mhz_60dBm_combined",
          "coaxial_txpwr8_2Mhz_60dBm_combined",
          "coaxial_txpwr9_2Mhz_60dBm_combined",
          "coaxial_txpwr10_1Mhz_70dBm_combined",
          "coaxial_txpwr11_1Mhz_70dBm_combined",
          "coaxial_txpwr12_1Mhz_70dBm_combined",
          "coaxial_txpwr13_1Mhz_70dBm_combined",
          "coaxial_txpwr14_1Mhz_70dBm_combined",
          "coaxial_txpwr15_1Mhz_70dBm_combined",
          "coaxial_txpwr16_1Mhz_70dBm_combined",
          "coaxial_txpwr17_1Mhz_70dBm_combined",
          "coaxial_txpwr18_1Mhz_70dBm_combined",
          "coaxial_txpwr19_1Mhz_70dBm_combined",
          "coaxial_txpwr20_1Mhz_70dBm_combined",
          "coaxial_txpwr7_1Mhz_70dBm_combined",
          "coaxial_txpwr8_1Mhz_70dBm_combined",
          "coaxial_txpwr9_1Mhz_70dBm_combined",
          "coaxial_txpwr10_2Mhz_70dBm_combined",
          "coaxial_txpwr11_2Mhz_70dBm_combined",
          "coaxial_txpwr12_2Mhz_70dBm_combined",
          "coaxial_txpwr13_2Mhz_70dBm_combined",
          "coaxial_txpwr14_2Mhz_70dBm_combined",
          "coaxial_txpwr15_2Mhz_70dBm_combined",
          "coaxial_txpwr16_2Mhz_70dBm_combined",
          "coaxial_txpwr17_2Mhz_70dBm_combined",
          "coaxial_txpwr18_2Mhz_70dBm_combined",
          "coaxial_txpwr19_2Mhz_70dBm_combined",
          "coaxial_txpwr20_2Mhz_70dBm_combined",
          "coaxial_txpwr8_2Mhz_70dBm_combined",
          "coaxial_txpwr9_2Mhz_70dBm_combined"
         ],
         "xaxis": "x",
         "y": [
          "coaxial_txpwr0_1Mhz_50dBm_combined",
          "coaxial_txpwr10_1Mhz_50dBm_combined",
          "coaxial_txpwr11_1Mhz_50dBm_combined",
          "coaxial_txpwr12_1Mhz_50dBm_combined",
          "coaxial_txpwr13_1Mhz_50dBm_combined",
          "coaxial_txpwr14_1Mhz_50dBm_combined",
          "coaxial_txpwr15_1Mhz_50dBm_combined",
          "coaxial_txpwr16_1Mhz_50dBm_combined",
          "coaxial_txpwr17_1Mhz_50dBm_combined",
          "coaxial_txpwr18_1Mhz_50dBm_combined",
          "coaxial_txpwr19_1Mhz_50dBm_combined",
          "coaxial_txpwr1_1Mhz_50dBm_combined",
          "coaxial_txpwr20_1Mhz_50dBm_combined",
          "coaxial_txpwr2_1Mhz_50dBm_combined",
          "coaxial_txpwr3_1Mhz_50dBm_combined",
          "coaxial_txpwr4_1Mhz_50dBm_combined",
          "coaxial_txpwr5_1Mhz_50dBm_combined",
          "coaxial_txpwr6_1Mhz_50dBm_combined",
          "coaxial_txpwr7_1Mhz_50dBm_combined",
          "coaxial_txpwr8_1Mhz_50dBm_combined",
          "coaxial_txpwr9_1Mhz_50dBm_combined",
          "coaxial_txpwr0_2Mhz_50dBm_combined",
          "coaxial_txpwr10_2Mhz_50dBm_combined",
          "coaxial_txpwr11_2Mhz_50dBm_combined",
          "coaxial_txpwr12_2Mhz_50dBm_combined",
          "coaxial_txpwr13_2Mhz_50dBm_combined",
          "coaxial_txpwr14_2Mhz_50dBm_combined",
          "coaxial_txpwr15_2Mhz_50dBm_combined",
          "coaxial_txpwr16_2Mhz_50dBm_combined",
          "coaxial_txpwr17_2Mhz_50dBm_combined",
          "coaxial_txpwr18_2Mhz_50dBm_combined",
          "coaxial_txpwr19_2Mhz_50dBm_combined",
          "coaxial_txpwr1_2Mhz_50dBm_combined",
          "coaxial_txpwr20_2Mhz_50dBm_combined",
          "coaxial_txpwr2_2Mhz_50dBm_combined",
          "coaxial_txpwr3_2Mhz_50dBm_combined",
          "coaxial_txpwr4_2Mhz_50dBm_combined",
          "coaxial_txpwr5_2Mhz_50dBm_combined",
          "coaxial_txpwr6_2Mhz_50dBm_combined",
          "coaxial_txpwr7_2Mhz_50dBm_combined",
          "coaxial_txpwr8_2Mhz_50dBm_combined",
          "coaxial_txpwr9_2Mhz_50dBm_combined",
          "coaxial_txpwr0_1Mhz_60dBm_combined",
          "coaxial_txpwr10_1Mhz_60dBm_combined",
          "coaxial_txpwr11_1Mhz_60dBm_combined",
          "coaxial_txpwr12_1Mhz_60dBm_combined",
          "coaxial_txpwr13_1Mhz_60dBm_combined",
          "coaxial_txpwr14_1Mhz_60dBm_combined",
          "coaxial_txpwr15_1Mhz_60dBm_combined",
          "coaxial_txpwr16_1Mhz_60dBm_combined",
          "coaxial_txpwr17_1Mhz_60dBm_combined",
          "coaxial_txpwr18_1Mhz_60dBm_combined",
          "coaxial_txpwr19_1Mhz_60dBm_combined",
          "coaxial_txpwr1_1Mhz_60dBm_combined",
          "coaxial_txpwr2_1Mhz_60dBm_combined",
          "coaxial_txpwr3_1Mhz_60dBm_combined",
          "coaxial_txpwr4_1Mhz_60dBm_combined",
          "coaxial_txpwr5_1Mhz_60dBm_combined",
          "coaxial_txpwr6_1Mhz_60dBm_combined",
          "coaxial_txpwr7_1Mhz_60dBm_combined",
          "coaxial_txpwr8_1Mhz_60dBm_combined",
          "coaxial_txpwr9_1Mhz_60dBm_combined",
          "coaxial_txpwr0_2Mhz_60dBm_combined",
          "coaxial_txpwr10_2Mhz_60dBm_combined",
          "coaxial_txpwr11_2Mhz_60dBm_combined",
          "coaxial_txpwr12_2Mhz_60dBm_combined",
          "coaxial_txpwr13_2Mhz_60dBm_combined",
          "coaxial_txpwr14_2Mhz_60dBm_combined",
          "coaxial_txpwr15_2Mhz_60dBm_combined",
          "coaxial_txpwr16_2Mhz_60dBm_combined",
          "coaxial_txpwr17_2Mhz_60dBm_combined",
          "coaxial_txpwr18_2Mhz_60dBm_combined",
          "coaxial_txpwr19_2Mhz_60dBm_combined",
          "coaxial_txpwr1_2Mhz_60dBm_combined",
          "coaxial_txpwr20_2Mhz_60dBm_combined",
          "coaxial_txpwr2_2Mhz_60dBm_combined",
          "coaxial_txpwr3_2Mhz_60dBm_combined",
          "coaxial_txpwr4_2Mhz_60dBm_combined",
          "coaxial_txpwr5_2Mhz_60dBm_combined",
          "coaxial_txpwr6_2Mhz_60dBm_combined",
          "coaxial_txpwr7_2Mhz_60dBm_combined",
          "coaxial_txpwr8_2Mhz_60dBm_combined",
          "coaxial_txpwr9_2Mhz_60dBm_combined",
          "coaxial_txpwr10_1Mhz_70dBm_combined",
          "coaxial_txpwr11_1Mhz_70dBm_combined",
          "coaxial_txpwr12_1Mhz_70dBm_combined",
          "coaxial_txpwr13_1Mhz_70dBm_combined",
          "coaxial_txpwr14_1Mhz_70dBm_combined",
          "coaxial_txpwr15_1Mhz_70dBm_combined",
          "coaxial_txpwr16_1Mhz_70dBm_combined",
          "coaxial_txpwr17_1Mhz_70dBm_combined",
          "coaxial_txpwr18_1Mhz_70dBm_combined",
          "coaxial_txpwr19_1Mhz_70dBm_combined",
          "coaxial_txpwr20_1Mhz_70dBm_combined",
          "coaxial_txpwr7_1Mhz_70dBm_combined",
          "coaxial_txpwr8_1Mhz_70dBm_combined",
          "coaxial_txpwr9_1Mhz_70dBm_combined",
          "coaxial_txpwr10_2Mhz_70dBm_combined",
          "coaxial_txpwr11_2Mhz_70dBm_combined",
          "coaxial_txpwr12_2Mhz_70dBm_combined",
          "coaxial_txpwr13_2Mhz_70dBm_combined",
          "coaxial_txpwr14_2Mhz_70dBm_combined",
          "coaxial_txpwr15_2Mhz_70dBm_combined",
          "coaxial_txpwr16_2Mhz_70dBm_combined",
          "coaxial_txpwr17_2Mhz_70dBm_combined",
          "coaxial_txpwr18_2Mhz_70dBm_combined",
          "coaxial_txpwr19_2Mhz_70dBm_combined",
          "coaxial_txpwr20_2Mhz_70dBm_combined",
          "coaxial_txpwr8_2Mhz_70dBm_combined",
          "coaxial_txpwr9_2Mhz_70dBm_combined"
         ],
         "yaxis": "y"
        }
       ],
       "layout": {
        "legend": {
         "tracegroupgap": 0
        },
        "template": {
         "data": {
          "bar": [
           {
            "error_x": {
             "color": "#2a3f5f"
            },
            "error_y": {
             "color": "#2a3f5f"
            },
            "marker": {
             "line": {
              "color": "#E5ECF6",
              "width": 0.5
             },
             "pattern": {
              "fillmode": "overlay",
              "size": 10,
              "solidity": 0.2
             }
            },
            "type": "bar"
           }
          ],
          "barpolar": [
           {
            "marker": {
             "line": {
              "color": "#E5ECF6",
              "width": 0.5
             },
             "pattern": {
              "fillmode": "overlay",
              "size": 10,
              "solidity": 0.2
             }
            },
            "type": "barpolar"
           }
          ],
          "carpet": [
           {
            "aaxis": {
             "endlinecolor": "#2a3f5f",
             "gridcolor": "white",
             "linecolor": "white",
             "minorgridcolor": "white",
             "startlinecolor": "#2a3f5f"
            },
            "baxis": {
             "endlinecolor": "#2a3f5f",
             "gridcolor": "white",
             "linecolor": "white",
             "minorgridcolor": "white",
             "startlinecolor": "#2a3f5f"
            },
            "type": "carpet"
           }
          ],
          "choropleth": [
           {
            "colorbar": {
             "outlinewidth": 0,
             "ticks": ""
            },
            "type": "choropleth"
           }
          ],
          "contour": [
           {
            "colorbar": {
             "outlinewidth": 0,
             "ticks": ""
            },
            "colorscale": [
             [
              0,
              "#0d0887"
             ],
             [
              0.1111111111111111,
              "#46039f"
             ],
             [
              0.2222222222222222,
              "#7201a8"
             ],
             [
              0.3333333333333333,
              "#9c179e"
             ],
             [
              0.4444444444444444,
              "#bd3786"
             ],
             [
              0.5555555555555556,
              "#d8576b"
             ],
             [
              0.6666666666666666,
              "#ed7953"
             ],
             [
              0.7777777777777778,
              "#fb9f3a"
             ],
             [
              0.8888888888888888,
              "#fdca26"
             ],
             [
              1,
              "#f0f921"
             ]
            ],
            "type": "contour"
           }
          ],
          "contourcarpet": [
           {
            "colorbar": {
             "outlinewidth": 0,
             "ticks": ""
            },
            "type": "contourcarpet"
           }
          ],
          "heatmap": [
           {
            "colorbar": {
             "outlinewidth": 0,
             "ticks": ""
            },
            "colorscale": [
             [
              0,
              "#0d0887"
             ],
             [
              0.1111111111111111,
              "#46039f"
             ],
             [
              0.2222222222222222,
              "#7201a8"
             ],
             [
              0.3333333333333333,
              "#9c179e"
             ],
             [
              0.4444444444444444,
              "#bd3786"
             ],
             [
              0.5555555555555556,
              "#d8576b"
             ],
             [
              0.6666666666666666,
              "#ed7953"
             ],
             [
              0.7777777777777778,
              "#fb9f3a"
             ],
             [
              0.8888888888888888,
              "#fdca26"
             ],
             [
              1,
              "#f0f921"
             ]
            ],
            "type": "heatmap"
           }
          ],
          "heatmapgl": [
           {
            "colorbar": {
             "outlinewidth": 0,
             "ticks": ""
            },
            "colorscale": [
             [
              0,
              "#0d0887"
             ],
             [
              0.1111111111111111,
              "#46039f"
             ],
             [
              0.2222222222222222,
              "#7201a8"
             ],
             [
              0.3333333333333333,
              "#9c179e"
             ],
             [
              0.4444444444444444,
              "#bd3786"
             ],
             [
              0.5555555555555556,
              "#d8576b"
             ],
             [
              0.6666666666666666,
              "#ed7953"
             ],
             [
              0.7777777777777778,
              "#fb9f3a"
             ],
             [
              0.8888888888888888,
              "#fdca26"
             ],
             [
              1,
              "#f0f921"
             ]
            ],
            "type": "heatmapgl"
           }
          ],
          "histogram": [
           {
            "marker": {
             "pattern": {
              "fillmode": "overlay",
              "size": 10,
              "solidity": 0.2
             }
            },
            "type": "histogram"
           }
          ],
          "histogram2d": [
           {
            "colorbar": {
             "outlinewidth": 0,
             "ticks": ""
            },
            "colorscale": [
             [
              0,
              "#0d0887"
             ],
             [
              0.1111111111111111,
              "#46039f"
             ],
             [
              0.2222222222222222,
              "#7201a8"
             ],
             [
              0.3333333333333333,
              "#9c179e"
             ],
             [
              0.4444444444444444,
              "#bd3786"
             ],
             [
              0.5555555555555556,
              "#d8576b"
             ],
             [
              0.6666666666666666,
              "#ed7953"
             ],
             [
              0.7777777777777778,
              "#fb9f3a"
             ],
             [
              0.8888888888888888,
              "#fdca26"
             ],
             [
              1,
              "#f0f921"
             ]
            ],
            "type": "histogram2d"
           }
          ],
          "histogram2dcontour": [
           {
            "colorbar": {
             "outlinewidth": 0,
             "ticks": ""
            },
            "colorscale": [
             [
              0,
              "#0d0887"
             ],
             [
              0.1111111111111111,
              "#46039f"
             ],
             [
              0.2222222222222222,
              "#7201a8"
             ],
             [
              0.3333333333333333,
              "#9c179e"
             ],
             [
              0.4444444444444444,
              "#bd3786"
             ],
             [
              0.5555555555555556,
              "#d8576b"
             ],
             [
              0.6666666666666666,
              "#ed7953"
             ],
             [
              0.7777777777777778,
              "#fb9f3a"
             ],
             [
              0.8888888888888888,
              "#fdca26"
             ],
             [
              1,
              "#f0f921"
             ]
            ],
            "type": "histogram2dcontour"
           }
          ],
          "mesh3d": [
           {
            "colorbar": {
             "outlinewidth": 0,
             "ticks": ""
            },
            "type": "mesh3d"
           }
          ],
          "parcoords": [
           {
            "line": {
             "colorbar": {
              "outlinewidth": 0,
              "ticks": ""
             }
            },
            "type": "parcoords"
           }
          ],
          "pie": [
           {
            "automargin": true,
            "type": "pie"
           }
          ],
          "scatter": [
           {
            "fillpattern": {
             "fillmode": "overlay",
             "size": 10,
             "solidity": 0.2
            },
            "type": "scatter"
           }
          ],
          "scatter3d": [
           {
            "line": {
             "colorbar": {
              "outlinewidth": 0,
              "ticks": ""
             }
            },
            "marker": {
             "colorbar": {
              "outlinewidth": 0,
              "ticks": ""
             }
            },
            "type": "scatter3d"
           }
          ],
          "scattercarpet": [
           {
            "marker": {
             "colorbar": {
              "outlinewidth": 0,
              "ticks": ""
             }
            },
            "type": "scattercarpet"
           }
          ],
          "scattergeo": [
           {
            "marker": {
             "colorbar": {
              "outlinewidth": 0,
              "ticks": ""
             }
            },
            "type": "scattergeo"
           }
          ],
          "scattergl": [
           {
            "marker": {
             "colorbar": {
              "outlinewidth": 0,
              "ticks": ""
             }
            },
            "type": "scattergl"
           }
          ],
          "scattermapbox": [
           {
            "marker": {
             "colorbar": {
              "outlinewidth": 0,
              "ticks": ""
             }
            },
            "type": "scattermapbox"
           }
          ],
          "scatterpolar": [
           {
            "marker": {
             "colorbar": {
              "outlinewidth": 0,
              "ticks": ""
             }
            },
            "type": "scatterpolar"
           }
          ],
          "scatterpolargl": [
           {
            "marker": {
             "colorbar": {
              "outlinewidth": 0,
              "ticks": ""
             }
            },
            "type": "scatterpolargl"
           }
          ],
          "scatterternary": [
           {
            "marker": {
             "colorbar": {
              "outlinewidth": 0,
              "ticks": ""
             }
            },
            "type": "scatterternary"
           }
          ],
          "surface": [
           {
            "colorbar": {
             "outlinewidth": 0,
             "ticks": ""
            },
            "colorscale": [
             [
              0,
              "#0d0887"
             ],
             [
              0.1111111111111111,
              "#46039f"
             ],
             [
              0.2222222222222222,
              "#7201a8"
             ],
             [
              0.3333333333333333,
              "#9c179e"
             ],
             [
              0.4444444444444444,
              "#bd3786"
             ],
             [
              0.5555555555555556,
              "#d8576b"
             ],
             [
              0.6666666666666666,
              "#ed7953"
             ],
             [
              0.7777777777777778,
              "#fb9f3a"
             ],
             [
              0.8888888888888888,
              "#fdca26"
             ],
             [
              1,
              "#f0f921"
             ]
            ],
            "type": "surface"
           }
          ],
          "table": [
           {
            "cells": {
             "fill": {
              "color": "#EBF0F8"
             },
             "line": {
              "color": "white"
             }
            },
            "header": {
             "fill": {
              "color": "#C8D4E3"
             },
             "line": {
              "color": "white"
             }
            },
            "type": "table"
           }
          ]
         },
         "layout": {
          "annotationdefaults": {
           "arrowcolor": "#2a3f5f",
           "arrowhead": 0,
           "arrowwidth": 1
          },
          "autotypenumbers": "strict",
          "coloraxis": {
           "colorbar": {
            "outlinewidth": 0,
            "ticks": ""
           }
          },
          "colorscale": {
           "diverging": [
            [
             0,
             "#8e0152"
            ],
            [
             0.1,
             "#c51b7d"
            ],
            [
             0.2,
             "#de77ae"
            ],
            [
             0.3,
             "#f1b6da"
            ],
            [
             0.4,
             "#fde0ef"
            ],
            [
             0.5,
             "#f7f7f7"
            ],
            [
             0.6,
             "#e6f5d0"
            ],
            [
             0.7,
             "#b8e186"
            ],
            [
             0.8,
             "#7fbc41"
            ],
            [
             0.9,
             "#4d9221"
            ],
            [
             1,
             "#276419"
            ]
           ],
           "sequential": [
            [
             0,
             "#0d0887"
            ],
            [
             0.1111111111111111,
             "#46039f"
            ],
            [
             0.2222222222222222,
             "#7201a8"
            ],
            [
             0.3333333333333333,
             "#9c179e"
            ],
            [
             0.4444444444444444,
             "#bd3786"
            ],
            [
             0.5555555555555556,
             "#d8576b"
            ],
            [
             0.6666666666666666,
             "#ed7953"
            ],
            [
             0.7777777777777778,
             "#fb9f3a"
            ],
            [
             0.8888888888888888,
             "#fdca26"
            ],
            [
             1,
             "#f0f921"
            ]
           ],
           "sequentialminus": [
            [
             0,
             "#0d0887"
            ],
            [
             0.1111111111111111,
             "#46039f"
            ],
            [
             0.2222222222222222,
             "#7201a8"
            ],
            [
             0.3333333333333333,
             "#9c179e"
            ],
            [
             0.4444444444444444,
             "#bd3786"
            ],
            [
             0.5555555555555556,
             "#d8576b"
            ],
            [
             0.6666666666666666,
             "#ed7953"
            ],
            [
             0.7777777777777778,
             "#fb9f3a"
            ],
            [
             0.8888888888888888,
             "#fdca26"
            ],
            [
             1,
             "#f0f921"
            ]
           ]
          },
          "colorway": [
           "#636efa",
           "#EF553B",
           "#00cc96",
           "#ab63fa",
           "#FFA15A",
           "#19d3f3",
           "#FF6692",
           "#B6E880",
           "#FF97FF",
           "#FECB52"
          ],
          "font": {
           "color": "#2a3f5f"
          },
          "geo": {
           "bgcolor": "white",
           "lakecolor": "white",
           "landcolor": "#E5ECF6",
           "showlakes": true,
           "showland": true,
           "subunitcolor": "white"
          },
          "hoverlabel": {
           "align": "left"
          },
          "hovermode": "closest",
          "mapbox": {
           "style": "light"
          },
          "paper_bgcolor": "white",
          "plot_bgcolor": "#E5ECF6",
          "polar": {
           "angularaxis": {
            "gridcolor": "white",
            "linecolor": "white",
            "ticks": ""
           },
           "bgcolor": "#E5ECF6",
           "radialaxis": {
            "gridcolor": "white",
            "linecolor": "white",
            "ticks": ""
           }
          },
          "scene": {
           "xaxis": {
            "backgroundcolor": "#E5ECF6",
            "gridcolor": "white",
            "gridwidth": 2,
            "linecolor": "white",
            "showbackground": true,
            "ticks": "",
            "zerolinecolor": "white"
           },
           "yaxis": {
            "backgroundcolor": "#E5ECF6",
            "gridcolor": "white",
            "gridwidth": 2,
            "linecolor": "white",
            "showbackground": true,
            "ticks": "",
            "zerolinecolor": "white"
           },
           "zaxis": {
            "backgroundcolor": "#E5ECF6",
            "gridcolor": "white",
            "gridwidth": 2,
            "linecolor": "white",
            "showbackground": true,
            "ticks": "",
            "zerolinecolor": "white"
           }
          },
          "shapedefaults": {
           "line": {
            "color": "#2a3f5f"
           }
          },
          "ternary": {
           "aaxis": {
            "gridcolor": "white",
            "linecolor": "white",
            "ticks": ""
           },
           "baxis": {
            "gridcolor": "white",
            "linecolor": "white",
            "ticks": ""
           },
           "bgcolor": "#E5ECF6",
           "caxis": {
            "gridcolor": "white",
            "linecolor": "white",
            "ticks": ""
           }
          },
          "title": {
           "x": 0.05
          },
          "xaxis": {
           "automargin": true,
           "gridcolor": "white",
           "linecolor": "white",
           "ticks": "",
           "title": {
            "standoff": 15
           },
           "zerolinecolor": "white",
           "zerolinewidth": 2
          },
          "yaxis": {
           "automargin": true,
           "gridcolor": "white",
           "linecolor": "white",
           "ticks": "",
           "title": {
            "standoff": 15
           },
           "zerolinecolor": "white",
           "zerolinewidth": 2
          }
         }
        },
        "title": {
         "text": "Test Name vs Test Name"
        },
        "xaxis": {
         "anchor": "y",
         "domain": [
          0,
          1
         ],
         "title": {
          "text": "Test Name"
         }
        },
        "yaxis": {
         "anchor": "x",
         "domain": [
          0,
          1
         ],
         "title": {
          "text": "Test Name"
         }
        }
       }
      }
     },
     "metadata": {},
     "output_type": "display_data"
    },
    {
     "data": {
      "application/vnd.jupyter.widget-view+json": {
       "model_id": "6d7a62131a664788bb759b71252024c0",
       "version_major": 2,
       "version_minor": 0
      },
      "text/plain": [
       "interactive(children=(Dropdown(description='x', options=('Test Name', 'Timestamp', 'Test Type', 'Distance', 'A…"
      ]
     },
     "metadata": {},
     "output_type": "display_data"
    }
   ],
   "source": [
    "\n",
    "# init commits\n",
    "scenarios = []\n",
    "def extract_scenarios_from_text_files(directory):\n",
    "    for root, dirs, files in os.walk(directory):\n",
    "        for dir in dirs:\n",
    "            source_dir = os.path.join(root, dir)\n",
    "            for file in os.listdir(source_dir):\n",
    "                print(file)\n",
    "                if file.endswith('.txt'):\n",
    "                    file_path = os.path.join(source_dir, file)\n",
    "                    try:\n",
    "                        scenario = Scenario(file_path)\n",
    "                        scenarios.append(scenario)\n",
    "                    except Exception as e:\n",
    "                        print(f\"An error occurred while processing {file_path}: {e}\")\n",
    "                        continue\n",
    "    return scenarios\n",
    "\n",
    "def scenarios_to_dataframe(scenarios):\n",
    "    data_dicts = [scenario.to_dict() for scenario in scenarios]\n",
    "    return pd.DataFrame(data_dicts)\n",
    "\n",
    "def plot_interactive(df):\n",
    "    def update_plot(x, y):\n",
    "        fig = px.scatter(df, x=x, y=y, title=f'{x} vs {y}', labels={x: x, y: y})\n",
    "        fig.show()\n",
    "\n",
    "    columns = df.columns\n",
    "    interact(update_plot, x=columns, y=columns)\n",
    "\n",
    "# Example usage\n",
    "logs_directory = r'data\\coaxial'\n",
    "scenarios = extract_scenarios_from_text_files(logs_directory)\n",
    "data_frame = scenarios_to_dataframe(scenarios)\n",
    "print(data_frame)\n",
    "\n",
    "if not data_frame.empty:\n",
    "    plot_interactive(data_frame)\n",
    "else:\n",
    "    print(\"No data available for plotting.\")\n"
   ]
  },
  {
   "cell_type": "code",
   "execution_count": 7,
   "metadata": {},
   "outputs": [
    {
     "data": {
      "text/plain": [
       "{'Test Name': 'coaxial_txpwr0_1Mhz_50dBm_combined',\n",
       " 'Timestamp': 'Sat 11 May 2024 01:35:41 AM -05',\n",
       " 'Test Type': 'coaxial',\n",
       " 'Distance': 'null',\n",
       " 'Attenuation (dBm)': 50,\n",
       " 'Propagation': 'LoS',\n",
       " 'Bandwidth': '1M',\n",
       " 'Frequency': '8675',\n",
       " 'MCS': 4,\n",
       " 'Rate Control': 'on',\n",
       " 'Guard Interval': 'long',\n",
       " 'TX Gain': 0,\n",
       " 'RX iPerf Bitrate (Mbits/sec)': 1.15,\n",
       " 'TX iPerf Bitrate (Mbits/sec)': 1.18,\n",
       " 'Receiver Lost/Total Datagrams': '0/2540',\n",
       " 'Jitter (ms)': 15.064,\n",
       " 'Receiver BER (%)': 0.0,\n",
       " 'RSSI Sequence': [-90,\n",
       "  -90,\n",
       "  -90,\n",
       "  -90,\n",
       "  -90,\n",
       "  -90,\n",
       "  -90,\n",
       "  -90,\n",
       "  -90,\n",
       "  -90,\n",
       "  -90,\n",
       "  -90,\n",
       "  -90,\n",
       "  -90,\n",
       "  -90,\n",
       "  -90,\n",
       "  -90,\n",
       "  -90,\n",
       "  -90,\n",
       "  -90],\n",
       " 'SNR Sequence': [17,\n",
       "  18,\n",
       "  17,\n",
       "  18,\n",
       "  18,\n",
       "  17,\n",
       "  17,\n",
       "  17,\n",
       "  17,\n",
       "  17,\n",
       "  18,\n",
       "  17,\n",
       "  17,\n",
       "  18,\n",
       "  17,\n",
       "  17,\n",
       "  17,\n",
       "  17,\n",
       "  17,\n",
       "  18],\n",
       " 'RSSI Median': -90.0,\n",
       " 'SNR Median': 17.0,\n",
       " 'Total Gain': -50}"
      ]
     },
     "execution_count": 7,
     "metadata": {},
     "output_type": "execute_result"
    }
   ],
   "source": [
    "scenarios[0].to_dict()"
   ]
  }
 ],
 "metadata": {
  "kernelspec": {
   "display_name": "Python 3",
   "language": "python",
   "name": "python3"
  },
  "language_info": {
   "codemirror_mode": {
    "name": "ipython",
    "version": 3
   },
   "file_extension": ".py",
   "mimetype": "text/x-python",
   "name": "python",
   "nbconvert_exporter": "python",
   "pygments_lexer": "ipython3",
   "version": "3.11.9"
  }
 },
 "nbformat": 4,
 "nbformat_minor": 2
}
