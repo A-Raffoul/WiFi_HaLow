{
 "cells": [
  {
   "cell_type": "code",
   "execution_count": 1,
   "metadata": {},
   "outputs": [],
   "source": [
    "# Importing the libraries\n",
    "import pandas as pd\n",
    "import matplotlib.pyplot as plt\n",
    "import seaborn as sns\n",
    "import os\n",
    "import plotly.graph_objects as go\n",
    "from scenario import*\n",
    "import plotly.express as px\n",
    "from ipywidgets import interact, interactive, fixed, interact_manual"
   ]
  },
  {
   "cell_type": "code",
   "execution_count": 22,
   "metadata": {},
   "outputs": [],
   "source": [
    "scenarios = []\n",
    "def extract_scenarios_from_text_files(directory):\n",
    "    for root, dirs, files in os.walk(directory):\n",
    "        for dir in dirs:\n",
    "            source_dir = os.path.join(root, dir)\n",
    "            for file in os.listdir(source_dir):\n",
    "                print(file)\n",
    "                if file.endswith('.txt'):\n",
    "                    file_path = os.path.join(source_dir, file)\n",
    "                    try:\n",
    "                        scenario = Scenario(file_path)\n",
    "                        scenarios.append(scenario)\n",
    "                    except Exception as e:\n",
    "                        print(f\"An error occurred while processing {file_path}: {e}\")\n",
    "                        continue\n",
    "    return scenarios\n",
    "\n",
    "def scenarios_to_dataframe(scenarios):\n",
    "    data_dicts = [scenario.to_dict() for scenario in scenarios]\n",
    "    return pd.DataFrame(data_dicts)\n",
    "\n",
    "def plot_interactive(df):\n",
    "    def update_plot(x, y):\n",
    "        fig = px.scatter(df, x=x, y=y, title=f'{x} vs {y}', labels={x: x, y: y})\n",
    "        fig.show()\n",
    "\n",
    "    columns = df.columns\n",
    "    interact(update_plot, x=columns, y=columns)\n",
    "\n"
   ]
  },
  {
   "cell_type": "code",
   "execution_count": 1,
   "metadata": {},
   "outputs": [
    {
     "ename": "NameError",
     "evalue": "name 'extract_scenarios_from_text_files' is not defined",
     "output_type": "error",
     "traceback": [
      "\u001b[1;31m---------------------------------------------------------------------------\u001b[0m",
      "\u001b[1;31mNameError\u001b[0m                                 Traceback (most recent call last)",
      "Cell \u001b[1;32mIn[1], line 3\u001b[0m\n\u001b[0;32m      1\u001b[0m \u001b[38;5;66;03m# Example usage\u001b[39;00m\n\u001b[0;32m      2\u001b[0m logs_directory \u001b[38;5;241m=\u001b[39m \u001b[38;5;124mr\u001b[39m\u001b[38;5;124m'\u001b[39m\u001b[38;5;124mdata\u001b[39m\u001b[38;5;124m\\\u001b[39m\u001b[38;5;124mcoaxial\u001b[39m\u001b[38;5;124m'\u001b[39m\n\u001b[1;32m----> 3\u001b[0m scenarios \u001b[38;5;241m=\u001b[39m \u001b[43mextract_scenarios_from_text_files\u001b[49m(logs_directory)\n\u001b[0;32m      4\u001b[0m data_frame \u001b[38;5;241m=\u001b[39m scenarios_to_dataframe(scenarios)\n\u001b[0;32m      6\u001b[0m \u001b[38;5;28;01mif\u001b[39;00m \u001b[38;5;129;01mnot\u001b[39;00m data_frame\u001b[38;5;241m.\u001b[39mempty:\n",
      "\u001b[1;31mNameError\u001b[0m: name 'extract_scenarios_from_text_files' is not defined"
     ]
    }
   ],
   "source": [
    "\n",
    "# Example usage\n",
    "logs_directory = r'data\\coaxial'\n",
    "scenarios = extract_scenarios_from_text_files(logs_directory)\n",
    "data_frame = scenarios_to_dataframe(scenarios)\n",
    "\n",
    "if not data_frame.empty:\n",
    "    plot_interactive(data_frame)\n",
    "else:\n",
    "    print(\"No data available for plotting.\")"
   ]
  },
  {
   "cell_type": "code",
   "execution_count": 23,
   "metadata": {},
   "outputs": [
    {
     "name": "stdout",
     "output_type": "stream",
     "text": [
      "BC_tests\n",
      "CO_tests\n",
      "BC_tests\n",
      "CO_tests\n",
      "point_floor_1_1Mhz_indoor_1621.txt\n",
      "point_floor_2_1Mhz_indoor_1624.txt\n",
      "point_floor_2_1Mhz_indoor_1637.txt\n",
      "point_floor_2_1Mhz_indoor_1638.txt\n",
      "point_floor_2_1Mhz_indoor_1640.txt\n",
      "point_floor_3_1Mhz_indoor_1629.txt\n",
      "point_floor_3_1Mhz_indoor_1631.txt\n",
      "point_floor_4_1Mhz_indoor_1644.txt\n",
      "point_floor_4_mv_1Mhz_indoor_1645.txt\n",
      "point_A_1Mhz_indoor_1544.txt\n",
      "point_B_1Mhz_indoor_1547.txt\n",
      "point_C_1Mhz_indoor_1550.txt\n",
      "point_C_1Mhz_indoor_1552.txt\n",
      "point_D_1Mhz_indoor_1554.txt\n",
      "point_D_1Mhz_indoor_1557.txt\n",
      "point_E_1Mhz_indoor_1600.txt\n",
      "point_E_1Mhz_indoor_1605.txt\n",
      "point_E_fixed_10_1Mhz_indoor_1615.txt\n",
      "point_floor_0_2Mhz_indoor_1621.txt\n",
      "point_floor_1_2Mhz_indoor_1625.txt\n",
      "point_floor_1_2Mhz_indoor_1627.txt\n",
      "point_floor_1_2Mhz_indoor_1628.txt\n",
      "point_floor_1_2Mhz_indoor_1646.txt\n",
      "point_floor_1_mov_2Mhz_indoor_1648.txt\n",
      "point_floor_2_2Mhz_indoor_1651.txt\n",
      "point_floor_2_mov_2Mhz_indoor_1653.txt\n",
      "point_floor_3_2Mhz_indoor_1656.txt\n",
      "point_floor_3_mov_2Mhz_indoor_1657.txt\n",
      "point_floor_4_2Mhz_indoor_1701.txt\n",
      "point_floor_4_mov_2Mhz_indoor_1702.txt\n",
      "point_A_2Mhz_indoor_1638.txt\n",
      "point_B_2Mhz_indoor_1640.txt\n",
      "point_B_mov_2Mhz_indoor_1644.txt\n",
      "point_C_2Mhz_indoor_1646.txt\n",
      "point_C_mov_2Mhz_indoor_1647.txt\n",
      "point_D_2Mhz_indoor_1704.txt\n",
      "point_D_mov_2Mhz_indoor_1705.txt\n",
      "point_E_2Mhz_indoor_1652.txt\n",
      "success extracting scenarios for indoor setting\n"
     ]
    }
   ],
   "source": [
    "# Extracting of scenarios from indoor logs\n",
    "\n",
    "indoor_directory = r'data\\indoor\\logs'\n",
    "\n",
    "scenarios_indoor = extract_scenarios_from_text_files(indoor_directory)\n",
    "\n",
    "scenarios_indoor_1M = []\n",
    "scenarios_indoor_2M = []\n",
    "for scenario in scenarios_indoor:\n",
    "    if scenario.bandwidth == '1M':\n",
    "        scenarios_indoor_1M.append(scenario)\n",
    "    elif scenario.bandwidth == '2M':\n",
    "        scenarios_indoor_2M.append(scenario)\n",
    "\n",
    "print('success extracting scenarios for indoor setting')"
   ]
  },
  {
   "cell_type": "code",
   "execution_count": 29,
   "metadata": {},
   "outputs": [
    {
     "data": {
      "image/png": "[encoded data removed]",
      "text/plain": [
       "<Figure size 640x480 with 1 Axes>"
      ]
     },
     "metadata": {},
     "output_type": "display_data"
    },
    {
     "name": "stdout",
     "output_type": "stream",
     "text": [
      "[4, 2, 4, 4, 3, 4, 2, 2, 1, 7, 6, 4, 4, 1, 1, 1, 1, 10]\n",
      "[7, 1, 2, 1, 3, 2, 4, 2, 1, 2, 0, 1, 7, 7, 6, 2, 3, 2, 2, 1]\n"
     ]
    }
   ],
   "source": [
    "mcs_1m =[]\n",
    "tx_rate_1m = []\n",
    "mcs_2m =[]\n",
    "tx_rate_2m = []\n",
    "\n",
    "for scenario in scenarios_indoor_1M:\n",
    "    mcs_1m.append(scenario.walls)\n",
    "    tx_rate_1m.append(scenario.mcs)\n",
    "\n",
    "for scenario in scenarios_indoor_2M:\n",
    "    mcs_2m.append(scenario.walls)\n",
    "    tx_rate_2m.append(scenario.mcs)\n",
    "\n",
    "plt.scatter(mcs_1m, tx_rate_1m, color='blue')\n",
    "plt.scatter(mcs_2m, tx_rate_2m, color='red')\n",
    "plt.xlabel('RSSI')\n",
    "plt.ylabel('TX Rate')\n",
    "plt.title('MCS vs TX Rate for 1 | 2 Bandwidth')\n",
    "\n",
    "plt.show()\n",
    "\n",
    "print(tx_rate_1m)\n",
    "print(tx_rate_2m)"
   ]
  }
 ],
 "metadata": {
  "kernelspec": {
   "display_name": "Python 3",
   "language": "python",
   "name": "python3"
  },
  "language_info": {
   "codemirror_mode": {
    "name": "ipython",
    "version": 3
   },
   "file_extension": ".py",
   "mimetype": "text/x-python",
   "name": "python",
   "nbconvert_exporter": "python",
   "pygments_lexer": "ipython3",
   "version": "3.11.9"
  }
 },
 "nbformat": 4,
 "nbformat_minor": 2
}
