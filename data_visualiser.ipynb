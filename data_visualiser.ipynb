{
 "cells": [
  {
   "cell_type": "code",
   "execution_count": 1,
   "metadata": {},
   "outputs": [
    {
     "name": "stderr",
     "output_type": "stream",
     "text": [
      "/var/folders/xl/w9r1w1ps1bscvq8ybsfntfqr0000gn/T/ipykernel_4362/1973112955.py:2: DeprecationWarning: \n",
      "Pyarrow will become a required dependency of pandas in the next major release of pandas (pandas 3.0),\n",
      "(to allow more performant data types, such as the Arrow string type, and better interoperability with other libraries)\n",
      "but was not found to be installed on your system.\n",
      "If this would cause problems for you,\n",
      "please provide us feedback at https://github.com/pandas-dev/pandas/issues/54466\n",
      "        \n",
      "  import pandas as pd\n"
     ]
    }
   ],
   "source": [
    "# Importing the libraries\n",
    "import pandas as pd\n",
    "import matplotlib.pyplot as plt\n",
    "import seaborn as sns\n",
    "import os\n",
    "import plotly.graph_objects as go\n",
    "from scenario import*\n",
    "import plotly.express as px\n",
    "from ipywidgets import interact, interactive, fixed, interact_manual"
   ]
  },
  {
   "cell_type": "code",
   "execution_count": 4,
   "metadata": {},
   "outputs": [
    {
     "name": "stdout",
     "output_type": "stream",
     "text": [
      "results_60dBm_STA_1MHz\n",
      "results_70dBm_STA_1MHz\n",
      "results_50dBm_STA_2MHz\n",
      "results_70dBm_STA_2MHz\n",
      "results_50dBm_STA_1MHz\n",
      "results_60dBm_STA_2MHz\n",
      "results_60dBm_STA_1MHz\n",
      "results_70dBm_STA_1MHz\n",
      "results_50dBm_STA_2MHz\n",
      "results_70dBm_STA_2MHz\n",
      "results_50dBm_STA_1MHz\n",
      "results_60dBm_STA_2MHz\n",
      "coaxial_txpwr18_1Mhz_60dBm_combined.log\n",
      "coaxial_txpwr2_1Mhz_60dBm_combined.log\n",
      "coaxial_txpwr17_1Mhz_60dBm_combined.log\n",
      "coaxial_txpwr6_1Mhz_60dBm_combined.log\n",
      "coaxial_txpwr13_1Mhz_60dBm_combined.log\n",
      "coaxial_txpwr9_1Mhz_60dBm_combined.log\n",
      "coaxial_txpwr5_1Mhz_60dBm_combined.log\n",
      "coaxial_txpwr10_1Mhz_60dBm_combined.log\n",
      "coaxial_txpwr1_1Mhz_60dBm_combined.log\n",
      "coaxial_txpwr14_1Mhz_60dBm_combined.log\n",
      "coaxial_txpwr8_1Mhz_60dBm_combined.log\n",
      "coaxial_txpwr12_1Mhz_60dBm_combined.log\n",
      "coaxial_txpwr7_1Mhz_60dBm_combined.log\n",
      "coaxial_txpwr16_1Mhz_60dBm_combined.log\n",
      "coaxial_txpwr3_1Mhz_60dBm_combined.log\n",
      "coaxial_txpwr19_1Mhz_60dBm_combined.log\n",
      "coaxial_txpwr15_1Mhz_60dBm_combined.log\n",
      "coaxial_txpwr0_1Mhz_60dBm_combined.log\n",
      "coaxial_txpwr20_1Mhz_60dBm_combined.log\n",
      "coaxial_txpwr11_1Mhz_60dBm_combined.log\n",
      "coaxial_txpwr4_1Mhz_60dBm_combined.log\n",
      "coaxial_txpwr10_1Mhz_70dBm_combined.log\n",
      "coaxial_txpwr14_1Mhz_70dBm_combined.log\n",
      "coaxial_txpwr17_1Mhz_70dBm_combined.log\n",
      "coaxial_txpwr18_1Mhz_70dBm_combined.log\n",
      "coaxial_txpwr9_1Mhz_70dBm_combined.log\n",
      "coaxial_txpwr13_1Mhz_70dBm_combined.log\n",
      "coaxial_txpwr6_1Mhz_70dBm_combined.log\n",
      "coaxial_txpwr15_1Mhz_70dBm_combined.log\n",
      "coaxial_txpwr11_1Mhz_70dBm_combined.log\n",
      "coaxial_txpwr20_1Mhz_70dBm_combined.log\n",
      "coaxial_txpwr7_1Mhz_70dBm_combined.log\n",
      "coaxial_txpwr12_1Mhz_70dBm_combined.log\n",
      "coaxial_txpwr8_1Mhz_70dBm_combined.log\n",
      "coaxial_txpwr19_1Mhz_70dBm_combined.log\n",
      "coaxial_txpwr16_1Mhz_70dBm_combined.log\n",
      "coaxial_txpwr14_2Mhz_50dBm_combined.log\n",
      "coaxial_txpwr1_2Mhz_50dBm_combined.log\n",
      "coaxial_txpwr10_2Mhz_50dBm_combined.log\n",
      "coaxial_txpwr5_2Mhz_50dBm_combined.log\n",
      "coaxial_txpwr9_2Mhz_50dBm_combined.log\n",
      "coaxial_txpwr13_2Mhz_50dBm_combined.log\n",
      "coaxial_txpwr6_2Mhz_50dBm_combined.log\n",
      "coaxial_txpwr17_2Mhz_50dBm_combined.log\n",
      "coaxial_txpwr2_2Mhz_50dBm_combined.log\n",
      "coaxial_txpwr18_2Mhz_50dBm_combined.log\n",
      "coaxial_txpwr4_2Mhz_50dBm_combined.log\n",
      "coaxial_txpwr11_2Mhz_50dBm_combined.log\n",
      "coaxial_txpwr20_2Mhz_50dBm_combined.log\n",
      "coaxial_txpwr0_2Mhz_50dBm_combined.log\n",
      "coaxial_txpwr15_2Mhz_50dBm_combined.log\n",
      "coaxial_txpwr19_2Mhz_50dBm_combined.log\n",
      "coaxial_txpwr3_2Mhz_50dBm_combined.log\n",
      "coaxial_txpwr16_2Mhz_50dBm_combined.log\n",
      "coaxial_txpwr7_2Mhz_50dBm_combined.log\n",
      "coaxial_txpwr12_2Mhz_50dBm_combined.log\n",
      "coaxial_txpwr8_2Mhz_50dBm_combined.log\n",
      "coaxial_txpwr20_2Mhz_70dBm_combined.log\n",
      "coaxial_txpwr11_2Mhz_70dBm_combined.log\n",
      "coaxial_txpwr4_2Mhz_70dBm_combined.log\n",
      "coaxial_txpwr15_2Mhz_70dBm_combined.log\n",
      "coaxial_txpwr0_2Mhz_70dBm_combined.log\n",
      "coaxial_txpwr16_2Mhz_70dBm_combined.log\n",
      "coaxial_txpwr3_2Mhz_70dBm_combined.log\n",
      "coaxial_txpwr19_2Mhz_70dBm_combined.log\n",
      "coaxial_txpwr8_2Mhz_70dBm_combined.log\n",
      "coaxial_txpwr12_2Mhz_70dBm_combined.log\n",
      "coaxial_txpwr7_2Mhz_70dBm_combined.log\n",
      "coaxial_txpwr1_2Mhz_70dBm_combined.log\n",
      "coaxial_txpwr14_2Mhz_70dBm_combined.log\n",
      "coaxial_txpwr5_2Mhz_70dBm_combined.log\n",
      "coaxial_txpwr10_2Mhz_70dBm_combined.log\n",
      "coaxial_txpwr6_2Mhz_70dBm_combined.log\n",
      "coaxial_txpwr13_2Mhz_70dBm_combined.log\n",
      "coaxial_txpwr9_2Mhz_70dBm_combined.log\n",
      "coaxial_txpwr18_2Mhz_70dBm_combined.log\n",
      "coaxial_txpwr2_2Mhz_70dBm_combined.log\n",
      "coaxial_txpwr17_2Mhz_70dBm_combined.log\n",
      "coaxial_txpwr15_1Mhz_50dBm_combined.log\n",
      "coaxial_txpwr0_1Mhz_50dBm_combined.log\n",
      "coaxial_txpwr20_1Mhz_50dBm_combined.log\n",
      "coaxial_txpwr11_1Mhz_50dBm_combined.log\n",
      "coaxial_txpwr4_1Mhz_50dBm_combined.log\n",
      "coaxial_txpwr8_1Mhz_50dBm_combined.log\n",
      "coaxial_txpwr12_1Mhz_50dBm_combined.log\n",
      "coaxial_txpwr7_1Mhz_50dBm_combined.log\n",
      "coaxial_txpwr16_1Mhz_50dBm_combined.log\n",
      "coaxial_txpwr3_1Mhz_50dBm_combined.log\n",
      "coaxial_txpwr19_1Mhz_50dBm_combined.log\n",
      "coaxial_txpwr5_1Mhz_50dBm_combined.log\n",
      "coaxial_txpwr10_1Mhz_50dBm_combined.log\n",
      "coaxial_txpwr1_1Mhz_50dBm_combined.log\n",
      "coaxial_txpwr14_1Mhz_50dBm_combined.log\n",
      "coaxial_txpwr18_1Mhz_50dBm_combined.log\n",
      "coaxial_txpwr2_1Mhz_50dBm_combined.log\n",
      "coaxial_txpwr17_1Mhz_50dBm_combined.log\n",
      "coaxial_txpwr6_1Mhz_50dBm_combined.log\n",
      "coaxial_txpwr13_1Mhz_50dBm_combined.log\n",
      "coaxial_txpwr9_1Mhz_50dBm_combined.log\n",
      "coaxial_txpwr19_2Mhz_60dBm_combined.log\n",
      "coaxial_txpwr3_2Mhz_60dBm_combined.log\n",
      "coaxial_txpwr16_2Mhz_60dBm_combined.log\n",
      "coaxial_txpwr7_2Mhz_60dBm_combined.log\n",
      "coaxial_txpwr12_2Mhz_60dBm_combined.log\n",
      "coaxial_txpwr8_2Mhz_60dBm_combined.log\n",
      "coaxial_txpwr4_2Mhz_60dBm_combined.log\n",
      "coaxial_txpwr11_2Mhz_60dBm_combined.log\n",
      "coaxial_txpwr20_2Mhz_60dBm_combined.log\n",
      "coaxial_txpwr0_2Mhz_60dBm_combined.log\n",
      "coaxial_txpwr15_2Mhz_60dBm_combined.log\n",
      "coaxial_txpwr9_2Mhz_60dBm_combined.log\n",
      "coaxial_txpwr13_2Mhz_60dBm_combined.log\n",
      "coaxial_txpwr6_2Mhz_60dBm_combined.log\n",
      "coaxial_txpwr17_2Mhz_60dBm_combined.log\n",
      "coaxial_txpwr2_2Mhz_60dBm_combined.log\n",
      "coaxial_txpwr18_2Mhz_60dBm_combined.log\n",
      "coaxial_txpwr14_2Mhz_60dBm_combined.log\n",
      "coaxial_txpwr1_2Mhz_60dBm_combined.log\n",
      "coaxial_txpwr10_2Mhz_60dBm_combined.log\n",
      "coaxial_txpwr5_2Mhz_60dBm_combined.log\n",
      "coaxial_txpwr13_1Mhz_60dBm.txt\n",
      "coaxial_txpwr14_1Mhz_60dBm.txt\n",
      "coaxial_txpwr15_1Mhz_60dBm.txt\n",
      "coaxial_txpwr12_1Mhz_60dBm.txt\n",
      "coaxial_txpwr18_1Mhz_60dBm.txt\n",
      "coaxial_txpwr10_1Mhz_60dBm.txt\n",
      "coaxial_txpwr17_1Mhz_60dBm.txt\n",
      "coaxial_txpwr16_1Mhz_60dBm.txt\n",
      "coaxial_txpwr11_1Mhz_60dBm.txt\n",
      "coaxial_txpwr19_1Mhz_60dBm.txt\n",
      "coaxial_txpwr4_1Mhz_60dBm.txt\n",
      "coaxial_txpwr3_1Mhz_60dBm.txt\n",
      "coaxial_txpwr2_1Mhz_60dBm.txt\n",
      "coaxial_txpwr5_1Mhz_60dBm.txt\n",
      "coaxial_txpwr7_1Mhz_60dBm.txt\n",
      "coaxial_txpwr0_1Mhz_60dBm.txt\n",
      "coaxial_txpwr8_1Mhz_60dBm.txt\n",
      "coaxial_txpwr20_1Mhz_60dBm.txt\n",
      "An error occurred while processing /Users/francesco/Library/CloudStorage/OneDrive-epfl.ch/MA2/Semester Project/DATA/WiFi_HaLow/data/coaxial/logs/results_60dBm_STA_1MHz/coaxial_txpwr20_1Mhz_60dBm.txt: invalid literal for int() with base 10: 'None'\n",
      "coaxial_txpwr9_1Mhz_60dBm.txt\n",
      "coaxial_txpwr1_1Mhz_60dBm.txt\n",
      "coaxial_txpwr6_1Mhz_60dBm.txt\n",
      "coaxial_txpwr12_1Mhz_70dBm.txt\n",
      "coaxial_txpwr15_1Mhz_70dBm.txt\n",
      "coaxial_txpwr14_1Mhz_70dBm.txt\n",
      "coaxial_txpwr13_1Mhz_70dBm.txt\n",
      "coaxial_txpwr11_1Mhz_70dBm.txt\n",
      "coaxial_txpwr19_1Mhz_70dBm.txt\n",
      "coaxial_txpwr16_1Mhz_70dBm.txt\n",
      "coaxial_txpwr17_1Mhz_70dBm.txt\n",
      "coaxial_txpwr18_1Mhz_70dBm.txt\n",
      "coaxial_txpwr10_1Mhz_70dBm.txt\n",
      "coaxial_txpwr20_1Mhz_70dBm.txt\n",
      "coaxial_txpwr9_1Mhz_70dBm.txt\n",
      "coaxial_txpwr8_1Mhz_70dBm.txt\n",
      "coaxial_txpwr7_1Mhz_70dBm.txt\n",
      "coaxial_txpwr3_2Mhz_50dBm.txt\n",
      "coaxial_txpwr4_2Mhz_50dBm.txt\n",
      "coaxial_txpwr5_2Mhz_50dBm.txt\n",
      "coaxial_txpwr2_2Mhz_50dBm.txt\n",
      "coaxial_txpwr8_2Mhz_50dBm.txt\n",
      "coaxial_txpwr0_2Mhz_50dBm.txt\n",
      "coaxial_txpwr7_2Mhz_50dBm.txt\n",
      "coaxial_txpwr6_2Mhz_50dBm.txt\n",
      "coaxial_txpwr1_2Mhz_50dBm.txt\n",
      "coaxial_txpwr9_2Mhz_50dBm.txt\n",
      "coaxial_txpwr20_2Mhz_50dBm.txt\n",
      "coaxial_txpwr14_2Mhz_50dBm.txt\n",
      "coaxial_txpwr13_2Mhz_50dBm.txt\n",
      "coaxial_txpwr12_2Mhz_50dBm.txt\n",
      "coaxial_txpwr15_2Mhz_50dBm.txt\n",
      "coaxial_txpwr17_2Mhz_50dBm.txt\n",
      "coaxial_txpwr10_2Mhz_50dBm.txt\n",
      "coaxial_txpwr18_2Mhz_50dBm.txt\n",
      "coaxial_txpwr19_2Mhz_50dBm.txt\n",
      "coaxial_txpwr11_2Mhz_50dBm.txt\n",
      "coaxial_txpwr16_2Mhz_50dBm.txt\n",
      "coaxial_txpwr6_2Mhz_70dBm.txt\n",
      "An error occurred while processing /Users/francesco/Library/CloudStorage/OneDrive-epfl.ch/MA2/Semester Project/DATA/WiFi_HaLow/data/coaxial/logs/results_70dBm_STA_2MHz/coaxial_txpwr6_2Mhz_70dBm.txt: could not convert string to float: 'None'\n",
      "coaxial_txpwr1_2Mhz_70dBm.txt\n",
      "An error occurred while processing /Users/francesco/Library/CloudStorage/OneDrive-epfl.ch/MA2/Semester Project/DATA/WiFi_HaLow/data/coaxial/logs/results_70dBm_STA_2MHz/coaxial_txpwr1_2Mhz_70dBm.txt: could not convert string to float: 'None'\n",
      "coaxial_txpwr20_2Mhz_70dBm.txt\n",
      "coaxial_txpwr9_2Mhz_70dBm.txt\n",
      "coaxial_txpwr8_2Mhz_70dBm.txt\n",
      "coaxial_txpwr0_2Mhz_70dBm.txt\n",
      "An error occurred while processing /Users/francesco/Library/CloudStorage/OneDrive-epfl.ch/MA2/Semester Project/DATA/WiFi_HaLow/data/coaxial/logs/results_70dBm_STA_2MHz/coaxial_txpwr0_2Mhz_70dBm.txt: could not convert string to float: 'None'\n",
      "coaxial_txpwr7_2Mhz_70dBm.txt\n",
      "An error occurred while processing /Users/francesco/Library/CloudStorage/OneDrive-epfl.ch/MA2/Semester Project/DATA/WiFi_HaLow/data/coaxial/logs/results_70dBm_STA_2MHz/coaxial_txpwr7_2Mhz_70dBm.txt: could not convert string to float: 'None'\n",
      "coaxial_txpwr5_2Mhz_70dBm.txt\n",
      "An error occurred while processing /Users/francesco/Library/CloudStorage/OneDrive-epfl.ch/MA2/Semester Project/DATA/WiFi_HaLow/data/coaxial/logs/results_70dBm_STA_2MHz/coaxial_txpwr5_2Mhz_70dBm.txt: could not convert string to float: 'None'\n",
      "coaxial_txpwr2_2Mhz_70dBm.txt\n",
      "An error occurred while processing /Users/francesco/Library/CloudStorage/OneDrive-epfl.ch/MA2/Semester Project/DATA/WiFi_HaLow/data/coaxial/logs/results_70dBm_STA_2MHz/coaxial_txpwr2_2Mhz_70dBm.txt: could not convert string to float: 'None'\n",
      "coaxial_txpwr3_2Mhz_70dBm.txt\n",
      "An error occurred while processing /Users/francesco/Library/CloudStorage/OneDrive-epfl.ch/MA2/Semester Project/DATA/WiFi_HaLow/data/coaxial/logs/results_70dBm_STA_2MHz/coaxial_txpwr3_2Mhz_70dBm.txt: could not convert string to float: 'None'\n",
      "coaxial_txpwr4_2Mhz_70dBm.txt\n",
      "An error occurred while processing /Users/francesco/Library/CloudStorage/OneDrive-epfl.ch/MA2/Semester Project/DATA/WiFi_HaLow/data/coaxial/logs/results_70dBm_STA_2MHz/coaxial_txpwr4_2Mhz_70dBm.txt: could not convert string to float: 'None'\n",
      "coaxial_txpwr19_2Mhz_70dBm.txt\n",
      "coaxial_txpwr11_2Mhz_70dBm.txt\n",
      "coaxial_txpwr16_2Mhz_70dBm.txt\n",
      "coaxial_txpwr17_2Mhz_70dBm.txt\n",
      "coaxial_txpwr10_2Mhz_70dBm.txt\n",
      "coaxial_txpwr18_2Mhz_70dBm.txt\n",
      "coaxial_txpwr12_2Mhz_70dBm.txt\n",
      "coaxial_txpwr15_2Mhz_70dBm.txt\n",
      "coaxial_txpwr14_2Mhz_70dBm.txt\n",
      "coaxial_txpwr13_2Mhz_70dBm.txt\n",
      "coaxial_txpwr17_1Mhz_50dBm.txt\n",
      "coaxial_txpwr18_1Mhz_50dBm.txt\n",
      "coaxial_txpwr10_1Mhz_50dBm.txt\n",
      "coaxial_txpwr11_1Mhz_50dBm.txt\n",
      "coaxial_txpwr19_1Mhz_50dBm.txt\n",
      "coaxial_txpwr16_1Mhz_50dBm.txt\n",
      "coaxial_txpwr14_1Mhz_50dBm.txt\n",
      "coaxial_txpwr13_1Mhz_50dBm.txt\n",
      "coaxial_txpwr12_1Mhz_50dBm.txt\n",
      "coaxial_txpwr15_1Mhz_50dBm.txt\n",
      "coaxial_txpwr0_1Mhz_50dBm.txt\n",
      "coaxial_txpwr8_1Mhz_50dBm.txt\n",
      "coaxial_txpwr7_1Mhz_50dBm.txt\n",
      "coaxial_txpwr6_1Mhz_50dBm.txt\n",
      "coaxial_txpwr9_1Mhz_50dBm.txt\n",
      "coaxial_txpwr20_1Mhz_50dBm.txt\n",
      "coaxial_txpwr1_1Mhz_50dBm.txt\n",
      "coaxial_txpwr3_1Mhz_50dBm.txt\n",
      "coaxial_txpwr4_1Mhz_50dBm.txt\n",
      "coaxial_txpwr5_1Mhz_50dBm.txt\n",
      "coaxial_txpwr2_1Mhz_50dBm.txt\n",
      "coaxial_txpwr7_2Mhz_60dBm.txt\n",
      "coaxial_txpwr8_2Mhz_60dBm.txt\n",
      "coaxial_txpwr0_2Mhz_60dBm.txt\n",
      "coaxial_txpwr1_2Mhz_60dBm.txt\n",
      "coaxial_txpwr20_2Mhz_60dBm.txt\n",
      "coaxial_txpwr9_2Mhz_60dBm.txt\n",
      "coaxial_txpwr6_2Mhz_60dBm.txt\n",
      "coaxial_txpwr4_2Mhz_60dBm.txt\n",
      "coaxial_txpwr3_2Mhz_60dBm.txt\n",
      "coaxial_txpwr2_2Mhz_60dBm.txt\n",
      "coaxial_txpwr5_2Mhz_60dBm.txt\n",
      "coaxial_txpwr10_2Mhz_60dBm.txt\n",
      "coaxial_txpwr18_2Mhz_60dBm.txt\n",
      "coaxial_txpwr17_2Mhz_60dBm.txt\n",
      "coaxial_txpwr16_2Mhz_60dBm.txt\n",
      "coaxial_txpwr19_2Mhz_60dBm.txt\n",
      "coaxial_txpwr11_2Mhz_60dBm.txt\n",
      "coaxial_txpwr13_2Mhz_60dBm.txt\n",
      "coaxial_txpwr14_2Mhz_60dBm.txt\n",
      "coaxial_txpwr15_2Mhz_60dBm.txt\n",
      "coaxial_txpwr12_2Mhz_60dBm.txt\n",
      "                               Test Name                         Timestamp  \\\n",
      "0    coaxial_txpwr13_1Mhz_60dBm_combined  Sat 11 May 2024 07:00:49 AM CEST   \n",
      "1    coaxial_txpwr14_1Mhz_60dBm_combined  Sat 11 May 2024 07:01:49 AM CEST   \n",
      "2    coaxial_txpwr15_1Mhz_60dBm_combined  Sat 11 May 2024 07:02:50 AM CEST   \n",
      "3    coaxial_txpwr12_1Mhz_60dBm_combined  Sat 11 May 2024 06:59:48 AM CEST   \n",
      "4    coaxial_txpwr18_1Mhz_60dBm_combined  Sat 11 May 2024 07:05:52 AM CEST   \n",
      "..                                   ...                               ...   \n",
      "105  coaxial_txpwr11_2Mhz_60dBm_combined   Sat 11 May 2024 02:35:37 AM -05   \n",
      "106  coaxial_txpwr13_2Mhz_60dBm_combined   Sat 11 May 2024 02:33:36 AM -05   \n",
      "107  coaxial_txpwr14_2Mhz_60dBm_combined   Sat 11 May 2024 02:32:36 AM -05   \n",
      "108  coaxial_txpwr15_2Mhz_60dBm_combined   Sat 11 May 2024 02:31:35 AM -05   \n",
      "109  coaxial_txpwr12_2Mhz_60dBm_combined   Sat 11 May 2024 02:34:37 AM -05   \n",
      "\n",
      "    Test Type Distance  Attenuation (dBm) Propagation Bandwidth Frequency  \\\n",
      "0     coaxial     null                 60         LoS        1M      8675   \n",
      "1     coaxial     null                 60         LoS        1M      8675   \n",
      "2     coaxial     null                 60         LoS        1M      8675   \n",
      "3     coaxial     null                 60         LoS        1M      8675   \n",
      "4     coaxial     null                 60         LoS        1M      8675   \n",
      "..        ...      ...                ...         ...       ...       ...   \n",
      "105   coaxial     null                 60         LoS        2M      8640   \n",
      "106   coaxial     null                 60         LoS        2M      8640   \n",
      "107   coaxial     null                 60         LoS        2M      8640   \n",
      "108   coaxial     null                 60         LoS        2M      8640   \n",
      "109   coaxial     null                 60         LoS        2M      8640   \n",
      "\n",
      "     MCS Rate Control Guard Interval  TX Gain  RX iPerf Bitrate (Mbits/sec)  \\\n",
      "0      4           on           long       13                          1.22   \n",
      "1      6           on           long       14                          1.27   \n",
      "2      7           on           long       15                          1.55   \n",
      "3      4           on           long       12                          1.16   \n",
      "4      7           on           long       18                          1.82   \n",
      "..   ...          ...            ...      ...                           ...   \n",
      "105    4           on           long       11                          2.30   \n",
      "106    4           on           long       13                          2.31   \n",
      "107    4           on           long       14                          2.33   \n",
      "108    6           on           long       15                          2.34   \n",
      "109    4           on           long       12                          2.30   \n",
      "\n",
      "     TX iPerf Bitrate (Mbits/sec) Receiver Lost/Total Datagrams  Jitter (ms)  \\\n",
      "0                            1.25                        0/2690       13.495   \n",
      "1                            1.30                        0/2800       16.585   \n",
      "2                            1.58                        0/3410       12.950   \n",
      "3                            1.19                        0/2560       14.985   \n",
      "4                            1.85                        0/3990        9.751   \n",
      "..                            ...                           ...          ...   \n",
      "105                          2.33                        0/5030        6.839   \n",
      "106                          2.34                        0/5050        8.042   \n",
      "107                          2.35                        0/5070        7.698   \n",
      "108                          2.37                        0/5120        7.627   \n",
      "109                          2.32                        0/5010        8.130   \n",
      "\n",
      "     Receiver BER (%)  RSSI Median  SNR Median  Total Gain  \n",
      "0                 0.0        -88.0        19.0         -47  \n",
      "1                 0.0        -88.0        20.0         -46  \n",
      "2                 0.0        -90.0        21.0         -45  \n",
      "3                 0.0        -89.0        18.0         -48  \n",
      "4                 0.0        -84.0        23.0         -42  \n",
      "..                ...          ...         ...         ...  \n",
      "105               0.0        -90.0        14.0         -49  \n",
      "106               0.0        -88.0        16.0         -47  \n",
      "107               0.0        -87.0        17.0         -46  \n",
      "108               0.0        -89.0        18.0         -45  \n",
      "109               0.0        -89.0        15.0         -48  \n",
      "\n",
      "[110 rows x 20 columns]\n"
     ]
    },
    {
     "data": {
      "application/vnd.plotly.v1+json": {
       "config": {
        "plotlyServerURL": "https://plot.ly"
       },
       "data": [
        {
         "hovertemplate": "Test Name=%{y}<extra></extra>",
         "legendgroup": "",
         "marker": {
          "color": "#636efa",
          "symbol": "circle"
         },
         "mode": "markers",
         "name": "",
         "orientation": "v",
         "showlegend": false,
         "type": "scatter",
         "x": [
          "coaxial_txpwr13_1Mhz_60dBm_combined",
          "coaxial_txpwr14_1Mhz_60dBm_combined",
          "coaxial_txpwr15_1Mhz_60dBm_combined",
          "coaxial_txpwr12_1Mhz_60dBm_combined",
          "coaxial_txpwr18_1Mhz_60dBm_combined",
          "coaxial_txpwr10_1Mhz_60dBm_combined",
          "coaxial_txpwr17_1Mhz_60dBm_combined",
          "coaxial_txpwr16_1Mhz_60dBm_combined",
          "coaxial_txpwr11_1Mhz_60dBm_combined",
          "coaxial_txpwr19_1Mhz_60dBm_combined",
          "coaxial_txpwr4_1Mhz_60dBm_combined",
          "coaxial_txpwr3_1Mhz_60dBm_combined",
          "coaxial_txpwr2_1Mhz_60dBm_combined",
          "coaxial_txpwr5_1Mhz_60dBm_combined",
          "coaxial_txpwr7_1Mhz_60dBm_combined",
          "coaxial_txpwr0_1Mhz_60dBm_combined",
          "coaxial_txpwr8_1Mhz_60dBm_combined",
          "coaxial_txpwr9_1Mhz_60dBm_combined",
          "coaxial_txpwr1_1Mhz_60dBm_combined",
          "coaxial_txpwr6_1Mhz_60dBm_combined",
          "coaxial_txpwr12_1Mhz_70dBm_combined",
          "coaxial_txpwr15_1Mhz_70dBm_combined",
          "coaxial_txpwr14_1Mhz_70dBm_combined",
          "coaxial_txpwr13_1Mhz_70dBm_combined",
          "coaxial_txpwr11_1Mhz_70dBm_combined",
          "coaxial_txpwr19_1Mhz_70dBm_combined",
          "coaxial_txpwr16_1Mhz_70dBm_combined",
          "coaxial_txpwr17_1Mhz_70dBm_combined",
          "coaxial_txpwr18_1Mhz_70dBm_combined",
          "coaxial_txpwr10_1Mhz_70dBm_combined",
          "coaxial_txpwr20_1Mhz_70dBm_combined",
          "coaxial_txpwr9_1Mhz_70dBm_combined",
          "coaxial_txpwr8_1Mhz_70dBm_combined",
          "coaxial_txpwr7_1Mhz_70dBm_combined",
          "coaxial_txpwr3_2Mhz_50dBm_combined",
          "coaxial_txpwr4_2Mhz_50dBm_combined",
          "coaxial_txpwr5_2Mhz_50dBm_combined",
          "coaxial_txpwr2_2Mhz_50dBm_combined",
          "coaxial_txpwr8_2Mhz_50dBm_combined",
          "coaxial_txpwr0_2Mhz_50dBm_combined",
          "coaxial_txpwr7_2Mhz_50dBm_combined",
          "coaxial_txpwr6_2Mhz_50dBm_combined",
          "coaxial_txpwr1_2Mhz_50dBm_combined",
          "coaxial_txpwr9_2Mhz_50dBm_combined",
          "coaxial_txpwr20_2Mhz_50dBm_combined",
          "coaxial_txpwr14_2Mhz_50dBm_combined",
          "coaxial_txpwr13_2Mhz_50dBm_combined",
          "coaxial_txpwr12_2Mhz_50dBm_combined",
          "coaxial_txpwr15_2Mhz_50dBm_combined",
          "coaxial_txpwr17_2Mhz_50dBm_combined",
          "coaxial_txpwr10_2Mhz_50dBm_combined",
          "coaxial_txpwr18_2Mhz_50dBm_combined",
          "coaxial_txpwr19_2Mhz_50dBm_combined",
          "coaxial_txpwr11_2Mhz_50dBm_combined",
          "coaxial_txpwr16_2Mhz_50dBm_combined",
          "coaxial_txpwr20_2Mhz_70dBm_combined",
          "coaxial_txpwr9_2Mhz_70dBm_combined",
          "coaxial_txpwr8_2Mhz_70dBm_combined",
          "coaxial_txpwr19_2Mhz_70dBm_combined",
          "coaxial_txpwr11_2Mhz_70dBm_combined",
          "coaxial_txpwr16_2Mhz_70dBm_combined",
          "coaxial_txpwr17_2Mhz_70dBm_combined",
          "coaxial_txpwr10_2Mhz_70dBm_combined",
          "coaxial_txpwr18_2Mhz_70dBm_combined",
          "coaxial_txpwr12_2Mhz_70dBm_combined",
          "coaxial_txpwr15_2Mhz_70dBm_combined",
          "coaxial_txpwr14_2Mhz_70dBm_combined",
          "coaxial_txpwr13_2Mhz_70dBm_combined",
          "coaxial_txpwr17_1Mhz_50dBm_combined",
          "coaxial_txpwr18_1Mhz_50dBm_combined",
          "coaxial_txpwr10_1Mhz_50dBm_combined",
          "coaxial_txpwr11_1Mhz_50dBm_combined",
          "coaxial_txpwr19_1Mhz_50dBm_combined",
          "coaxial_txpwr16_1Mhz_50dBm_combined",
          "coaxial_txpwr14_1Mhz_50dBm_combined",
          "coaxial_txpwr13_1Mhz_50dBm_combined",
          "coaxial_txpwr12_1Mhz_50dBm_combined",
          "coaxial_txpwr15_1Mhz_50dBm_combined",
          "coaxial_txpwr0_1Mhz_50dBm_combined",
          "coaxial_txpwr8_1Mhz_50dBm_combined",
          "coaxial_txpwr7_1Mhz_50dBm_combined",
          "coaxial_txpwr6_1Mhz_50dBm_combined",
          "coaxial_txpwr9_1Mhz_50dBm_combined",
          "coaxial_txpwr20_1Mhz_50dBm_combined",
          "coaxial_txpwr1_1Mhz_50dBm_combined",
          "coaxial_txpwr3_1Mhz_50dBm_combined",
          "coaxial_txpwr4_1Mhz_50dBm_combined",
          "coaxial_txpwr5_1Mhz_50dBm_combined",
          "coaxial_txpwr2_1Mhz_50dBm_combined",
          "coaxial_txpwr7_2Mhz_60dBm_combined",
          "coaxial_txpwr8_2Mhz_60dBm_combined",
          "coaxial_txpwr0_2Mhz_60dBm_combined",
          "coaxial_txpwr1_2Mhz_60dBm_combined",
          "coaxial_txpwr20_2Mhz_60dBm_combined",
          "coaxial_txpwr9_2Mhz_60dBm_combined",
          "coaxial_txpwr6_2Mhz_60dBm_combined",
          "coaxial_txpwr4_2Mhz_60dBm_combined",
          "coaxial_txpwr3_2Mhz_60dBm_combined",
          "coaxial_txpwr2_2Mhz_60dBm_combined",
          "coaxial_txpwr5_2Mhz_60dBm_combined",
          "coaxial_txpwr10_2Mhz_60dBm_combined",
          "coaxial_txpwr18_2Mhz_60dBm_combined",
          "coaxial_txpwr17_2Mhz_60dBm_combined",
          "coaxial_txpwr16_2Mhz_60dBm_combined",
          "coaxial_txpwr19_2Mhz_60dBm_combined",
          "coaxial_txpwr11_2Mhz_60dBm_combined",
          "coaxial_txpwr13_2Mhz_60dBm_combined",
          "coaxial_txpwr14_2Mhz_60dBm_combined",
          "coaxial_txpwr15_2Mhz_60dBm_combined",
          "coaxial_txpwr12_2Mhz_60dBm_combined"
         ],
         "xaxis": "x",
         "y": [
          "coaxial_txpwr13_1Mhz_60dBm_combined",
          "coaxial_txpwr14_1Mhz_60dBm_combined",
          "coaxial_txpwr15_1Mhz_60dBm_combined",
          "coaxial_txpwr12_1Mhz_60dBm_combined",
          "coaxial_txpwr18_1Mhz_60dBm_combined",
          "coaxial_txpwr10_1Mhz_60dBm_combined",
          "coaxial_txpwr17_1Mhz_60dBm_combined",
          "coaxial_txpwr16_1Mhz_60dBm_combined",
          "coaxial_txpwr11_1Mhz_60dBm_combined",
          "coaxial_txpwr19_1Mhz_60dBm_combined",
          "coaxial_txpwr4_1Mhz_60dBm_combined",
          "coaxial_txpwr3_1Mhz_60dBm_combined",
          "coaxial_txpwr2_1Mhz_60dBm_combined",
          "coaxial_txpwr5_1Mhz_60dBm_combined",
          "coaxial_txpwr7_1Mhz_60dBm_combined",
          "coaxial_txpwr0_1Mhz_60dBm_combined",
          "coaxial_txpwr8_1Mhz_60dBm_combined",
          "coaxial_txpwr9_1Mhz_60dBm_combined",
          "coaxial_txpwr1_1Mhz_60dBm_combined",
          "coaxial_txpwr6_1Mhz_60dBm_combined",
          "coaxial_txpwr12_1Mhz_70dBm_combined",
          "coaxial_txpwr15_1Mhz_70dBm_combined",
          "coaxial_txpwr14_1Mhz_70dBm_combined",
          "coaxial_txpwr13_1Mhz_70dBm_combined",
          "coaxial_txpwr11_1Mhz_70dBm_combined",
          "coaxial_txpwr19_1Mhz_70dBm_combined",
          "coaxial_txpwr16_1Mhz_70dBm_combined",
          "coaxial_txpwr17_1Mhz_70dBm_combined",
          "coaxial_txpwr18_1Mhz_70dBm_combined",
          "coaxial_txpwr10_1Mhz_70dBm_combined",
          "coaxial_txpwr20_1Mhz_70dBm_combined",
          "coaxial_txpwr9_1Mhz_70dBm_combined",
          "coaxial_txpwr8_1Mhz_70dBm_combined",
          "coaxial_txpwr7_1Mhz_70dBm_combined",
          "coaxial_txpwr3_2Mhz_50dBm_combined",
          "coaxial_txpwr4_2Mhz_50dBm_combined",
          "coaxial_txpwr5_2Mhz_50dBm_combined",
          "coaxial_txpwr2_2Mhz_50dBm_combined",
          "coaxial_txpwr8_2Mhz_50dBm_combined",
          "coaxial_txpwr0_2Mhz_50dBm_combined",
          "coaxial_txpwr7_2Mhz_50dBm_combined",
          "coaxial_txpwr6_2Mhz_50dBm_combined",
          "coaxial_txpwr1_2Mhz_50dBm_combined",
          "coaxial_txpwr9_2Mhz_50dBm_combined",
          "coaxial_txpwr20_2Mhz_50dBm_combined",
          "coaxial_txpwr14_2Mhz_50dBm_combined",
          "coaxial_txpwr13_2Mhz_50dBm_combined",
          "coaxial_txpwr12_2Mhz_50dBm_combined",
          "coaxial_txpwr15_2Mhz_50dBm_combined",
          "coaxial_txpwr17_2Mhz_50dBm_combined",
          "coaxial_txpwr10_2Mhz_50dBm_combined",
          "coaxial_txpwr18_2Mhz_50dBm_combined",
          "coaxial_txpwr19_2Mhz_50dBm_combined",
          "coaxial_txpwr11_2Mhz_50dBm_combined",
          "coaxial_txpwr16_2Mhz_50dBm_combined",
          "coaxial_txpwr20_2Mhz_70dBm_combined",
          "coaxial_txpwr9_2Mhz_70dBm_combined",
          "coaxial_txpwr8_2Mhz_70dBm_combined",
          "coaxial_txpwr19_2Mhz_70dBm_combined",
          "coaxial_txpwr11_2Mhz_70dBm_combined",
          "coaxial_txpwr16_2Mhz_70dBm_combined",
          "coaxial_txpwr17_2Mhz_70dBm_combined",
          "coaxial_txpwr10_2Mhz_70dBm_combined",
          "coaxial_txpwr18_2Mhz_70dBm_combined",
          "coaxial_txpwr12_2Mhz_70dBm_combined",
          "coaxial_txpwr15_2Mhz_70dBm_combined",
          "coaxial_txpwr14_2Mhz_70dBm_combined",
          "coaxial_txpwr13_2Mhz_70dBm_combined",
          "coaxial_txpwr17_1Mhz_50dBm_combined",
          "coaxial_txpwr18_1Mhz_50dBm_combined",
          "coaxial_txpwr10_1Mhz_50dBm_combined",
          "coaxial_txpwr11_1Mhz_50dBm_combined",
          "coaxial_txpwr19_1Mhz_50dBm_combined",
          "coaxial_txpwr16_1Mhz_50dBm_combined",
          "coaxial_txpwr14_1Mhz_50dBm_combined",
          "coaxial_txpwr13_1Mhz_50dBm_combined",
          "coaxial_txpwr12_1Mhz_50dBm_combined",
          "coaxial_txpwr15_1Mhz_50dBm_combined",
          "coaxial_txpwr0_1Mhz_50dBm_combined",
          "coaxial_txpwr8_1Mhz_50dBm_combined",
          "coaxial_txpwr7_1Mhz_50dBm_combined",
          "coaxial_txpwr6_1Mhz_50dBm_combined",
          "coaxial_txpwr9_1Mhz_50dBm_combined",
          "coaxial_txpwr20_1Mhz_50dBm_combined",
          "coaxial_txpwr1_1Mhz_50dBm_combined",
          "coaxial_txpwr3_1Mhz_50dBm_combined",
          "coaxial_txpwr4_1Mhz_50dBm_combined",
          "coaxial_txpwr5_1Mhz_50dBm_combined",
          "coaxial_txpwr2_1Mhz_50dBm_combined",
          "coaxial_txpwr7_2Mhz_60dBm_combined",
          "coaxial_txpwr8_2Mhz_60dBm_combined",
          "coaxial_txpwr0_2Mhz_60dBm_combined",
          "coaxial_txpwr1_2Mhz_60dBm_combined",
          "coaxial_txpwr20_2Mhz_60dBm_combined",
          "coaxial_txpwr9_2Mhz_60dBm_combined",
          "coaxial_txpwr6_2Mhz_60dBm_combined",
          "coaxial_txpwr4_2Mhz_60dBm_combined",
          "coaxial_txpwr3_2Mhz_60dBm_combined",
          "coaxial_txpwr2_2Mhz_60dBm_combined",
          "coaxial_txpwr5_2Mhz_60dBm_combined",
          "coaxial_txpwr10_2Mhz_60dBm_combined",
          "coaxial_txpwr18_2Mhz_60dBm_combined",
          "coaxial_txpwr17_2Mhz_60dBm_combined",
          "coaxial_txpwr16_2Mhz_60dBm_combined",
          "coaxial_txpwr19_2Mhz_60dBm_combined",
          "coaxial_txpwr11_2Mhz_60dBm_combined",
          "coaxial_txpwr13_2Mhz_60dBm_combined",
          "coaxial_txpwr14_2Mhz_60dBm_combined",
          "coaxial_txpwr15_2Mhz_60dBm_combined",
          "coaxial_txpwr12_2Mhz_60dBm_combined"
         ],
         "yaxis": "y"
        }
       ],
       "layout": {
        "legend": {
         "tracegroupgap": 0
        },
        "template": {
         "data": {
          "bar": [
           {
            "error_x": {
             "color": "#2a3f5f"
            },
            "error_y": {
             "color": "#2a3f5f"
            },
            "marker": {
             "line": {
              "color": "#E5ECF6",
              "width": 0.5
             },
             "pattern": {
              "fillmode": "overlay",
              "size": 10,
              "solidity": 0.2
             }
            },
            "type": "bar"
           }
          ],
          "barpolar": [
           {
            "marker": {
             "line": {
              "color": "#E5ECF6",
              "width": 0.5
             },
             "pattern": {
              "fillmode": "overlay",
              "size": 10,
              "solidity": 0.2
             }
            },
            "type": "barpolar"
           }
          ],
          "carpet": [
           {
            "aaxis": {
             "endlinecolor": "#2a3f5f",
             "gridcolor": "white",
             "linecolor": "white",
             "minorgridcolor": "white",
             "startlinecolor": "#2a3f5f"
            },
            "baxis": {
             "endlinecolor": "#2a3f5f",
             "gridcolor": "white",
             "linecolor": "white",
             "minorgridcolor": "white",
             "startlinecolor": "#2a3f5f"
            },
            "type": "carpet"
           }
          ],
          "choropleth": [
           {
            "colorbar": {
             "outlinewidth": 0,
             "ticks": ""
            },
            "type": "choropleth"
           }
          ],
          "contour": [
           {
            "colorbar": {
             "outlinewidth": 0,
             "ticks": ""
            },
            "colorscale": [
             [
              0,
              "#0d0887"
             ],
             [
              0.1111111111111111,
              "#46039f"
             ],
             [
              0.2222222222222222,
              "#7201a8"
             ],
             [
              0.3333333333333333,
              "#9c179e"
             ],
             [
              0.4444444444444444,
              "#bd3786"
             ],
             [
              0.5555555555555556,
              "#d8576b"
             ],
             [
              0.6666666666666666,
              "#ed7953"
             ],
             [
              0.7777777777777778,
              "#fb9f3a"
             ],
             [
              0.8888888888888888,
              "#fdca26"
             ],
             [
              1,
              "#f0f921"
             ]
            ],
            "type": "contour"
           }
          ],
          "contourcarpet": [
           {
            "colorbar": {
             "outlinewidth": 0,
             "ticks": ""
            },
            "type": "contourcarpet"
           }
          ],
          "heatmap": [
           {
            "colorbar": {
             "outlinewidth": 0,
             "ticks": ""
            },
            "colorscale": [
             [
              0,
              "#0d0887"
             ],
             [
              0.1111111111111111,
              "#46039f"
             ],
             [
              0.2222222222222222,
              "#7201a8"
             ],
             [
              0.3333333333333333,
              "#9c179e"
             ],
             [
              0.4444444444444444,
              "#bd3786"
             ],
             [
              0.5555555555555556,
              "#d8576b"
             ],
             [
              0.6666666666666666,
              "#ed7953"
             ],
             [
              0.7777777777777778,
              "#fb9f3a"
             ],
             [
              0.8888888888888888,
              "#fdca26"
             ],
             [
              1,
              "#f0f921"
             ]
            ],
            "type": "heatmap"
           }
          ],
          "heatmapgl": [
           {
            "colorbar": {
             "outlinewidth": 0,
             "ticks": ""
            },
            "colorscale": [
             [
              0,
              "#0d0887"
             ],
             [
              0.1111111111111111,
              "#46039f"
             ],
             [
              0.2222222222222222,
              "#7201a8"
             ],
             [
              0.3333333333333333,
              "#9c179e"
             ],
             [
              0.4444444444444444,
              "#bd3786"
             ],
             [
              0.5555555555555556,
              "#d8576b"
             ],
             [
              0.6666666666666666,
              "#ed7953"
             ],
             [
              0.7777777777777778,
              "#fb9f3a"
             ],
             [
              0.8888888888888888,
              "#fdca26"
             ],
             [
              1,
              "#f0f921"
             ]
            ],
            "type": "heatmapgl"
           }
          ],
          "histogram": [
           {
            "marker": {
             "pattern": {
              "fillmode": "overlay",
              "size": 10,
              "solidity": 0.2
             }
            },
            "type": "histogram"
           }
          ],
          "histogram2d": [
           {
            "colorbar": {
             "outlinewidth": 0,
             "ticks": ""
            },
            "colorscale": [
             [
              0,
              "#0d0887"
             ],
             [
              0.1111111111111111,
              "#46039f"
             ],
             [
              0.2222222222222222,
              "#7201a8"
             ],
             [
              0.3333333333333333,
              "#9c179e"
             ],
             [
              0.4444444444444444,
              "#bd3786"
             ],
             [
              0.5555555555555556,
              "#d8576b"
             ],
             [
              0.6666666666666666,
              "#ed7953"
             ],
             [
              0.7777777777777778,
              "#fb9f3a"
             ],
             [
              0.8888888888888888,
              "#fdca26"
             ],
             [
              1,
              "#f0f921"
             ]
            ],
            "type": "histogram2d"
           }
          ],
          "histogram2dcontour": [
           {
            "colorbar": {
             "outlinewidth": 0,
             "ticks": ""
            },
            "colorscale": [
             [
              0,
              "#0d0887"
             ],
             [
              0.1111111111111111,
              "#46039f"
             ],
             [
              0.2222222222222222,
              "#7201a8"
             ],
             [
              0.3333333333333333,
              "#9c179e"
             ],
             [
              0.4444444444444444,
              "#bd3786"
             ],
             [
              0.5555555555555556,
              "#d8576b"
             ],
             [
              0.6666666666666666,
              "#ed7953"
             ],
             [
              0.7777777777777778,
              "#fb9f3a"
             ],
             [
              0.8888888888888888,
              "#fdca26"
             ],
             [
              1,
              "#f0f921"
             ]
            ],
            "type": "histogram2dcontour"
           }
          ],
          "mesh3d": [
           {
            "colorbar": {
             "outlinewidth": 0,
             "ticks": ""
            },
            "type": "mesh3d"
           }
          ],
          "parcoords": [
           {
            "line": {
             "colorbar": {
              "outlinewidth": 0,
              "ticks": ""
             }
            },
            "type": "parcoords"
           }
          ],
          "pie": [
           {
            "automargin": true,
            "type": "pie"
           }
          ],
          "scatter": [
           {
            "fillpattern": {
             "fillmode": "overlay",
             "size": 10,
             "solidity": 0.2
            },
            "type": "scatter"
           }
          ],
          "scatter3d": [
           {
            "line": {
             "colorbar": {
              "outlinewidth": 0,
              "ticks": ""
             }
            },
            "marker": {
             "colorbar": {
              "outlinewidth": 0,
              "ticks": ""
             }
            },
            "type": "scatter3d"
           }
          ],
          "scattercarpet": [
           {
            "marker": {
             "colorbar": {
              "outlinewidth": 0,
              "ticks": ""
             }
            },
            "type": "scattercarpet"
           }
          ],
          "scattergeo": [
           {
            "marker": {
             "colorbar": {
              "outlinewidth": 0,
              "ticks": ""
             }
            },
            "type": "scattergeo"
           }
          ],
          "scattergl": [
           {
            "marker": {
             "colorbar": {
              "outlinewidth": 0,
              "ticks": ""
             }
            },
            "type": "scattergl"
           }
          ],
          "scattermapbox": [
           {
            "marker": {
             "colorbar": {
              "outlinewidth": 0,
              "ticks": ""
             }
            },
            "type": "scattermapbox"
           }
          ],
          "scatterpolar": [
           {
            "marker": {
             "colorbar": {
              "outlinewidth": 0,
              "ticks": ""
             }
            },
            "type": "scatterpolar"
           }
          ],
          "scatterpolargl": [
           {
            "marker": {
             "colorbar": {
              "outlinewidth": 0,
              "ticks": ""
             }
            },
            "type": "scatterpolargl"
           }
          ],
          "scatterternary": [
           {
            "marker": {
             "colorbar": {
              "outlinewidth": 0,
              "ticks": ""
             }
            },
            "type": "scatterternary"
           }
          ],
          "surface": [
           {
            "colorbar": {
             "outlinewidth": 0,
             "ticks": ""
            },
            "colorscale": [
             [
              0,
              "#0d0887"
             ],
             [
              0.1111111111111111,
              "#46039f"
             ],
             [
              0.2222222222222222,
              "#7201a8"
             ],
             [
              0.3333333333333333,
              "#9c179e"
             ],
             [
              0.4444444444444444,
              "#bd3786"
             ],
             [
              0.5555555555555556,
              "#d8576b"
             ],
             [
              0.6666666666666666,
              "#ed7953"
             ],
             [
              0.7777777777777778,
              "#fb9f3a"
             ],
             [
              0.8888888888888888,
              "#fdca26"
             ],
             [
              1,
              "#f0f921"
             ]
            ],
            "type": "surface"
           }
          ],
          "table": [
           {
            "cells": {
             "fill": {
              "color": "#EBF0F8"
             },
             "line": {
              "color": "white"
             }
            },
            "header": {
             "fill": {
              "color": "#C8D4E3"
             },
             "line": {
              "color": "white"
             }
            },
            "type": "table"
           }
          ]
         },
         "layout": {
          "annotationdefaults": {
           "arrowcolor": "#2a3f5f",
           "arrowhead": 0,
           "arrowwidth": 1
          },
          "autotypenumbers": "strict",
          "coloraxis": {
           "colorbar": {
            "outlinewidth": 0,
            "ticks": ""
           }
          },
          "colorscale": {
           "diverging": [
            [
             0,
             "#8e0152"
            ],
            [
             0.1,
             "#c51b7d"
            ],
            [
             0.2,
             "#de77ae"
            ],
            [
             0.3,
             "#f1b6da"
            ],
            [
             0.4,
             "#fde0ef"
            ],
            [
             0.5,
             "#f7f7f7"
            ],
            [
             0.6,
             "#e6f5d0"
            ],
            [
             0.7,
             "#b8e186"
            ],
            [
             0.8,
             "#7fbc41"
            ],
            [
             0.9,
             "#4d9221"
            ],
            [
             1,
             "#276419"
            ]
           ],
           "sequential": [
            [
             0,
             "#0d0887"
            ],
            [
             0.1111111111111111,
             "#46039f"
            ],
            [
             0.2222222222222222,
             "#7201a8"
            ],
            [
             0.3333333333333333,
             "#9c179e"
            ],
            [
             0.4444444444444444,
             "#bd3786"
            ],
            [
             0.5555555555555556,
             "#d8576b"
            ],
            [
             0.6666666666666666,
             "#ed7953"
            ],
            [
             0.7777777777777778,
             "#fb9f3a"
            ],
            [
             0.8888888888888888,
             "#fdca26"
            ],
            [
             1,
             "#f0f921"
            ]
           ],
           "sequentialminus": [
            [
             0,
             "#0d0887"
            ],
            [
             0.1111111111111111,
             "#46039f"
            ],
            [
             0.2222222222222222,
             "#7201a8"
            ],
            [
             0.3333333333333333,
             "#9c179e"
            ],
            [
             0.4444444444444444,
             "#bd3786"
            ],
            [
             0.5555555555555556,
             "#d8576b"
            ],
            [
             0.6666666666666666,
             "#ed7953"
            ],
            [
             0.7777777777777778,
             "#fb9f3a"
            ],
            [
             0.8888888888888888,
             "#fdca26"
            ],
            [
             1,
             "#f0f921"
            ]
           ]
          },
          "colorway": [
           "#636efa",
           "#EF553B",
           "#00cc96",
           "#ab63fa",
           "#FFA15A",
           "#19d3f3",
           "#FF6692",
           "#B6E880",
           "#FF97FF",
           "#FECB52"
          ],
          "font": {
           "color": "#2a3f5f"
          },
          "geo": {
           "bgcolor": "white",
           "lakecolor": "white",
           "landcolor": "#E5ECF6",
           "showlakes": true,
           "showland": true,
           "subunitcolor": "white"
          },
          "hoverlabel": {
           "align": "left"
          },
          "hovermode": "closest",
          "mapbox": {
           "style": "light"
          },
          "paper_bgcolor": "white",
          "plot_bgcolor": "#E5ECF6",
          "polar": {
           "angularaxis": {
            "gridcolor": "white",
            "linecolor": "white",
            "ticks": ""
           },
           "bgcolor": "#E5ECF6",
           "radialaxis": {
            "gridcolor": "white",
            "linecolor": "white",
            "ticks": ""
           }
          },
          "scene": {
           "xaxis": {
            "backgroundcolor": "#E5ECF6",
            "gridcolor": "white",
            "gridwidth": 2,
            "linecolor": "white",
            "showbackground": true,
            "ticks": "",
            "zerolinecolor": "white"
           },
           "yaxis": {
            "backgroundcolor": "#E5ECF6",
            "gridcolor": "white",
            "gridwidth": 2,
            "linecolor": "white",
            "showbackground": true,
            "ticks": "",
            "zerolinecolor": "white"
           },
           "zaxis": {
            "backgroundcolor": "#E5ECF6",
            "gridcolor": "white",
            "gridwidth": 2,
            "linecolor": "white",
            "showbackground": true,
            "ticks": "",
            "zerolinecolor": "white"
           }
          },
          "shapedefaults": {
           "line": {
            "color": "#2a3f5f"
           }
          },
          "ternary": {
           "aaxis": {
            "gridcolor": "white",
            "linecolor": "white",
            "ticks": ""
           },
           "baxis": {
            "gridcolor": "white",
            "linecolor": "white",
            "ticks": ""
           },
           "bgcolor": "#E5ECF6",
           "caxis": {
            "gridcolor": "white",
            "linecolor": "white",
            "ticks": ""
           }
          },
          "title": {
           "x": 0.05
          },
          "xaxis": {
           "automargin": true,
           "gridcolor": "white",
           "linecolor": "white",
           "ticks": "",
           "title": {
            "standoff": 15
           },
           "zerolinecolor": "white",
           "zerolinewidth": 2
          },
          "yaxis": {
           "automargin": true,
           "gridcolor": "white",
           "linecolor": "white",
           "ticks": "",
           "title": {
            "standoff": 15
           },
           "zerolinecolor": "white",
           "zerolinewidth": 2
          }
         }
        },
        "title": {
         "text": "Test Name vs Test Name"
        },
        "xaxis": {
         "anchor": "y",
         "domain": [
          0,
          1
         ],
         "title": {
          "text": "Test Name"
         }
        },
        "yaxis": {
         "anchor": "x",
         "domain": [
          0,
          1
         ],
         "title": {
          "text": "Test Name"
         }
        }
       }
      }
     },
     "metadata": {},
     "output_type": "display_data"
    },
    {
     "data": {
      "application/vnd.jupyter.widget-view+json": {
       "model_id": "b9a72bf52b8547539c913baff1e6e1d1",
       "version_major": 2,
       "version_minor": 0
      },
      "text/plain": [
       "interactive(children=(Dropdown(description='x', options=('Test Name', 'Timestamp', 'Test Type', 'Distance', 'A…"
      ]
     },
     "metadata": {},
     "output_type": "display_data"
    },
    {
     "data": {
      "application/vnd.plotly.v1+json": {
       "config": {
        "plotlyServerURL": "https://plot.ly"
       },
       "data": [
        {
         "hovertemplate": "Guard Interval=%{x}<br>Test Name=%{y}<extra></extra>",
         "legendgroup": "",
         "marker": {
          "color": "#636efa",
          "symbol": "circle"
         },
         "mode": "markers",
         "name": "",
         "orientation": "v",
         "showlegend": false,
         "type": "scatter",
         "x": [
          "long",
          "long",
          "long",
          "long",
          "long",
          "long",
          "long",
          "long",
          "long",
          "long",
          "long",
          "long",
          "long",
          "long",
          "long",
          "long",
          "long",
          "long",
          "long",
          "long",
          "long",
          "long",
          "long",
          "long",
          "long",
          "long",
          "long",
          "long",
          "long",
          "long",
          "long",
          "long",
          "long",
          "long",
          "long",
          "long",
          "long",
          "long",
          "long",
          "long",
          "long",
          "long",
          "long",
          "long",
          "long",
          "long",
          "long",
          "long",
          "long",
          "long",
          "long",
          "long",
          "long",
          "long",
          "long",
          "long",
          "long",
          "long",
          "long",
          "long",
          "long",
          "long",
          "long",
          "long",
          "long",
          "long",
          "long",
          "long",
          "long",
          "long",
          "long",
          "long",
          "long",
          "long",
          "long",
          "long",
          "long",
          "long",
          "long",
          "long",
          "long",
          "long",
          "long",
          "long",
          "long",
          "long",
          "long",
          "long",
          "long",
          "long",
          "long",
          "long",
          "long",
          "long",
          "long",
          "long",
          "long",
          "long",
          "long",
          "long",
          "long",
          "long",
          "long",
          "long",
          "long",
          "long",
          "long",
          "long",
          "long",
          "long"
         ],
         "xaxis": "x",
         "y": [
          "coaxial_txpwr13_1Mhz_60dBm_combined",
          "coaxial_txpwr14_1Mhz_60dBm_combined",
          "coaxial_txpwr15_1Mhz_60dBm_combined",
          "coaxial_txpwr12_1Mhz_60dBm_combined",
          "coaxial_txpwr18_1Mhz_60dBm_combined",
          "coaxial_txpwr10_1Mhz_60dBm_combined",
          "coaxial_txpwr17_1Mhz_60dBm_combined",
          "coaxial_txpwr16_1Mhz_60dBm_combined",
          "coaxial_txpwr11_1Mhz_60dBm_combined",
          "coaxial_txpwr19_1Mhz_60dBm_combined",
          "coaxial_txpwr4_1Mhz_60dBm_combined",
          "coaxial_txpwr3_1Mhz_60dBm_combined",
          "coaxial_txpwr2_1Mhz_60dBm_combined",
          "coaxial_txpwr5_1Mhz_60dBm_combined",
          "coaxial_txpwr7_1Mhz_60dBm_combined",
          "coaxial_txpwr0_1Mhz_60dBm_combined",
          "coaxial_txpwr8_1Mhz_60dBm_combined",
          "coaxial_txpwr9_1Mhz_60dBm_combined",
          "coaxial_txpwr1_1Mhz_60dBm_combined",
          "coaxial_txpwr6_1Mhz_60dBm_combined",
          "coaxial_txpwr12_1Mhz_70dBm_combined",
          "coaxial_txpwr15_1Mhz_70dBm_combined",
          "coaxial_txpwr14_1Mhz_70dBm_combined",
          "coaxial_txpwr13_1Mhz_70dBm_combined",
          "coaxial_txpwr11_1Mhz_70dBm_combined",
          "coaxial_txpwr19_1Mhz_70dBm_combined",
          "coaxial_txpwr16_1Mhz_70dBm_combined",
          "coaxial_txpwr17_1Mhz_70dBm_combined",
          "coaxial_txpwr18_1Mhz_70dBm_combined",
          "coaxial_txpwr10_1Mhz_70dBm_combined",
          "coaxial_txpwr20_1Mhz_70dBm_combined",
          "coaxial_txpwr9_1Mhz_70dBm_combined",
          "coaxial_txpwr8_1Mhz_70dBm_combined",
          "coaxial_txpwr7_1Mhz_70dBm_combined",
          "coaxial_txpwr3_2Mhz_50dBm_combined",
          "coaxial_txpwr4_2Mhz_50dBm_combined",
          "coaxial_txpwr5_2Mhz_50dBm_combined",
          "coaxial_txpwr2_2Mhz_50dBm_combined",
          "coaxial_txpwr8_2Mhz_50dBm_combined",
          "coaxial_txpwr0_2Mhz_50dBm_combined",
          "coaxial_txpwr7_2Mhz_50dBm_combined",
          "coaxial_txpwr6_2Mhz_50dBm_combined",
          "coaxial_txpwr1_2Mhz_50dBm_combined",
          "coaxial_txpwr9_2Mhz_50dBm_combined",
          "coaxial_txpwr20_2Mhz_50dBm_combined",
          "coaxial_txpwr14_2Mhz_50dBm_combined",
          "coaxial_txpwr13_2Mhz_50dBm_combined",
          "coaxial_txpwr12_2Mhz_50dBm_combined",
          "coaxial_txpwr15_2Mhz_50dBm_combined",
          "coaxial_txpwr17_2Mhz_50dBm_combined",
          "coaxial_txpwr10_2Mhz_50dBm_combined",
          "coaxial_txpwr18_2Mhz_50dBm_combined",
          "coaxial_txpwr19_2Mhz_50dBm_combined",
          "coaxial_txpwr11_2Mhz_50dBm_combined",
          "coaxial_txpwr16_2Mhz_50dBm_combined",
          "coaxial_txpwr20_2Mhz_70dBm_combined",
          "coaxial_txpwr9_2Mhz_70dBm_combined",
          "coaxial_txpwr8_2Mhz_70dBm_combined",
          "coaxial_txpwr19_2Mhz_70dBm_combined",
          "coaxial_txpwr11_2Mhz_70dBm_combined",
          "coaxial_txpwr16_2Mhz_70dBm_combined",
          "coaxial_txpwr17_2Mhz_70dBm_combined",
          "coaxial_txpwr10_2Mhz_70dBm_combined",
          "coaxial_txpwr18_2Mhz_70dBm_combined",
          "coaxial_txpwr12_2Mhz_70dBm_combined",
          "coaxial_txpwr15_2Mhz_70dBm_combined",
          "coaxial_txpwr14_2Mhz_70dBm_combined",
          "coaxial_txpwr13_2Mhz_70dBm_combined",
          "coaxial_txpwr17_1Mhz_50dBm_combined",
          "coaxial_txpwr18_1Mhz_50dBm_combined",
          "coaxial_txpwr10_1Mhz_50dBm_combined",
          "coaxial_txpwr11_1Mhz_50dBm_combined",
          "coaxial_txpwr19_1Mhz_50dBm_combined",
          "coaxial_txpwr16_1Mhz_50dBm_combined",
          "coaxial_txpwr14_1Mhz_50dBm_combined",
          "coaxial_txpwr13_1Mhz_50dBm_combined",
          "coaxial_txpwr12_1Mhz_50dBm_combined",
          "coaxial_txpwr15_1Mhz_50dBm_combined",
          "coaxial_txpwr0_1Mhz_50dBm_combined",
          "coaxial_txpwr8_1Mhz_50dBm_combined",
          "coaxial_txpwr7_1Mhz_50dBm_combined",
          "coaxial_txpwr6_1Mhz_50dBm_combined",
          "coaxial_txpwr9_1Mhz_50dBm_combined",
          "coaxial_txpwr20_1Mhz_50dBm_combined",
          "coaxial_txpwr1_1Mhz_50dBm_combined",
          "coaxial_txpwr3_1Mhz_50dBm_combined",
          "coaxial_txpwr4_1Mhz_50dBm_combined",
          "coaxial_txpwr5_1Mhz_50dBm_combined",
          "coaxial_txpwr2_1Mhz_50dBm_combined",
          "coaxial_txpwr7_2Mhz_60dBm_combined",
          "coaxial_txpwr8_2Mhz_60dBm_combined",
          "coaxial_txpwr0_2Mhz_60dBm_combined",
          "coaxial_txpwr1_2Mhz_60dBm_combined",
          "coaxial_txpwr20_2Mhz_60dBm_combined",
          "coaxial_txpwr9_2Mhz_60dBm_combined",
          "coaxial_txpwr6_2Mhz_60dBm_combined",
          "coaxial_txpwr4_2Mhz_60dBm_combined",
          "coaxial_txpwr3_2Mhz_60dBm_combined",
          "coaxial_txpwr2_2Mhz_60dBm_combined",
          "coaxial_txpwr5_2Mhz_60dBm_combined",
          "coaxial_txpwr10_2Mhz_60dBm_combined",
          "coaxial_txpwr18_2Mhz_60dBm_combined",
          "coaxial_txpwr17_2Mhz_60dBm_combined",
          "coaxial_txpwr16_2Mhz_60dBm_combined",
          "coaxial_txpwr19_2Mhz_60dBm_combined",
          "coaxial_txpwr11_2Mhz_60dBm_combined",
          "coaxial_txpwr13_2Mhz_60dBm_combined",
          "coaxial_txpwr14_2Mhz_60dBm_combined",
          "coaxial_txpwr15_2Mhz_60dBm_combined",
          "coaxial_txpwr12_2Mhz_60dBm_combined"
         ],
         "yaxis": "y"
        }
       ],
       "layout": {
        "legend": {
         "tracegroupgap": 0
        },
        "template": {
         "data": {
          "bar": [
           {
            "error_x": {
             "color": "#2a3f5f"
            },
            "error_y": {
             "color": "#2a3f5f"
            },
            "marker": {
             "line": {
              "color": "#E5ECF6",
              "width": 0.5
             },
             "pattern": {
              "fillmode": "overlay",
              "size": 10,
              "solidity": 0.2
             }
            },
            "type": "bar"
           }
          ],
          "barpolar": [
           {
            "marker": {
             "line": {
              "color": "#E5ECF6",
              "width": 0.5
             },
             "pattern": {
              "fillmode": "overlay",
              "size": 10,
              "solidity": 0.2
             }
            },
            "type": "barpolar"
           }
          ],
          "carpet": [
           {
            "aaxis": {
             "endlinecolor": "#2a3f5f",
             "gridcolor": "white",
             "linecolor": "white",
             "minorgridcolor": "white",
             "startlinecolor": "#2a3f5f"
            },
            "baxis": {
             "endlinecolor": "#2a3f5f",
             "gridcolor": "white",
             "linecolor": "white",
             "minorgridcolor": "white",
             "startlinecolor": "#2a3f5f"
            },
            "type": "carpet"
           }
          ],
          "choropleth": [
           {
            "colorbar": {
             "outlinewidth": 0,
             "ticks": ""
            },
            "type": "choropleth"
           }
          ],
          "contour": [
           {
            "colorbar": {
             "outlinewidth": 0,
             "ticks": ""
            },
            "colorscale": [
             [
              0,
              "#0d0887"
             ],
             [
              0.1111111111111111,
              "#46039f"
             ],
             [
              0.2222222222222222,
              "#7201a8"
             ],
             [
              0.3333333333333333,
              "#9c179e"
             ],
             [
              0.4444444444444444,
              "#bd3786"
             ],
             [
              0.5555555555555556,
              "#d8576b"
             ],
             [
              0.6666666666666666,
              "#ed7953"
             ],
             [
              0.7777777777777778,
              "#fb9f3a"
             ],
             [
              0.8888888888888888,
              "#fdca26"
             ],
             [
              1,
              "#f0f921"
             ]
            ],
            "type": "contour"
           }
          ],
          "contourcarpet": [
           {
            "colorbar": {
             "outlinewidth": 0,
             "ticks": ""
            },
            "type": "contourcarpet"
           }
          ],
          "heatmap": [
           {
            "colorbar": {
             "outlinewidth": 0,
             "ticks": ""
            },
            "colorscale": [
             [
              0,
              "#0d0887"
             ],
             [
              0.1111111111111111,
              "#46039f"
             ],
             [
              0.2222222222222222,
              "#7201a8"
             ],
             [
              0.3333333333333333,
              "#9c179e"
             ],
             [
              0.4444444444444444,
              "#bd3786"
             ],
             [
              0.5555555555555556,
              "#d8576b"
             ],
             [
              0.6666666666666666,
              "#ed7953"
             ],
             [
              0.7777777777777778,
              "#fb9f3a"
             ],
             [
              0.8888888888888888,
              "#fdca26"
             ],
             [
              1,
              "#f0f921"
             ]
            ],
            "type": "heatmap"
           }
          ],
          "heatmapgl": [
           {
            "colorbar": {
             "outlinewidth": 0,
             "ticks": ""
            },
            "colorscale": [
             [
              0,
              "#0d0887"
             ],
             [
              0.1111111111111111,
              "#46039f"
             ],
             [
              0.2222222222222222,
              "#7201a8"
             ],
             [
              0.3333333333333333,
              "#9c179e"
             ],
             [
              0.4444444444444444,
              "#bd3786"
             ],
             [
              0.5555555555555556,
              "#d8576b"
             ],
             [
              0.6666666666666666,
              "#ed7953"
             ],
             [
              0.7777777777777778,
              "#fb9f3a"
             ],
             [
              0.8888888888888888,
              "#fdca26"
             ],
             [
              1,
              "#f0f921"
             ]
            ],
            "type": "heatmapgl"
           }
          ],
          "histogram": [
           {
            "marker": {
             "pattern": {
              "fillmode": "overlay",
              "size": 10,
              "solidity": 0.2
             }
            },
            "type": "histogram"
           }
          ],
          "histogram2d": [
           {
            "colorbar": {
             "outlinewidth": 0,
             "ticks": ""
            },
            "colorscale": [
             [
              0,
              "#0d0887"
             ],
             [
              0.1111111111111111,
              "#46039f"
             ],
             [
              0.2222222222222222,
              "#7201a8"
             ],
             [
              0.3333333333333333,
              "#9c179e"
             ],
             [
              0.4444444444444444,
              "#bd3786"
             ],
             [
              0.5555555555555556,
              "#d8576b"
             ],
             [
              0.6666666666666666,
              "#ed7953"
             ],
             [
              0.7777777777777778,
              "#fb9f3a"
             ],
             [
              0.8888888888888888,
              "#fdca26"
             ],
             [
              1,
              "#f0f921"
             ]
            ],
            "type": "histogram2d"
           }
          ],
          "histogram2dcontour": [
           {
            "colorbar": {
             "outlinewidth": 0,
             "ticks": ""
            },
            "colorscale": [
             [
              0,
              "#0d0887"
             ],
             [
              0.1111111111111111,
              "#46039f"
             ],
             [
              0.2222222222222222,
              "#7201a8"
             ],
             [
              0.3333333333333333,
              "#9c179e"
             ],
             [
              0.4444444444444444,
              "#bd3786"
             ],
             [
              0.5555555555555556,
              "#d8576b"
             ],
             [
              0.6666666666666666,
              "#ed7953"
             ],
             [
              0.7777777777777778,
              "#fb9f3a"
             ],
             [
              0.8888888888888888,
              "#fdca26"
             ],
             [
              1,
              "#f0f921"
             ]
            ],
            "type": "histogram2dcontour"
           }
          ],
          "mesh3d": [
           {
            "colorbar": {
             "outlinewidth": 0,
             "ticks": ""
            },
            "type": "mesh3d"
           }
          ],
          "parcoords": [
           {
            "line": {
             "colorbar": {
              "outlinewidth": 0,
              "ticks": ""
             }
            },
            "type": "parcoords"
           }
          ],
          "pie": [
           {
            "automargin": true,
            "type": "pie"
           }
          ],
          "scatter": [
           {
            "fillpattern": {
             "fillmode": "overlay",
             "size": 10,
             "solidity": 0.2
            },
            "type": "scatter"
           }
          ],
          "scatter3d": [
           {
            "line": {
             "colorbar": {
              "outlinewidth": 0,
              "ticks": ""
             }
            },
            "marker": {
             "colorbar": {
              "outlinewidth": 0,
              "ticks": ""
             }
            },
            "type": "scatter3d"
           }
          ],
          "scattercarpet": [
           {
            "marker": {
             "colorbar": {
              "outlinewidth": 0,
              "ticks": ""
             }
            },
            "type": "scattercarpet"
           }
          ],
          "scattergeo": [
           {
            "marker": {
             "colorbar": {
              "outlinewidth": 0,
              "ticks": ""
             }
            },
            "type": "scattergeo"
           }
          ],
          "scattergl": [
           {
            "marker": {
             "colorbar": {
              "outlinewidth": 0,
              "ticks": ""
             }
            },
            "type": "scattergl"
           }
          ],
          "scattermapbox": [
           {
            "marker": {
             "colorbar": {
              "outlinewidth": 0,
              "ticks": ""
             }
            },
            "type": "scattermapbox"
           }
          ],
          "scatterpolar": [
           {
            "marker": {
             "colorbar": {
              "outlinewidth": 0,
              "ticks": ""
             }
            },
            "type": "scatterpolar"
           }
          ],
          "scatterpolargl": [
           {
            "marker": {
             "colorbar": {
              "outlinewidth": 0,
              "ticks": ""
             }
            },
            "type": "scatterpolargl"
           }
          ],
          "scatterternary": [
           {
            "marker": {
             "colorbar": {
              "outlinewidth": 0,
              "ticks": ""
             }
            },
            "type": "scatterternary"
           }
          ],
          "surface": [
           {
            "colorbar": {
             "outlinewidth": 0,
             "ticks": ""
            },
            "colorscale": [
             [
              0,
              "#0d0887"
             ],
             [
              0.1111111111111111,
              "#46039f"
             ],
             [
              0.2222222222222222,
              "#7201a8"
             ],
             [
              0.3333333333333333,
              "#9c179e"
             ],
             [
              0.4444444444444444,
              "#bd3786"
             ],
             [
              0.5555555555555556,
              "#d8576b"
             ],
             [
              0.6666666666666666,
              "#ed7953"
             ],
             [
              0.7777777777777778,
              "#fb9f3a"
             ],
             [
              0.8888888888888888,
              "#fdca26"
             ],
             [
              1,
              "#f0f921"
             ]
            ],
            "type": "surface"
           }
          ],
          "table": [
           {
            "cells": {
             "fill": {
              "color": "#EBF0F8"
             },
             "line": {
              "color": "white"
             }
            },
            "header": {
             "fill": {
              "color": "#C8D4E3"
             },
             "line": {
              "color": "white"
             }
            },
            "type": "table"
           }
          ]
         },
         "layout": {
          "annotationdefaults": {
           "arrowcolor": "#2a3f5f",
           "arrowhead": 0,
           "arrowwidth": 1
          },
          "autotypenumbers": "strict",
          "coloraxis": {
           "colorbar": {
            "outlinewidth": 0,
            "ticks": ""
           }
          },
          "colorscale": {
           "diverging": [
            [
             0,
             "#8e0152"
            ],
            [
             0.1,
             "#c51b7d"
            ],
            [
             0.2,
             "#de77ae"
            ],
            [
             0.3,
             "#f1b6da"
            ],
            [
             0.4,
             "#fde0ef"
            ],
            [
             0.5,
             "#f7f7f7"
            ],
            [
             0.6,
             "#e6f5d0"
            ],
            [
             0.7,
             "#b8e186"
            ],
            [
             0.8,
             "#7fbc41"
            ],
            [
             0.9,
             "#4d9221"
            ],
            [
             1,
             "#276419"
            ]
           ],
           "sequential": [
            [
             0,
             "#0d0887"
            ],
            [
             0.1111111111111111,
             "#46039f"
            ],
            [
             0.2222222222222222,
             "#7201a8"
            ],
            [
             0.3333333333333333,
             "#9c179e"
            ],
            [
             0.4444444444444444,
             "#bd3786"
            ],
            [
             0.5555555555555556,
             "#d8576b"
            ],
            [
             0.6666666666666666,
             "#ed7953"
            ],
            [
             0.7777777777777778,
             "#fb9f3a"
            ],
            [
             0.8888888888888888,
             "#fdca26"
            ],
            [
             1,
             "#f0f921"
            ]
           ],
           "sequentialminus": [
            [
             0,
             "#0d0887"
            ],
            [
             0.1111111111111111,
             "#46039f"
            ],
            [
             0.2222222222222222,
             "#7201a8"
            ],
            [
             0.3333333333333333,
             "#9c179e"
            ],
            [
             0.4444444444444444,
             "#bd3786"
            ],
            [
             0.5555555555555556,
             "#d8576b"
            ],
            [
             0.6666666666666666,
             "#ed7953"
            ],
            [
             0.7777777777777778,
             "#fb9f3a"
            ],
            [
             0.8888888888888888,
             "#fdca26"
            ],
            [
             1,
             "#f0f921"
            ]
           ]
          },
          "colorway": [
           "#636efa",
           "#EF553B",
           "#00cc96",
           "#ab63fa",
           "#FFA15A",
           "#19d3f3",
           "#FF6692",
           "#B6E880",
           "#FF97FF",
           "#FECB52"
          ],
          "font": {
           "color": "#2a3f5f"
          },
          "geo": {
           "bgcolor": "white",
           "lakecolor": "white",
           "landcolor": "#E5ECF6",
           "showlakes": true,
           "showland": true,
           "subunitcolor": "white"
          },
          "hoverlabel": {
           "align": "left"
          },
          "hovermode": "closest",
          "mapbox": {
           "style": "light"
          },
          "paper_bgcolor": "white",
          "plot_bgcolor": "#E5ECF6",
          "polar": {
           "angularaxis": {
            "gridcolor": "white",
            "linecolor": "white",
            "ticks": ""
           },
           "bgcolor": "#E5ECF6",
           "radialaxis": {
            "gridcolor": "white",
            "linecolor": "white",
            "ticks": ""
           }
          },
          "scene": {
           "xaxis": {
            "backgroundcolor": "#E5ECF6",
            "gridcolor": "white",
            "gridwidth": 2,
            "linecolor": "white",
            "showbackground": true,
            "ticks": "",
            "zerolinecolor": "white"
           },
           "yaxis": {
            "backgroundcolor": "#E5ECF6",
            "gridcolor": "white",
            "gridwidth": 2,
            "linecolor": "white",
            "showbackground": true,
            "ticks": "",
            "zerolinecolor": "white"
           },
           "zaxis": {
            "backgroundcolor": "#E5ECF6",
            "gridcolor": "white",
            "gridwidth": 2,
            "linecolor": "white",
            "showbackground": true,
            "ticks": "",
            "zerolinecolor": "white"
           }
          },
          "shapedefaults": {
           "line": {
            "color": "#2a3f5f"
           }
          },
          "ternary": {
           "aaxis": {
            "gridcolor": "white",
            "linecolor": "white",
            "ticks": ""
           },
           "baxis": {
            "gridcolor": "white",
            "linecolor": "white",
            "ticks": ""
           },
           "bgcolor": "#E5ECF6",
           "caxis": {
            "gridcolor": "white",
            "linecolor": "white",
            "ticks": ""
           }
          },
          "title": {
           "x": 0.05
          },
          "xaxis": {
           "automargin": true,
           "gridcolor": "white",
           "linecolor": "white",
           "ticks": "",
           "title": {
            "standoff": 15
           },
           "zerolinecolor": "white",
           "zerolinewidth": 2
          },
          "yaxis": {
           "automargin": true,
           "gridcolor": "white",
           "linecolor": "white",
           "ticks": "",
           "title": {
            "standoff": 15
           },
           "zerolinecolor": "white",
           "zerolinewidth": 2
          }
         }
        },
        "title": {
         "text": "Guard Interval vs Test Name"
        },
        "xaxis": {
         "anchor": "y",
         "domain": [
          0,
          1
         ],
         "title": {
          "text": "Guard Interval"
         }
        },
        "yaxis": {
         "anchor": "x",
         "domain": [
          0,
          1
         ],
         "title": {
          "text": "Test Name"
         }
        }
       }
      }
     },
     "metadata": {},
     "output_type": "display_data"
    },
    {
     "data": {
      "application/vnd.plotly.v1+json": {
       "config": {
        "plotlyServerURL": "https://plot.ly"
       },
       "data": [
        {
         "hovertemplate": "MCS=%{x}<br>Test Name=%{y}<extra></extra>",
         "legendgroup": "",
         "marker": {
          "color": "#636efa",
          "symbol": "circle"
         },
         "mode": "markers",
         "name": "",
         "orientation": "h",
         "showlegend": false,
         "type": "scatter",
         "x": [
          4,
          6,
          7,
          4,
          7,
          4,
          7,
          7,
          4,
          7,
          3,
          2,
          2,
          3,
          4,
          2,
          4,
          4,
          2,
          3,
          4,
          2,
          2,
          2,
          6,
          4,
          3,
          3,
          3,
          1,
          4,
          1,
          10,
          5,
          4,
          4,
          4,
          4,
          6,
          4,
          4,
          4,
          4,
          6,
          7,
          7,
          7,
          7,
          7,
          7,
          7,
          7,
          7,
          7,
          7,
          3,
          1,
          0,
          3,
          0,
          2,
          2,
          0,
          2,
          0,
          2,
          1,
          1,
          7,
          7,
          7,
          7,
          7,
          7,
          7,
          7,
          7,
          7,
          4,
          7,
          7,
          7,
          7,
          7,
          4,
          4,
          6,
          6,
          4,
          2,
          3,
          0,
          1,
          7,
          3,
          2,
          2,
          1,
          1,
          2,
          4,
          6,
          5,
          4,
          6,
          4,
          4,
          4,
          6,
          4
         ],
         "xaxis": "x",
         "y": [
          "coaxial_txpwr13_1Mhz_60dBm_combined",
          "coaxial_txpwr14_1Mhz_60dBm_combined",
          "coaxial_txpwr15_1Mhz_60dBm_combined",
          "coaxial_txpwr12_1Mhz_60dBm_combined",
          "coaxial_txpwr18_1Mhz_60dBm_combined",
          "coaxial_txpwr10_1Mhz_60dBm_combined",
          "coaxial_txpwr17_1Mhz_60dBm_combined",
          "coaxial_txpwr16_1Mhz_60dBm_combined",
          "coaxial_txpwr11_1Mhz_60dBm_combined",
          "coaxial_txpwr19_1Mhz_60dBm_combined",
          "coaxial_txpwr4_1Mhz_60dBm_combined",
          "coaxial_txpwr3_1Mhz_60dBm_combined",
          "coaxial_txpwr2_1Mhz_60dBm_combined",
          "coaxial_txpwr5_1Mhz_60dBm_combined",
          "coaxial_txpwr7_1Mhz_60dBm_combined",
          "coaxial_txpwr0_1Mhz_60dBm_combined",
          "coaxial_txpwr8_1Mhz_60dBm_combined",
          "coaxial_txpwr9_1Mhz_60dBm_combined",
          "coaxial_txpwr1_1Mhz_60dBm_combined",
          "coaxial_txpwr6_1Mhz_60dBm_combined",
          "coaxial_txpwr12_1Mhz_70dBm_combined",
          "coaxial_txpwr15_1Mhz_70dBm_combined",
          "coaxial_txpwr14_1Mhz_70dBm_combined",
          "coaxial_txpwr13_1Mhz_70dBm_combined",
          "coaxial_txpwr11_1Mhz_70dBm_combined",
          "coaxial_txpwr19_1Mhz_70dBm_combined",
          "coaxial_txpwr16_1Mhz_70dBm_combined",
          "coaxial_txpwr17_1Mhz_70dBm_combined",
          "coaxial_txpwr18_1Mhz_70dBm_combined",
          "coaxial_txpwr10_1Mhz_70dBm_combined",
          "coaxial_txpwr20_1Mhz_70dBm_combined",
          "coaxial_txpwr9_1Mhz_70dBm_combined",
          "coaxial_txpwr8_1Mhz_70dBm_combined",
          "coaxial_txpwr7_1Mhz_70dBm_combined",
          "coaxial_txpwr3_2Mhz_50dBm_combined",
          "coaxial_txpwr4_2Mhz_50dBm_combined",
          "coaxial_txpwr5_2Mhz_50dBm_combined",
          "coaxial_txpwr2_2Mhz_50dBm_combined",
          "coaxial_txpwr8_2Mhz_50dBm_combined",
          "coaxial_txpwr0_2Mhz_50dBm_combined",
          "coaxial_txpwr7_2Mhz_50dBm_combined",
          "coaxial_txpwr6_2Mhz_50dBm_combined",
          "coaxial_txpwr1_2Mhz_50dBm_combined",
          "coaxial_txpwr9_2Mhz_50dBm_combined",
          "coaxial_txpwr20_2Mhz_50dBm_combined",
          "coaxial_txpwr14_2Mhz_50dBm_combined",
          "coaxial_txpwr13_2Mhz_50dBm_combined",
          "coaxial_txpwr12_2Mhz_50dBm_combined",
          "coaxial_txpwr15_2Mhz_50dBm_combined",
          "coaxial_txpwr17_2Mhz_50dBm_combined",
          "coaxial_txpwr10_2Mhz_50dBm_combined",
          "coaxial_txpwr18_2Mhz_50dBm_combined",
          "coaxial_txpwr19_2Mhz_50dBm_combined",
          "coaxial_txpwr11_2Mhz_50dBm_combined",
          "coaxial_txpwr16_2Mhz_50dBm_combined",
          "coaxial_txpwr20_2Mhz_70dBm_combined",
          "coaxial_txpwr9_2Mhz_70dBm_combined",
          "coaxial_txpwr8_2Mhz_70dBm_combined",
          "coaxial_txpwr19_2Mhz_70dBm_combined",
          "coaxial_txpwr11_2Mhz_70dBm_combined",
          "coaxial_txpwr16_2Mhz_70dBm_combined",
          "coaxial_txpwr17_2Mhz_70dBm_combined",
          "coaxial_txpwr10_2Mhz_70dBm_combined",
          "coaxial_txpwr18_2Mhz_70dBm_combined",
          "coaxial_txpwr12_2Mhz_70dBm_combined",
          "coaxial_txpwr15_2Mhz_70dBm_combined",
          "coaxial_txpwr14_2Mhz_70dBm_combined",
          "coaxial_txpwr13_2Mhz_70dBm_combined",
          "coaxial_txpwr17_1Mhz_50dBm_combined",
          "coaxial_txpwr18_1Mhz_50dBm_combined",
          "coaxial_txpwr10_1Mhz_50dBm_combined",
          "coaxial_txpwr11_1Mhz_50dBm_combined",
          "coaxial_txpwr19_1Mhz_50dBm_combined",
          "coaxial_txpwr16_1Mhz_50dBm_combined",
          "coaxial_txpwr14_1Mhz_50dBm_combined",
          "coaxial_txpwr13_1Mhz_50dBm_combined",
          "coaxial_txpwr12_1Mhz_50dBm_combined",
          "coaxial_txpwr15_1Mhz_50dBm_combined",
          "coaxial_txpwr0_1Mhz_50dBm_combined",
          "coaxial_txpwr8_1Mhz_50dBm_combined",
          "coaxial_txpwr7_1Mhz_50dBm_combined",
          "coaxial_txpwr6_1Mhz_50dBm_combined",
          "coaxial_txpwr9_1Mhz_50dBm_combined",
          "coaxial_txpwr20_1Mhz_50dBm_combined",
          "coaxial_txpwr1_1Mhz_50dBm_combined",
          "coaxial_txpwr3_1Mhz_50dBm_combined",
          "coaxial_txpwr4_1Mhz_50dBm_combined",
          "coaxial_txpwr5_1Mhz_50dBm_combined",
          "coaxial_txpwr2_1Mhz_50dBm_combined",
          "coaxial_txpwr7_2Mhz_60dBm_combined",
          "coaxial_txpwr8_2Mhz_60dBm_combined",
          "coaxial_txpwr0_2Mhz_60dBm_combined",
          "coaxial_txpwr1_2Mhz_60dBm_combined",
          "coaxial_txpwr20_2Mhz_60dBm_combined",
          "coaxial_txpwr9_2Mhz_60dBm_combined",
          "coaxial_txpwr6_2Mhz_60dBm_combined",
          "coaxial_txpwr4_2Mhz_60dBm_combined",
          "coaxial_txpwr3_2Mhz_60dBm_combined",
          "coaxial_txpwr2_2Mhz_60dBm_combined",
          "coaxial_txpwr5_2Mhz_60dBm_combined",
          "coaxial_txpwr10_2Mhz_60dBm_combined",
          "coaxial_txpwr18_2Mhz_60dBm_combined",
          "coaxial_txpwr17_2Mhz_60dBm_combined",
          "coaxial_txpwr16_2Mhz_60dBm_combined",
          "coaxial_txpwr19_2Mhz_60dBm_combined",
          "coaxial_txpwr11_2Mhz_60dBm_combined",
          "coaxial_txpwr13_2Mhz_60dBm_combined",
          "coaxial_txpwr14_2Mhz_60dBm_combined",
          "coaxial_txpwr15_2Mhz_60dBm_combined",
          "coaxial_txpwr12_2Mhz_60dBm_combined"
         ],
         "yaxis": "y"
        }
       ],
       "layout": {
        "legend": {
         "tracegroupgap": 0
        },
        "template": {
         "data": {
          "bar": [
           {
            "error_x": {
             "color": "#2a3f5f"
            },
            "error_y": {
             "color": "#2a3f5f"
            },
            "marker": {
             "line": {
              "color": "#E5ECF6",
              "width": 0.5
             },
             "pattern": {
              "fillmode": "overlay",
              "size": 10,
              "solidity": 0.2
             }
            },
            "type": "bar"
           }
          ],
          "barpolar": [
           {
            "marker": {
             "line": {
              "color": "#E5ECF6",
              "width": 0.5
             },
             "pattern": {
              "fillmode": "overlay",
              "size": 10,
              "solidity": 0.2
             }
            },
            "type": "barpolar"
           }
          ],
          "carpet": [
           {
            "aaxis": {
             "endlinecolor": "#2a3f5f",
             "gridcolor": "white",
             "linecolor": "white",
             "minorgridcolor": "white",
             "startlinecolor": "#2a3f5f"
            },
            "baxis": {
             "endlinecolor": "#2a3f5f",
             "gridcolor": "white",
             "linecolor": "white",
             "minorgridcolor": "white",
             "startlinecolor": "#2a3f5f"
            },
            "type": "carpet"
           }
          ],
          "choropleth": [
           {
            "colorbar": {
             "outlinewidth": 0,
             "ticks": ""
            },
            "type": "choropleth"
           }
          ],
          "contour": [
           {
            "colorbar": {
             "outlinewidth": 0,
             "ticks": ""
            },
            "colorscale": [
             [
              0,
              "#0d0887"
             ],
             [
              0.1111111111111111,
              "#46039f"
             ],
             [
              0.2222222222222222,
              "#7201a8"
             ],
             [
              0.3333333333333333,
              "#9c179e"
             ],
             [
              0.4444444444444444,
              "#bd3786"
             ],
             [
              0.5555555555555556,
              "#d8576b"
             ],
             [
              0.6666666666666666,
              "#ed7953"
             ],
             [
              0.7777777777777778,
              "#fb9f3a"
             ],
             [
              0.8888888888888888,
              "#fdca26"
             ],
             [
              1,
              "#f0f921"
             ]
            ],
            "type": "contour"
           }
          ],
          "contourcarpet": [
           {
            "colorbar": {
             "outlinewidth": 0,
             "ticks": ""
            },
            "type": "contourcarpet"
           }
          ],
          "heatmap": [
           {
            "colorbar": {
             "outlinewidth": 0,
             "ticks": ""
            },
            "colorscale": [
             [
              0,
              "#0d0887"
             ],
             [
              0.1111111111111111,
              "#46039f"
             ],
             [
              0.2222222222222222,
              "#7201a8"
             ],
             [
              0.3333333333333333,
              "#9c179e"
             ],
             [
              0.4444444444444444,
              "#bd3786"
             ],
             [
              0.5555555555555556,
              "#d8576b"
             ],
             [
              0.6666666666666666,
              "#ed7953"
             ],
             [
              0.7777777777777778,
              "#fb9f3a"
             ],
             [
              0.8888888888888888,
              "#fdca26"
             ],
             [
              1,
              "#f0f921"
             ]
            ],
            "type": "heatmap"
           }
          ],
          "heatmapgl": [
           {
            "colorbar": {
             "outlinewidth": 0,
             "ticks": ""
            },
            "colorscale": [
             [
              0,
              "#0d0887"
             ],
             [
              0.1111111111111111,
              "#46039f"
             ],
             [
              0.2222222222222222,
              "#7201a8"
             ],
             [
              0.3333333333333333,
              "#9c179e"
             ],
             [
              0.4444444444444444,
              "#bd3786"
             ],
             [
              0.5555555555555556,
              "#d8576b"
             ],
             [
              0.6666666666666666,
              "#ed7953"
             ],
             [
              0.7777777777777778,
              "#fb9f3a"
             ],
             [
              0.8888888888888888,
              "#fdca26"
             ],
             [
              1,
              "#f0f921"
             ]
            ],
            "type": "heatmapgl"
           }
          ],
          "histogram": [
           {
            "marker": {
             "pattern": {
              "fillmode": "overlay",
              "size": 10,
              "solidity": 0.2
             }
            },
            "type": "histogram"
           }
          ],
          "histogram2d": [
           {
            "colorbar": {
             "outlinewidth": 0,
             "ticks": ""
            },
            "colorscale": [
             [
              0,
              "#0d0887"
             ],
             [
              0.1111111111111111,
              "#46039f"
             ],
             [
              0.2222222222222222,
              "#7201a8"
             ],
             [
              0.3333333333333333,
              "#9c179e"
             ],
             [
              0.4444444444444444,
              "#bd3786"
             ],
             [
              0.5555555555555556,
              "#d8576b"
             ],
             [
              0.6666666666666666,
              "#ed7953"
             ],
             [
              0.7777777777777778,
              "#fb9f3a"
             ],
             [
              0.8888888888888888,
              "#fdca26"
             ],
             [
              1,
              "#f0f921"
             ]
            ],
            "type": "histogram2d"
           }
          ],
          "histogram2dcontour": [
           {
            "colorbar": {
             "outlinewidth": 0,
             "ticks": ""
            },
            "colorscale": [
             [
              0,
              "#0d0887"
             ],
             [
              0.1111111111111111,
              "#46039f"
             ],
             [
              0.2222222222222222,
              "#7201a8"
             ],
             [
              0.3333333333333333,
              "#9c179e"
             ],
             [
              0.4444444444444444,
              "#bd3786"
             ],
             [
              0.5555555555555556,
              "#d8576b"
             ],
             [
              0.6666666666666666,
              "#ed7953"
             ],
             [
              0.7777777777777778,
              "#fb9f3a"
             ],
             [
              0.8888888888888888,
              "#fdca26"
             ],
             [
              1,
              "#f0f921"
             ]
            ],
            "type": "histogram2dcontour"
           }
          ],
          "mesh3d": [
           {
            "colorbar": {
             "outlinewidth": 0,
             "ticks": ""
            },
            "type": "mesh3d"
           }
          ],
          "parcoords": [
           {
            "line": {
             "colorbar": {
              "outlinewidth": 0,
              "ticks": ""
             }
            },
            "type": "parcoords"
           }
          ],
          "pie": [
           {
            "automargin": true,
            "type": "pie"
           }
          ],
          "scatter": [
           {
            "fillpattern": {
             "fillmode": "overlay",
             "size": 10,
             "solidity": 0.2
            },
            "type": "scatter"
           }
          ],
          "scatter3d": [
           {
            "line": {
             "colorbar": {
              "outlinewidth": 0,
              "ticks": ""
             }
            },
            "marker": {
             "colorbar": {
              "outlinewidth": 0,
              "ticks": ""
             }
            },
            "type": "scatter3d"
           }
          ],
          "scattercarpet": [
           {
            "marker": {
             "colorbar": {
              "outlinewidth": 0,
              "ticks": ""
             }
            },
            "type": "scattercarpet"
           }
          ],
          "scattergeo": [
           {
            "marker": {
             "colorbar": {
              "outlinewidth": 0,
              "ticks": ""
             }
            },
            "type": "scattergeo"
           }
          ],
          "scattergl": [
           {
            "marker": {
             "colorbar": {
              "outlinewidth": 0,
              "ticks": ""
             }
            },
            "type": "scattergl"
           }
          ],
          "scattermapbox": [
           {
            "marker": {
             "colorbar": {
              "outlinewidth": 0,
              "ticks": ""
             }
            },
            "type": "scattermapbox"
           }
          ],
          "scatterpolar": [
           {
            "marker": {
             "colorbar": {
              "outlinewidth": 0,
              "ticks": ""
             }
            },
            "type": "scatterpolar"
           }
          ],
          "scatterpolargl": [
           {
            "marker": {
             "colorbar": {
              "outlinewidth": 0,
              "ticks": ""
             }
            },
            "type": "scatterpolargl"
           }
          ],
          "scatterternary": [
           {
            "marker": {
             "colorbar": {
              "outlinewidth": 0,
              "ticks": ""
             }
            },
            "type": "scatterternary"
           }
          ],
          "surface": [
           {
            "colorbar": {
             "outlinewidth": 0,
             "ticks": ""
            },
            "colorscale": [
             [
              0,
              "#0d0887"
             ],
             [
              0.1111111111111111,
              "#46039f"
             ],
             [
              0.2222222222222222,
              "#7201a8"
             ],
             [
              0.3333333333333333,
              "#9c179e"
             ],
             [
              0.4444444444444444,
              "#bd3786"
             ],
             [
              0.5555555555555556,
              "#d8576b"
             ],
             [
              0.6666666666666666,
              "#ed7953"
             ],
             [
              0.7777777777777778,
              "#fb9f3a"
             ],
             [
              0.8888888888888888,
              "#fdca26"
             ],
             [
              1,
              "#f0f921"
             ]
            ],
            "type": "surface"
           }
          ],
          "table": [
           {
            "cells": {
             "fill": {
              "color": "#EBF0F8"
             },
             "line": {
              "color": "white"
             }
            },
            "header": {
             "fill": {
              "color": "#C8D4E3"
             },
             "line": {
              "color": "white"
             }
            },
            "type": "table"
           }
          ]
         },
         "layout": {
          "annotationdefaults": {
           "arrowcolor": "#2a3f5f",
           "arrowhead": 0,
           "arrowwidth": 1
          },
          "autotypenumbers": "strict",
          "coloraxis": {
           "colorbar": {
            "outlinewidth": 0,
            "ticks": ""
           }
          },
          "colorscale": {
           "diverging": [
            [
             0,
             "#8e0152"
            ],
            [
             0.1,
             "#c51b7d"
            ],
            [
             0.2,
             "#de77ae"
            ],
            [
             0.3,
             "#f1b6da"
            ],
            [
             0.4,
             "#fde0ef"
            ],
            [
             0.5,
             "#f7f7f7"
            ],
            [
             0.6,
             "#e6f5d0"
            ],
            [
             0.7,
             "#b8e186"
            ],
            [
             0.8,
             "#7fbc41"
            ],
            [
             0.9,
             "#4d9221"
            ],
            [
             1,
             "#276419"
            ]
           ],
           "sequential": [
            [
             0,
             "#0d0887"
            ],
            [
             0.1111111111111111,
             "#46039f"
            ],
            [
             0.2222222222222222,
             "#7201a8"
            ],
            [
             0.3333333333333333,
             "#9c179e"
            ],
            [
             0.4444444444444444,
             "#bd3786"
            ],
            [
             0.5555555555555556,
             "#d8576b"
            ],
            [
             0.6666666666666666,
             "#ed7953"
            ],
            [
             0.7777777777777778,
             "#fb9f3a"
            ],
            [
             0.8888888888888888,
             "#fdca26"
            ],
            [
             1,
             "#f0f921"
            ]
           ],
           "sequentialminus": [
            [
             0,
             "#0d0887"
            ],
            [
             0.1111111111111111,
             "#46039f"
            ],
            [
             0.2222222222222222,
             "#7201a8"
            ],
            [
             0.3333333333333333,
             "#9c179e"
            ],
            [
             0.4444444444444444,
             "#bd3786"
            ],
            [
             0.5555555555555556,
             "#d8576b"
            ],
            [
             0.6666666666666666,
             "#ed7953"
            ],
            [
             0.7777777777777778,
             "#fb9f3a"
            ],
            [
             0.8888888888888888,
             "#fdca26"
            ],
            [
             1,
             "#f0f921"
            ]
           ]
          },
          "colorway": [
           "#636efa",
           "#EF553B",
           "#00cc96",
           "#ab63fa",
           "#FFA15A",
           "#19d3f3",
           "#FF6692",
           "#B6E880",
           "#FF97FF",
           "#FECB52"
          ],
          "font": {
           "color": "#2a3f5f"
          },
          "geo": {
           "bgcolor": "white",
           "lakecolor": "white",
           "landcolor": "#E5ECF6",
           "showlakes": true,
           "showland": true,
           "subunitcolor": "white"
          },
          "hoverlabel": {
           "align": "left"
          },
          "hovermode": "closest",
          "mapbox": {
           "style": "light"
          },
          "paper_bgcolor": "white",
          "plot_bgcolor": "#E5ECF6",
          "polar": {
           "angularaxis": {
            "gridcolor": "white",
            "linecolor": "white",
            "ticks": ""
           },
           "bgcolor": "#E5ECF6",
           "radialaxis": {
            "gridcolor": "white",
            "linecolor": "white",
            "ticks": ""
           }
          },
          "scene": {
           "xaxis": {
            "backgroundcolor": "#E5ECF6",
            "gridcolor": "white",
            "gridwidth": 2,
            "linecolor": "white",
            "showbackground": true,
            "ticks": "",
            "zerolinecolor": "white"
           },
           "yaxis": {
            "backgroundcolor": "#E5ECF6",
            "gridcolor": "white",
            "gridwidth": 2,
            "linecolor": "white",
            "showbackground": true,
            "ticks": "",
            "zerolinecolor": "white"
           },
           "zaxis": {
            "backgroundcolor": "#E5ECF6",
            "gridcolor": "white",
            "gridwidth": 2,
            "linecolor": "white",
            "showbackground": true,
            "ticks": "",
            "zerolinecolor": "white"
           }
          },
          "shapedefaults": {
           "line": {
            "color": "#2a3f5f"
           }
          },
          "ternary": {
           "aaxis": {
            "gridcolor": "white",
            "linecolor": "white",
            "ticks": ""
           },
           "baxis": {
            "gridcolor": "white",
            "linecolor": "white",
            "ticks": ""
           },
           "bgcolor": "#E5ECF6",
           "caxis": {
            "gridcolor": "white",
            "linecolor": "white",
            "ticks": ""
           }
          },
          "title": {
           "x": 0.05
          },
          "xaxis": {
           "automargin": true,
           "gridcolor": "white",
           "linecolor": "white",
           "ticks": "",
           "title": {
            "standoff": 15
           },
           "zerolinecolor": "white",
           "zerolinewidth": 2
          },
          "yaxis": {
           "automargin": true,
           "gridcolor": "white",
           "linecolor": "white",
           "ticks": "",
           "title": {
            "standoff": 15
           },
           "zerolinecolor": "white",
           "zerolinewidth": 2
          }
         }
        },
        "title": {
         "text": "MCS vs Test Name"
        },
        "xaxis": {
         "anchor": "y",
         "domain": [
          0,
          1
         ],
         "title": {
          "text": "MCS"
         }
        },
        "yaxis": {
         "anchor": "x",
         "domain": [
          0,
          1
         ],
         "title": {
          "text": "Test Name"
         }
        }
       }
      }
     },
     "metadata": {},
     "output_type": "display_data"
    },
    {
     "data": {
      "application/vnd.plotly.v1+json": {
       "config": {
        "plotlyServerURL": "https://plot.ly"
       },
       "data": [
        {
         "hovertemplate": "MCS=%{x}<br>Total Gain=%{y}<extra></extra>",
         "legendgroup": "",
         "marker": {
          "color": "#636efa",
          "symbol": "circle"
         },
         "mode": "markers",
         "name": "",
         "orientation": "v",
         "showlegend": false,
         "type": "scatter",
         "x": [
          4,
          6,
          7,
          4,
          7,
          4,
          7,
          7,
          4,
          7,
          3,
          2,
          2,
          3,
          4,
          2,
          4,
          4,
          2,
          3,
          4,
          2,
          2,
          2,
          6,
          4,
          3,
          3,
          3,
          1,
          4,
          1,
          10,
          5,
          4,
          4,
          4,
          4,
          6,
          4,
          4,
          4,
          4,
          6,
          7,
          7,
          7,
          7,
          7,
          7,
          7,
          7,
          7,
          7,
          7,
          3,
          1,
          0,
          3,
          0,
          2,
          2,
          0,
          2,
          0,
          2,
          1,
          1,
          7,
          7,
          7,
          7,
          7,
          7,
          7,
          7,
          7,
          7,
          4,
          7,
          7,
          7,
          7,
          7,
          4,
          4,
          6,
          6,
          4,
          2,
          3,
          0,
          1,
          7,
          3,
          2,
          2,
          1,
          1,
          2,
          4,
          6,
          5,
          4,
          6,
          4,
          4,
          4,
          6,
          4
         ],
         "xaxis": "x",
         "y": [
          -47,
          -46,
          -45,
          -48,
          -42,
          -50,
          -43,
          -44,
          -49,
          -41,
          -56,
          -57,
          -58,
          -55,
          -53,
          -60,
          -52,
          -51,
          -59,
          -54,
          -58,
          -55,
          -56,
          -57,
          -59,
          -51,
          -54,
          -53,
          -52,
          -60,
          -50,
          -61,
          -62,
          -63,
          -47,
          -46,
          -45,
          -48,
          -42,
          -50,
          -43,
          -44,
          -49,
          -41,
          -30,
          -36,
          -37,
          -38,
          -35,
          -33,
          -40,
          -32,
          -31,
          -39,
          -34,
          -50,
          -61,
          -62,
          -51,
          -59,
          -54,
          -53,
          -60,
          -52,
          -58,
          -55,
          -56,
          -57,
          -33,
          -32,
          -40,
          -39,
          -31,
          -34,
          -36,
          -37,
          -38,
          -35,
          -50,
          -42,
          -43,
          -44,
          -41,
          -30,
          -49,
          -47,
          -46,
          -45,
          -48,
          -53,
          -52,
          -60,
          -59,
          -40,
          -51,
          -54,
          -56,
          -57,
          -58,
          -55,
          -50,
          -42,
          -43,
          -44,
          -41,
          -49,
          -47,
          -46,
          -45,
          -48
         ],
         "yaxis": "y"
        }
       ],
       "layout": {
        "legend": {
         "tracegroupgap": 0
        },
        "template": {
         "data": {
          "bar": [
           {
            "error_x": {
             "color": "#2a3f5f"
            },
            "error_y": {
             "color": "#2a3f5f"
            },
            "marker": {
             "line": {
              "color": "#E5ECF6",
              "width": 0.5
             },
             "pattern": {
              "fillmode": "overlay",
              "size": 10,
              "solidity": 0.2
             }
            },
            "type": "bar"
           }
          ],
          "barpolar": [
           {
            "marker": {
             "line": {
              "color": "#E5ECF6",
              "width": 0.5
             },
             "pattern": {
              "fillmode": "overlay",
              "size": 10,
              "solidity": 0.2
             }
            },
            "type": "barpolar"
           }
          ],
          "carpet": [
           {
            "aaxis": {
             "endlinecolor": "#2a3f5f",
             "gridcolor": "white",
             "linecolor": "white",
             "minorgridcolor": "white",
             "startlinecolor": "#2a3f5f"
            },
            "baxis": {
             "endlinecolor": "#2a3f5f",
             "gridcolor": "white",
             "linecolor": "white",
             "minorgridcolor": "white",
             "startlinecolor": "#2a3f5f"
            },
            "type": "carpet"
           }
          ],
          "choropleth": [
           {
            "colorbar": {
             "outlinewidth": 0,
             "ticks": ""
            },
            "type": "choropleth"
           }
          ],
          "contour": [
           {
            "colorbar": {
             "outlinewidth": 0,
             "ticks": ""
            },
            "colorscale": [
             [
              0,
              "#0d0887"
             ],
             [
              0.1111111111111111,
              "#46039f"
             ],
             [
              0.2222222222222222,
              "#7201a8"
             ],
             [
              0.3333333333333333,
              "#9c179e"
             ],
             [
              0.4444444444444444,
              "#bd3786"
             ],
             [
              0.5555555555555556,
              "#d8576b"
             ],
             [
              0.6666666666666666,
              "#ed7953"
             ],
             [
              0.7777777777777778,
              "#fb9f3a"
             ],
             [
              0.8888888888888888,
              "#fdca26"
             ],
             [
              1,
              "#f0f921"
             ]
            ],
            "type": "contour"
           }
          ],
          "contourcarpet": [
           {
            "colorbar": {
             "outlinewidth": 0,
             "ticks": ""
            },
            "type": "contourcarpet"
           }
          ],
          "heatmap": [
           {
            "colorbar": {
             "outlinewidth": 0,
             "ticks": ""
            },
            "colorscale": [
             [
              0,
              "#0d0887"
             ],
             [
              0.1111111111111111,
              "#46039f"
             ],
             [
              0.2222222222222222,
              "#7201a8"
             ],
             [
              0.3333333333333333,
              "#9c179e"
             ],
             [
              0.4444444444444444,
              "#bd3786"
             ],
             [
              0.5555555555555556,
              "#d8576b"
             ],
             [
              0.6666666666666666,
              "#ed7953"
             ],
             [
              0.7777777777777778,
              "#fb9f3a"
             ],
             [
              0.8888888888888888,
              "#fdca26"
             ],
             [
              1,
              "#f0f921"
             ]
            ],
            "type": "heatmap"
           }
          ],
          "heatmapgl": [
           {
            "colorbar": {
             "outlinewidth": 0,
             "ticks": ""
            },
            "colorscale": [
             [
              0,
              "#0d0887"
             ],
             [
              0.1111111111111111,
              "#46039f"
             ],
             [
              0.2222222222222222,
              "#7201a8"
             ],
             [
              0.3333333333333333,
              "#9c179e"
             ],
             [
              0.4444444444444444,
              "#bd3786"
             ],
             [
              0.5555555555555556,
              "#d8576b"
             ],
             [
              0.6666666666666666,
              "#ed7953"
             ],
             [
              0.7777777777777778,
              "#fb9f3a"
             ],
             [
              0.8888888888888888,
              "#fdca26"
             ],
             [
              1,
              "#f0f921"
             ]
            ],
            "type": "heatmapgl"
           }
          ],
          "histogram": [
           {
            "marker": {
             "pattern": {
              "fillmode": "overlay",
              "size": 10,
              "solidity": 0.2
             }
            },
            "type": "histogram"
           }
          ],
          "histogram2d": [
           {
            "colorbar": {
             "outlinewidth": 0,
             "ticks": ""
            },
            "colorscale": [
             [
              0,
              "#0d0887"
             ],
             [
              0.1111111111111111,
              "#46039f"
             ],
             [
              0.2222222222222222,
              "#7201a8"
             ],
             [
              0.3333333333333333,
              "#9c179e"
             ],
             [
              0.4444444444444444,
              "#bd3786"
             ],
             [
              0.5555555555555556,
              "#d8576b"
             ],
             [
              0.6666666666666666,
              "#ed7953"
             ],
             [
              0.7777777777777778,
              "#fb9f3a"
             ],
             [
              0.8888888888888888,
              "#fdca26"
             ],
             [
              1,
              "#f0f921"
             ]
            ],
            "type": "histogram2d"
           }
          ],
          "histogram2dcontour": [
           {
            "colorbar": {
             "outlinewidth": 0,
             "ticks": ""
            },
            "colorscale": [
             [
              0,
              "#0d0887"
             ],
             [
              0.1111111111111111,
              "#46039f"
             ],
             [
              0.2222222222222222,
              "#7201a8"
             ],
             [
              0.3333333333333333,
              "#9c179e"
             ],
             [
              0.4444444444444444,
              "#bd3786"
             ],
             [
              0.5555555555555556,
              "#d8576b"
             ],
             [
              0.6666666666666666,
              "#ed7953"
             ],
             [
              0.7777777777777778,
              "#fb9f3a"
             ],
             [
              0.8888888888888888,
              "#fdca26"
             ],
             [
              1,
              "#f0f921"
             ]
            ],
            "type": "histogram2dcontour"
           }
          ],
          "mesh3d": [
           {
            "colorbar": {
             "outlinewidth": 0,
             "ticks": ""
            },
            "type": "mesh3d"
           }
          ],
          "parcoords": [
           {
            "line": {
             "colorbar": {
              "outlinewidth": 0,
              "ticks": ""
             }
            },
            "type": "parcoords"
           }
          ],
          "pie": [
           {
            "automargin": true,
            "type": "pie"
           }
          ],
          "scatter": [
           {
            "fillpattern": {
             "fillmode": "overlay",
             "size": 10,
             "solidity": 0.2
            },
            "type": "scatter"
           }
          ],
          "scatter3d": [
           {
            "line": {
             "colorbar": {
              "outlinewidth": 0,
              "ticks": ""
             }
            },
            "marker": {
             "colorbar": {
              "outlinewidth": 0,
              "ticks": ""
             }
            },
            "type": "scatter3d"
           }
          ],
          "scattercarpet": [
           {
            "marker": {
             "colorbar": {
              "outlinewidth": 0,
              "ticks": ""
             }
            },
            "type": "scattercarpet"
           }
          ],
          "scattergeo": [
           {
            "marker": {
             "colorbar": {
              "outlinewidth": 0,
              "ticks": ""
             }
            },
            "type": "scattergeo"
           }
          ],
          "scattergl": [
           {
            "marker": {
             "colorbar": {
              "outlinewidth": 0,
              "ticks": ""
             }
            },
            "type": "scattergl"
           }
          ],
          "scattermapbox": [
           {
            "marker": {
             "colorbar": {
              "outlinewidth": 0,
              "ticks": ""
             }
            },
            "type": "scattermapbox"
           }
          ],
          "scatterpolar": [
           {
            "marker": {
             "colorbar": {
              "outlinewidth": 0,
              "ticks": ""
             }
            },
            "type": "scatterpolar"
           }
          ],
          "scatterpolargl": [
           {
            "marker": {
             "colorbar": {
              "outlinewidth": 0,
              "ticks": ""
             }
            },
            "type": "scatterpolargl"
           }
          ],
          "scatterternary": [
           {
            "marker": {
             "colorbar": {
              "outlinewidth": 0,
              "ticks": ""
             }
            },
            "type": "scatterternary"
           }
          ],
          "surface": [
           {
            "colorbar": {
             "outlinewidth": 0,
             "ticks": ""
            },
            "colorscale": [
             [
              0,
              "#0d0887"
             ],
             [
              0.1111111111111111,
              "#46039f"
             ],
             [
              0.2222222222222222,
              "#7201a8"
             ],
             [
              0.3333333333333333,
              "#9c179e"
             ],
             [
              0.4444444444444444,
              "#bd3786"
             ],
             [
              0.5555555555555556,
              "#d8576b"
             ],
             [
              0.6666666666666666,
              "#ed7953"
             ],
             [
              0.7777777777777778,
              "#fb9f3a"
             ],
             [
              0.8888888888888888,
              "#fdca26"
             ],
             [
              1,
              "#f0f921"
             ]
            ],
            "type": "surface"
           }
          ],
          "table": [
           {
            "cells": {
             "fill": {
              "color": "#EBF0F8"
             },
             "line": {
              "color": "white"
             }
            },
            "header": {
             "fill": {
              "color": "#C8D4E3"
             },
             "line": {
              "color": "white"
             }
            },
            "type": "table"
           }
          ]
         },
         "layout": {
          "annotationdefaults": {
           "arrowcolor": "#2a3f5f",
           "arrowhead": 0,
           "arrowwidth": 1
          },
          "autotypenumbers": "strict",
          "coloraxis": {
           "colorbar": {
            "outlinewidth": 0,
            "ticks": ""
           }
          },
          "colorscale": {
           "diverging": [
            [
             0,
             "#8e0152"
            ],
            [
             0.1,
             "#c51b7d"
            ],
            [
             0.2,
             "#de77ae"
            ],
            [
             0.3,
             "#f1b6da"
            ],
            [
             0.4,
             "#fde0ef"
            ],
            [
             0.5,
             "#f7f7f7"
            ],
            [
             0.6,
             "#e6f5d0"
            ],
            [
             0.7,
             "#b8e186"
            ],
            [
             0.8,
             "#7fbc41"
            ],
            [
             0.9,
             "#4d9221"
            ],
            [
             1,
             "#276419"
            ]
           ],
           "sequential": [
            [
             0,
             "#0d0887"
            ],
            [
             0.1111111111111111,
             "#46039f"
            ],
            [
             0.2222222222222222,
             "#7201a8"
            ],
            [
             0.3333333333333333,
             "#9c179e"
            ],
            [
             0.4444444444444444,
             "#bd3786"
            ],
            [
             0.5555555555555556,
             "#d8576b"
            ],
            [
             0.6666666666666666,
             "#ed7953"
            ],
            [
             0.7777777777777778,
             "#fb9f3a"
            ],
            [
             0.8888888888888888,
             "#fdca26"
            ],
            [
             1,
             "#f0f921"
            ]
           ],
           "sequentialminus": [
            [
             0,
             "#0d0887"
            ],
            [
             0.1111111111111111,
             "#46039f"
            ],
            [
             0.2222222222222222,
             "#7201a8"
            ],
            [
             0.3333333333333333,
             "#9c179e"
            ],
            [
             0.4444444444444444,
             "#bd3786"
            ],
            [
             0.5555555555555556,
             "#d8576b"
            ],
            [
             0.6666666666666666,
             "#ed7953"
            ],
            [
             0.7777777777777778,
             "#fb9f3a"
            ],
            [
             0.8888888888888888,
             "#fdca26"
            ],
            [
             1,
             "#f0f921"
            ]
           ]
          },
          "colorway": [
           "#636efa",
           "#EF553B",
           "#00cc96",
           "#ab63fa",
           "#FFA15A",
           "#19d3f3",
           "#FF6692",
           "#B6E880",
           "#FF97FF",
           "#FECB52"
          ],
          "font": {
           "color": "#2a3f5f"
          },
          "geo": {
           "bgcolor": "white",
           "lakecolor": "white",
           "landcolor": "#E5ECF6",
           "showlakes": true,
           "showland": true,
           "subunitcolor": "white"
          },
          "hoverlabel": {
           "align": "left"
          },
          "hovermode": "closest",
          "mapbox": {
           "style": "light"
          },
          "paper_bgcolor": "white",
          "plot_bgcolor": "#E5ECF6",
          "polar": {
           "angularaxis": {
            "gridcolor": "white",
            "linecolor": "white",
            "ticks": ""
           },
           "bgcolor": "#E5ECF6",
           "radialaxis": {
            "gridcolor": "white",
            "linecolor": "white",
            "ticks": ""
           }
          },
          "scene": {
           "xaxis": {
            "backgroundcolor": "#E5ECF6",
            "gridcolor": "white",
            "gridwidth": 2,
            "linecolor": "white",
            "showbackground": true,
            "ticks": "",
            "zerolinecolor": "white"
           },
           "yaxis": {
            "backgroundcolor": "#E5ECF6",
            "gridcolor": "white",
            "gridwidth": 2,
            "linecolor": "white",
            "showbackground": true,
            "ticks": "",
            "zerolinecolor": "white"
           },
           "zaxis": {
            "backgroundcolor": "#E5ECF6",
            "gridcolor": "white",
            "gridwidth": 2,
            "linecolor": "white",
            "showbackground": true,
            "ticks": "",
            "zerolinecolor": "white"
           }
          },
          "shapedefaults": {
           "line": {
            "color": "#2a3f5f"
           }
          },
          "ternary": {
           "aaxis": {
            "gridcolor": "white",
            "linecolor": "white",
            "ticks": ""
           },
           "baxis": {
            "gridcolor": "white",
            "linecolor": "white",
            "ticks": ""
           },
           "bgcolor": "#E5ECF6",
           "caxis": {
            "gridcolor": "white",
            "linecolor": "white",
            "ticks": ""
           }
          },
          "title": {
           "x": 0.05
          },
          "xaxis": {
           "automargin": true,
           "gridcolor": "white",
           "linecolor": "white",
           "ticks": "",
           "title": {
            "standoff": 15
           },
           "zerolinecolor": "white",
           "zerolinewidth": 2
          },
          "yaxis": {
           "automargin": true,
           "gridcolor": "white",
           "linecolor": "white",
           "ticks": "",
           "title": {
            "standoff": 15
           },
           "zerolinecolor": "white",
           "zerolinewidth": 2
          }
         }
        },
        "title": {
         "text": "MCS vs Total Gain"
        },
        "xaxis": {
         "anchor": "y",
         "domain": [
          0,
          1
         ],
         "title": {
          "text": "MCS"
         }
        },
        "yaxis": {
         "anchor": "x",
         "domain": [
          0,
          1
         ],
         "title": {
          "text": "Total Gain"
         }
        }
       }
      }
     },
     "metadata": {},
     "output_type": "display_data"
    },
    {
     "data": {
      "application/vnd.plotly.v1+json": {
       "config": {
        "plotlyServerURL": "https://plot.ly"
       },
       "data": [
        {
         "hovertemplate": "MCS=%{x}<br>RX iPerf Bitrate (Mbits/sec)=%{y}<extra></extra>",
         "legendgroup": "",
         "marker": {
          "color": "#636efa",
          "symbol": "circle"
         },
         "mode": "markers",
         "name": "",
         "orientation": "v",
         "showlegend": false,
         "type": "scatter",
         "x": [
          4,
          6,
          7,
          4,
          7,
          4,
          7,
          7,
          4,
          7,
          3,
          2,
          2,
          3,
          4,
          2,
          4,
          4,
          2,
          3,
          4,
          2,
          2,
          2,
          6,
          4,
          3,
          3,
          3,
          1,
          4,
          1,
          10,
          5,
          4,
          4,
          4,
          4,
          6,
          4,
          4,
          4,
          4,
          6,
          7,
          7,
          7,
          7,
          7,
          7,
          7,
          7,
          7,
          7,
          7,
          3,
          1,
          0,
          3,
          0,
          2,
          2,
          0,
          2,
          0,
          2,
          1,
          1,
          7,
          7,
          7,
          7,
          7,
          7,
          7,
          7,
          7,
          7,
          4,
          7,
          7,
          7,
          7,
          7,
          4,
          4,
          6,
          6,
          4,
          2,
          3,
          0,
          1,
          7,
          3,
          2,
          2,
          1,
          1,
          2,
          4,
          6,
          5,
          4,
          6,
          4,
          4,
          4,
          6,
          4
         ],
         "xaxis": "x",
         "y": [
          1.22,
          1.27,
          1.55,
          1.16,
          1.82,
          1.15,
          1.78,
          1.72,
          1.14,
          1.83,
          0.705,
          0.647,
          0.636,
          0.786,
          1.03,
          0.621,
          1.15,
          1.15,
          0.622,
          0.847,
          0.599,
          0.625,
          0.621,
          0.628,
          0.441,
          1.02,
          0.7,
          0.763,
          0.787,
          0.443,
          1.12,
          0.315,
          0.009810000000000001,
          0,
          2.28,
          2.31,
          2.33,
          2.28,
          2.84,
          2.19,
          2.31,
          2.33,
          2.21,
          2.98,
          3.43,
          3.4,
          3.4,
          3.38,
          3.42,
          3.42,
          3.2,
          3.43,
          3.43,
          3.32,
          3.42,
          1.58,
          0.129,
          0.000445,
          1.56,
          0.38,
          1.19,
          1.21,
          0.372,
          1.21,
          0.366,
          1.17,
          0.77,
          0.749,
          1.83,
          1.84,
          1.84,
          1.85,
          1.83,
          1.83,
          1.85,
          1.84,
          1.84,
          1.83,
          1.15,
          1.84,
          1.77,
          1.7,
          1.84,
          1.83,
          1.15,
          1.17,
          1.38,
          1.52,
          1.18,
          1.3,
          1.66,
          0.502,
          0.536,
          3.06,
          1.65,
          1.28,
          1.22,
          0.82,
          0.833,
          1.28,
          2,
          2.59,
          2.18,
          2.34,
          2.95,
          2.3,
          2.31,
          2.33,
          2.34,
          2.3
         ],
         "yaxis": "y"
        }
       ],
       "layout": {
        "legend": {
         "tracegroupgap": 0
        },
        "template": {
         "data": {
          "bar": [
           {
            "error_x": {
             "color": "#2a3f5f"
            },
            "error_y": {
             "color": "#2a3f5f"
            },
            "marker": {
             "line": {
              "color": "#E5ECF6",
              "width": 0.5
             },
             "pattern": {
              "fillmode": "overlay",
              "size": 10,
              "solidity": 0.2
             }
            },
            "type": "bar"
           }
          ],
          "barpolar": [
           {
            "marker": {
             "line": {
              "color": "#E5ECF6",
              "width": 0.5
             },
             "pattern": {
              "fillmode": "overlay",
              "size": 10,
              "solidity": 0.2
             }
            },
            "type": "barpolar"
           }
          ],
          "carpet": [
           {
            "aaxis": {
             "endlinecolor": "#2a3f5f",
             "gridcolor": "white",
             "linecolor": "white",
             "minorgridcolor": "white",
             "startlinecolor": "#2a3f5f"
            },
            "baxis": {
             "endlinecolor": "#2a3f5f",
             "gridcolor": "white",
             "linecolor": "white",
             "minorgridcolor": "white",
             "startlinecolor": "#2a3f5f"
            },
            "type": "carpet"
           }
          ],
          "choropleth": [
           {
            "colorbar": {
             "outlinewidth": 0,
             "ticks": ""
            },
            "type": "choropleth"
           }
          ],
          "contour": [
           {
            "colorbar": {
             "outlinewidth": 0,
             "ticks": ""
            },
            "colorscale": [
             [
              0,
              "#0d0887"
             ],
             [
              0.1111111111111111,
              "#46039f"
             ],
             [
              0.2222222222222222,
              "#7201a8"
             ],
             [
              0.3333333333333333,
              "#9c179e"
             ],
             [
              0.4444444444444444,
              "#bd3786"
             ],
             [
              0.5555555555555556,
              "#d8576b"
             ],
             [
              0.6666666666666666,
              "#ed7953"
             ],
             [
              0.7777777777777778,
              "#fb9f3a"
             ],
             [
              0.8888888888888888,
              "#fdca26"
             ],
             [
              1,
              "#f0f921"
             ]
            ],
            "type": "contour"
           }
          ],
          "contourcarpet": [
           {
            "colorbar": {
             "outlinewidth": 0,
             "ticks": ""
            },
            "type": "contourcarpet"
           }
          ],
          "heatmap": [
           {
            "colorbar": {
             "outlinewidth": 0,
             "ticks": ""
            },
            "colorscale": [
             [
              0,
              "#0d0887"
             ],
             [
              0.1111111111111111,
              "#46039f"
             ],
             [
              0.2222222222222222,
              "#7201a8"
             ],
             [
              0.3333333333333333,
              "#9c179e"
             ],
             [
              0.4444444444444444,
              "#bd3786"
             ],
             [
              0.5555555555555556,
              "#d8576b"
             ],
             [
              0.6666666666666666,
              "#ed7953"
             ],
             [
              0.7777777777777778,
              "#fb9f3a"
             ],
             [
              0.8888888888888888,
              "#fdca26"
             ],
             [
              1,
              "#f0f921"
             ]
            ],
            "type": "heatmap"
           }
          ],
          "heatmapgl": [
           {
            "colorbar": {
             "outlinewidth": 0,
             "ticks": ""
            },
            "colorscale": [
             [
              0,
              "#0d0887"
             ],
             [
              0.1111111111111111,
              "#46039f"
             ],
             [
              0.2222222222222222,
              "#7201a8"
             ],
             [
              0.3333333333333333,
              "#9c179e"
             ],
             [
              0.4444444444444444,
              "#bd3786"
             ],
             [
              0.5555555555555556,
              "#d8576b"
             ],
             [
              0.6666666666666666,
              "#ed7953"
             ],
             [
              0.7777777777777778,
              "#fb9f3a"
             ],
             [
              0.8888888888888888,
              "#fdca26"
             ],
             [
              1,
              "#f0f921"
             ]
            ],
            "type": "heatmapgl"
           }
          ],
          "histogram": [
           {
            "marker": {
             "pattern": {
              "fillmode": "overlay",
              "size": 10,
              "solidity": 0.2
             }
            },
            "type": "histogram"
           }
          ],
          "histogram2d": [
           {
            "colorbar": {
             "outlinewidth": 0,
             "ticks": ""
            },
            "colorscale": [
             [
              0,
              "#0d0887"
             ],
             [
              0.1111111111111111,
              "#46039f"
             ],
             [
              0.2222222222222222,
              "#7201a8"
             ],
             [
              0.3333333333333333,
              "#9c179e"
             ],
             [
              0.4444444444444444,
              "#bd3786"
             ],
             [
              0.5555555555555556,
              "#d8576b"
             ],
             [
              0.6666666666666666,
              "#ed7953"
             ],
             [
              0.7777777777777778,
              "#fb9f3a"
             ],
             [
              0.8888888888888888,
              "#fdca26"
             ],
             [
              1,
              "#f0f921"
             ]
            ],
            "type": "histogram2d"
           }
          ],
          "histogram2dcontour": [
           {
            "colorbar": {
             "outlinewidth": 0,
             "ticks": ""
            },
            "colorscale": [
             [
              0,
              "#0d0887"
             ],
             [
              0.1111111111111111,
              "#46039f"
             ],
             [
              0.2222222222222222,
              "#7201a8"
             ],
             [
              0.3333333333333333,
              "#9c179e"
             ],
             [
              0.4444444444444444,
              "#bd3786"
             ],
             [
              0.5555555555555556,
              "#d8576b"
             ],
             [
              0.6666666666666666,
              "#ed7953"
             ],
             [
              0.7777777777777778,
              "#fb9f3a"
             ],
             [
              0.8888888888888888,
              "#fdca26"
             ],
             [
              1,
              "#f0f921"
             ]
            ],
            "type": "histogram2dcontour"
           }
          ],
          "mesh3d": [
           {
            "colorbar": {
             "outlinewidth": 0,
             "ticks": ""
            },
            "type": "mesh3d"
           }
          ],
          "parcoords": [
           {
            "line": {
             "colorbar": {
              "outlinewidth": 0,
              "ticks": ""
             }
            },
            "type": "parcoords"
           }
          ],
          "pie": [
           {
            "automargin": true,
            "type": "pie"
           }
          ],
          "scatter": [
           {
            "fillpattern": {
             "fillmode": "overlay",
             "size": 10,
             "solidity": 0.2
            },
            "type": "scatter"
           }
          ],
          "scatter3d": [
           {
            "line": {
             "colorbar": {
              "outlinewidth": 0,
              "ticks": ""
             }
            },
            "marker": {
             "colorbar": {
              "outlinewidth": 0,
              "ticks": ""
             }
            },
            "type": "scatter3d"
           }
          ],
          "scattercarpet": [
           {
            "marker": {
             "colorbar": {
              "outlinewidth": 0,
              "ticks": ""
             }
            },
            "type": "scattercarpet"
           }
          ],
          "scattergeo": [
           {
            "marker": {
             "colorbar": {
              "outlinewidth": 0,
              "ticks": ""
             }
            },
            "type": "scattergeo"
           }
          ],
          "scattergl": [
           {
            "marker": {
             "colorbar": {
              "outlinewidth": 0,
              "ticks": ""
             }
            },
            "type": "scattergl"
           }
          ],
          "scattermapbox": [
           {
            "marker": {
             "colorbar": {
              "outlinewidth": 0,
              "ticks": ""
             }
            },
            "type": "scattermapbox"
           }
          ],
          "scatterpolar": [
           {
            "marker": {
             "colorbar": {
              "outlinewidth": 0,
              "ticks": ""
             }
            },
            "type": "scatterpolar"
           }
          ],
          "scatterpolargl": [
           {
            "marker": {
             "colorbar": {
              "outlinewidth": 0,
              "ticks": ""
             }
            },
            "type": "scatterpolargl"
           }
          ],
          "scatterternary": [
           {
            "marker": {
             "colorbar": {
              "outlinewidth": 0,
              "ticks": ""
             }
            },
            "type": "scatterternary"
           }
          ],
          "surface": [
           {
            "colorbar": {
             "outlinewidth": 0,
             "ticks": ""
            },
            "colorscale": [
             [
              0,
              "#0d0887"
             ],
             [
              0.1111111111111111,
              "#46039f"
             ],
             [
              0.2222222222222222,
              "#7201a8"
             ],
             [
              0.3333333333333333,
              "#9c179e"
             ],
             [
              0.4444444444444444,
              "#bd3786"
             ],
             [
              0.5555555555555556,
              "#d8576b"
             ],
             [
              0.6666666666666666,
              "#ed7953"
             ],
             [
              0.7777777777777778,
              "#fb9f3a"
             ],
             [
              0.8888888888888888,
              "#fdca26"
             ],
             [
              1,
              "#f0f921"
             ]
            ],
            "type": "surface"
           }
          ],
          "table": [
           {
            "cells": {
             "fill": {
              "color": "#EBF0F8"
             },
             "line": {
              "color": "white"
             }
            },
            "header": {
             "fill": {
              "color": "#C8D4E3"
             },
             "line": {
              "color": "white"
             }
            },
            "type": "table"
           }
          ]
         },
         "layout": {
          "annotationdefaults": {
           "arrowcolor": "#2a3f5f",
           "arrowhead": 0,
           "arrowwidth": 1
          },
          "autotypenumbers": "strict",
          "coloraxis": {
           "colorbar": {
            "outlinewidth": 0,
            "ticks": ""
           }
          },
          "colorscale": {
           "diverging": [
            [
             0,
             "#8e0152"
            ],
            [
             0.1,
             "#c51b7d"
            ],
            [
             0.2,
             "#de77ae"
            ],
            [
             0.3,
             "#f1b6da"
            ],
            [
             0.4,
             "#fde0ef"
            ],
            [
             0.5,
             "#f7f7f7"
            ],
            [
             0.6,
             "#e6f5d0"
            ],
            [
             0.7,
             "#b8e186"
            ],
            [
             0.8,
             "#7fbc41"
            ],
            [
             0.9,
             "#4d9221"
            ],
            [
             1,
             "#276419"
            ]
           ],
           "sequential": [
            [
             0,
             "#0d0887"
            ],
            [
             0.1111111111111111,
             "#46039f"
            ],
            [
             0.2222222222222222,
             "#7201a8"
            ],
            [
             0.3333333333333333,
             "#9c179e"
            ],
            [
             0.4444444444444444,
             "#bd3786"
            ],
            [
             0.5555555555555556,
             "#d8576b"
            ],
            [
             0.6666666666666666,
             "#ed7953"
            ],
            [
             0.7777777777777778,
             "#fb9f3a"
            ],
            [
             0.8888888888888888,
             "#fdca26"
            ],
            [
             1,
             "#f0f921"
            ]
           ],
           "sequentialminus": [
            [
             0,
             "#0d0887"
            ],
            [
             0.1111111111111111,
             "#46039f"
            ],
            [
             0.2222222222222222,
             "#7201a8"
            ],
            [
             0.3333333333333333,
             "#9c179e"
            ],
            [
             0.4444444444444444,
             "#bd3786"
            ],
            [
             0.5555555555555556,
             "#d8576b"
            ],
            [
             0.6666666666666666,
             "#ed7953"
            ],
            [
             0.7777777777777778,
             "#fb9f3a"
            ],
            [
             0.8888888888888888,
             "#fdca26"
            ],
            [
             1,
             "#f0f921"
            ]
           ]
          },
          "colorway": [
           "#636efa",
           "#EF553B",
           "#00cc96",
           "#ab63fa",
           "#FFA15A",
           "#19d3f3",
           "#FF6692",
           "#B6E880",
           "#FF97FF",
           "#FECB52"
          ],
          "font": {
           "color": "#2a3f5f"
          },
          "geo": {
           "bgcolor": "white",
           "lakecolor": "white",
           "landcolor": "#E5ECF6",
           "showlakes": true,
           "showland": true,
           "subunitcolor": "white"
          },
          "hoverlabel": {
           "align": "left"
          },
          "hovermode": "closest",
          "mapbox": {
           "style": "light"
          },
          "paper_bgcolor": "white",
          "plot_bgcolor": "#E5ECF6",
          "polar": {
           "angularaxis": {
            "gridcolor": "white",
            "linecolor": "white",
            "ticks": ""
           },
           "bgcolor": "#E5ECF6",
           "radialaxis": {
            "gridcolor": "white",
            "linecolor": "white",
            "ticks": ""
           }
          },
          "scene": {
           "xaxis": {
            "backgroundcolor": "#E5ECF6",
            "gridcolor": "white",
            "gridwidth": 2,
            "linecolor": "white",
            "showbackground": true,
            "ticks": "",
            "zerolinecolor": "white"
           },
           "yaxis": {
            "backgroundcolor": "#E5ECF6",
            "gridcolor": "white",
            "gridwidth": 2,
            "linecolor": "white",
            "showbackground": true,
            "ticks": "",
            "zerolinecolor": "white"
           },
           "zaxis": {
            "backgroundcolor": "#E5ECF6",
            "gridcolor": "white",
            "gridwidth": 2,
            "linecolor": "white",
            "showbackground": true,
            "ticks": "",
            "zerolinecolor": "white"
           }
          },
          "shapedefaults": {
           "line": {
            "color": "#2a3f5f"
           }
          },
          "ternary": {
           "aaxis": {
            "gridcolor": "white",
            "linecolor": "white",
            "ticks": ""
           },
           "baxis": {
            "gridcolor": "white",
            "linecolor": "white",
            "ticks": ""
           },
           "bgcolor": "#E5ECF6",
           "caxis": {
            "gridcolor": "white",
            "linecolor": "white",
            "ticks": ""
           }
          },
          "title": {
           "x": 0.05
          },
          "xaxis": {
           "automargin": true,
           "gridcolor": "white",
           "linecolor": "white",
           "ticks": "",
           "title": {
            "standoff": 15
           },
           "zerolinecolor": "white",
           "zerolinewidth": 2
          },
          "yaxis": {
           "automargin": true,
           "gridcolor": "white",
           "linecolor": "white",
           "ticks": "",
           "title": {
            "standoff": 15
           },
           "zerolinecolor": "white",
           "zerolinewidth": 2
          }
         }
        },
        "title": {
         "text": "MCS vs RX iPerf Bitrate (Mbits/sec)"
        },
        "xaxis": {
         "anchor": "y",
         "domain": [
          0,
          1
         ],
         "title": {
          "text": "MCS"
         }
        },
        "yaxis": {
         "anchor": "x",
         "domain": [
          0,
          1
         ],
         "title": {
          "text": "RX iPerf Bitrate (Mbits/sec)"
         }
        }
       }
      }
     },
     "metadata": {},
     "output_type": "display_data"
    }
   ],
   "source": [
    "\n",
    "# init commits\n",
    "scenarios = []\n",
    "def extract_scenarios_from_text_files(directory):\n",
    "    for root, dirs, files in os.walk(directory):\n",
    "        for dir in dirs:\n",
    "            source_dir = os.path.join(root, dir)\n",
    "            for file in os.listdir(source_dir):\n",
    "                print(file)\n",
    "                if file.endswith('.txt'):\n",
    "                    file_path = os.path.join(source_dir, file)\n",
    "                    try:\n",
    "                        scenario = Scenario(file_path)\n",
    "                        scenarios.append(scenario)\n",
    "                    except Exception as e:\n",
    "                        print(f\"An error occurred while processing {file_path}: {e}\")\n",
    "                        continue\n",
    "    return scenarios\n",
    "\n",
    "def scenarios_to_dataframe(scenarios):\n",
    "    data_dicts = [scenario.to_dict() for scenario in scenarios]\n",
    "    return pd.DataFrame(data_dicts)\n",
    "\n",
    "def plot_interactive(df):\n",
    "    def update_plot(x, y):\n",
    "        fig = px.scatter(df, x=x, y=y, title=f'{x} vs {y}', labels={x: x, y: y})\n",
    "        fig.show()\n",
    "\n",
    "    columns = df.columns\n",
    "    interact(update_plot, x=columns, y=columns)\n",
    "\n",
    "# Example usage\n",
    "logs_directory = r'/Users/francesco/Library/CloudStorage/OneDrive-epfl.ch/MA2/Semester Project/DATA/WiFi_HaLow/data/coaxial'\n",
    "scenarios = extract_scenarios_from_text_files(logs_directory)\n",
    "data_frame = scenarios_to_dataframe(scenarios)\n",
    "print(data_frame)\n",
    "\n",
    "if not data_frame.empty:\n",
    "    plot_interactive(data_frame)\n",
    "else:\n",
    "    print(\"No data available for plotting.\")\n"
   ]
  },
  {
   "cell_type": "code",
   "execution_count": 5,
   "metadata": {},
   "outputs": [
    {
     "data": {
      "text/plain": [
       "{'Test Name': 'coaxial_txpwr13_1Mhz_60dBm_combined',\n",
       " 'Timestamp': 'Sat 11 May 2024 07:00:49 AM CEST',\n",
       " 'Test Type': 'coaxial',\n",
       " 'Distance': 'null',\n",
       " 'Attenuation (dBm)': 60,\n",
       " 'Propagation': 'LoS',\n",
       " 'Bandwidth': '1M',\n",
       " 'Frequency': '8675',\n",
       " 'MCS': 4,\n",
       " 'Rate Control': 'on',\n",
       " 'Guard Interval': 'long',\n",
       " 'TX Gain': 13,\n",
       " 'RX iPerf Bitrate (Mbits/sec)': 1.22,\n",
       " 'TX iPerf Bitrate (Mbits/sec)': 1.25,\n",
       " 'Receiver Lost/Total Datagrams': '0/2690',\n",
       " 'Jitter (ms)': 13.495,\n",
       " 'Receiver BER (%)': 0.0,\n",
       " 'RSSI Median': -88.0,\n",
       " 'SNR Median': 19.0,\n",
       " 'Total Gain': -47}"
      ]
     },
     "execution_count": 5,
     "metadata": {},
     "output_type": "execute_result"
    }
   ],
   "source": [
    "scenarios[0].to_dict()"
   ]
  },
  {
   "cell_type": "code",
   "execution_count": 46,
   "metadata": {},
   "outputs": [
    {
     "data": {
      "image/png": "[encoded data removed]",
      "text/plain": [
       "<Figure size 1000x600 with 1 Axes>"
      ]
     },
     "metadata": {},
     "output_type": "display_data"
    }
   ],
   "source": [
    "import matplotlib.pyplot as plt\n",
    "import numpy as np\n",
    "from collections import defaultdict\n",
    "\n",
    "# Assuming scenarios is already populated\n",
    "Scenario_coaxial_1MHz = []\n",
    "Scenario_coaxial_2MHz = []\n",
    "\n",
    "for scenario in scenarios:\n",
    "    if scenario.bandwidth == \"1M\":\n",
    "        Scenario_coaxial_1MHz.append(scenario)\n",
    "    elif scenario.bandwidth == \"2M\":\n",
    "        Scenario_coaxial_2MHz.append(scenario)\n",
    "\n",
    "# Extract and group data by MCS\n",
    "mcs_1m_data = defaultdict(list)\n",
    "mcs_2m_data = defaultdict(list)\n",
    "\n",
    "for scenario in Scenario_coaxial_1MHz:\n",
    "    mcs_1m_data[scenario.mcs].append(scenario.rx_iperf_bitrate)\n",
    "\n",
    "for scenario in Scenario_coaxial_2MHz:\n",
    "    mcs_2m_data[scenario.mcs].append(scenario.rx_iperf_bitrate)\n",
    "\n",
    "# Calculate mean and spread for 1M data\n",
    "mcs_1m = []\n",
    "mean_1m = []\n",
    "spread_1m = []\n",
    "\n",
    "for mcs, data_rates in mcs_1m_data.items():\n",
    "    mcs_1m.append(mcs)\n",
    "    mean_1m.append(np.mean(data_rates))\n",
    "    spread_1m.append(np.std(data_rates))  # Using standard deviation as the spread\n",
    "\n",
    "# Calculate mean and spread for 2M data\n",
    "mcs_2m = []\n",
    "mean_2m = []\n",
    "spread_2m = []\n",
    "\n",
    "for mcs, data_rates in mcs_2m_data.items():\n",
    "    mcs_2m.append(mcs)\n",
    "    mean_2m.append(np.mean(data_rates))\n",
    "    spread_2m.append(np.std(data_rates))  # Using standard deviation as the spread\n",
    "# Desired MCS order: start with 10, then 0 to 7 (excluding 8 and 9)\n",
    "desired_order = [10] + list(range(8)) + list(range(11, max(max(mcs_1m, mcs_2m), 7) + 1))\n",
    "\n",
    "# Sort the data according to the desired order\n",
    "def sort_data_by_order(mcs, mean, spread, order):\n",
    "    order_dict = {mcs_val: i for i, mcs_val in enumerate(order)}\n",
    "    sorted_indices = sorted(range(len(mcs)), key=lambda i: order_dict[mcs[i]])\n",
    "    return [mcs[i] for i in sorted_indices], [mean[i] for i in sorted_indices], [spread[i] for i in sorted_indices]\n",
    "\n",
    "mcs_1m, mean_1m, spread_1m = sort_data_by_order(mcs_1m, mean_1m, spread_1m, desired_order)\n",
    "mcs_2m, mean_2m, spread_2m = sort_data_by_order(mcs_2m, mean_2m, spread_2m, desired_order)\n",
    "\n",
    "# Create the plot\n",
    "plt.figure(figsize=(10, 6))\n",
    "\n",
    "# Plot 1MHz data with error bars\n",
    "plt.errorbar(mcs_1m, mean_1m, yerr=spread_1m, fmt='o', color='blue', label='1 MHz Bandwidth')\n",
    "\n",
    "# Plot 2MHz data with error bars\n",
    "plt.errorbar(mcs_2m, mean_2m, yerr=spread_2m, fmt='o', color='red', label='2 MHz Bandwidth')\n",
    "\n",
    "# Adding title and labels\n",
    "plt.title('MCS vs Data Rate')\n",
    "plt.xlabel('MCS')\n",
    "plt.ylabel('Data Rate (Mbits/sec)')\n",
    "plt.legend()\n",
    "plt.grid(True)\n",
    "\n",
    "# Ensure every MCS value in the desired order is displayed on the x-axis\n",
    "plt.xticks(desired_order)\n",
    "\n",
    "# Show the plot\n",
    "plt.show()\n",
    "\n"
   ]
  },
  {
   "cell_type": "code",
   "execution_count": null,
   "metadata": {},
   "outputs": [],
   "source": []
  }
 ],
 "metadata": {
  "kernelspec": {
   "display_name": "Python 3",
   "language": "python",
   "name": "python3"
  },
  "language_info": {
   "codemirror_mode": {
    "name": "ipython",
    "version": 3
   },
   "file_extension": ".py",
   "mimetype": "text/x-python",
   "name": "python",
   "nbconvert_exporter": "python",
   "pygments_lexer": "ipython3",
   "version": "3.10.13"
  }
 },
 "nbformat": 4,
 "nbformat_minor": 2
}
