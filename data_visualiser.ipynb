{
 "cells": [
  {
   "cell_type": "code",
   "execution_count": 5,
   "metadata": {},
   "outputs": [],
   "source": [
    "# Importing the libraries\n",
    "import pandas as pd\n",
    "import matplotlib.pyplot as plt\n",
    "import seaborn as sns\n",
    "import os\n",
    "import plotly.graph_objects as go\n",
    "from scenario import*\n",
    "import plotly.express as px\n",
    "from ipywidgets import interact, interactive, fixed, interact_manual"
   ]
  },
  {
   "cell_type": "code",
   "execution_count": 6,
   "metadata": {},
   "outputs": [],
   "source": [
    "scenarios = []\n",
    "def extract_scenarios_from_text_files(directory):\n",
    "    for root, dirs, files in os.walk(directory):\n",
    "        for dir in dirs:\n",
    "            source_dir = os.path.join(root, dir)\n",
    "            for file in os.listdir(source_dir):\n",
    "                print(file)\n",
    "                if file.endswith('.txt'):\n",
    "                    file_path = os.path.join(source_dir, file)\n",
    "                    try:\n",
    "                        scenario = Scenario(file_path)\n",
    "                        scenarios.append(scenario)\n",
    "                    except Exception as e:\n",
    "                        print(f\"An error occurred while processing {file_path}: {e}\")\n",
    "                        continue\n",
    "    return scenarios\n",
    "\n",
    "def scenarios_to_dataframe(scenarios):\n",
    "    data_dicts = [scenario.to_dict() for scenario in scenarios]\n",
    "    return pd.DataFrame(data_dicts)\n",
    "\n",
    "def plot_interactive(df):\n",
    "    def update_plot(x, y):\n",
    "        fig = px.scatter(df, x=x, y=y, title=f'{x} vs {y}', labels={x: x, y: y})\n",
    "        fig.show()\n",
    "\n",
    "    columns = df.columns\n",
    "    interact(update_plot, x=columns, y=columns)\n",
    "\n"
   ]
  },
  {
   "cell_type": "code",
   "execution_count": 7,
   "metadata": {},
   "outputs": [
    {
     "name": "stdout",
     "output_type": "stream",
     "text": [
      "coaxial_txpwr0_1Mhz_50dBm.txt\n",
      "coaxial_txpwr10_1Mhz_50dBm.txt\n",
      "coaxial_txpwr11_1Mhz_50dBm.txt\n",
      "coaxial_txpwr12_1Mhz_50dBm.txt\n",
      "coaxial_txpwr13_1Mhz_50dBm.txt\n",
      "coaxial_txpwr14_1Mhz_50dBm.txt\n",
      "coaxial_txpwr15_1Mhz_50dBm.txt\n",
      "coaxial_txpwr16_1Mhz_50dBm.txt\n",
      "coaxial_txpwr17_1Mhz_50dBm.txt\n",
      "coaxial_txpwr18_1Mhz_50dBm.txt\n",
      "coaxial_txpwr19_1Mhz_50dBm.txt\n",
      "coaxial_txpwr1_1Mhz_50dBm.txt\n",
      "coaxial_txpwr20_1Mhz_50dBm.txt\n",
      "coaxial_txpwr2_1Mhz_50dBm.txt\n",
      "coaxial_txpwr3_1Mhz_50dBm.txt\n",
      "coaxial_txpwr4_1Mhz_50dBm.txt\n",
      "coaxial_txpwr5_1Mhz_50dBm.txt\n",
      "coaxial_txpwr6_1Mhz_50dBm.txt\n",
      "coaxial_txpwr7_1Mhz_50dBm.txt\n",
      "coaxial_txpwr8_1Mhz_50dBm.txt\n",
      "coaxial_txpwr9_1Mhz_50dBm.txt\n",
      "coaxial_txpwr0_2Mhz_50dBm.txt\n",
      "coaxial_txpwr10_2Mhz_50dBm.txt\n",
      "coaxial_txpwr11_2Mhz_50dBm.txt\n",
      "coaxial_txpwr12_2Mhz_50dBm.txt\n",
      "coaxial_txpwr13_2Mhz_50dBm.txt\n",
      "coaxial_txpwr14_2Mhz_50dBm.txt\n",
      "coaxial_txpwr15_2Mhz_50dBm.txt\n",
      "coaxial_txpwr16_2Mhz_50dBm.txt\n",
      "coaxial_txpwr17_2Mhz_50dBm.txt\n",
      "coaxial_txpwr18_2Mhz_50dBm.txt\n",
      "coaxial_txpwr19_2Mhz_50dBm.txt\n",
      "coaxial_txpwr1_2Mhz_50dBm.txt\n",
      "coaxial_txpwr20_2Mhz_50dBm.txt\n",
      "coaxial_txpwr2_2Mhz_50dBm.txt\n",
      "coaxial_txpwr3_2Mhz_50dBm.txt\n",
      "coaxial_txpwr4_2Mhz_50dBm.txt\n",
      "coaxial_txpwr5_2Mhz_50dBm.txt\n",
      "coaxial_txpwr6_2Mhz_50dBm.txt\n",
      "coaxial_txpwr7_2Mhz_50dBm.txt\n",
      "coaxial_txpwr8_2Mhz_50dBm.txt\n",
      "coaxial_txpwr9_2Mhz_50dBm.txt\n",
      "coaxial_txpwr0_1Mhz_60dBm.txt\n",
      "coaxial_txpwr10_1Mhz_60dBm.txt\n",
      "coaxial_txpwr11_1Mhz_60dBm.txt\n",
      "coaxial_txpwr12_1Mhz_60dBm.txt\n",
      "coaxial_txpwr13_1Mhz_60dBm.txt\n",
      "coaxial_txpwr14_1Mhz_60dBm.txt\n",
      "coaxial_txpwr15_1Mhz_60dBm.txt\n",
      "coaxial_txpwr16_1Mhz_60dBm.txt\n",
      "coaxial_txpwr17_1Mhz_60dBm.txt\n",
      "coaxial_txpwr18_1Mhz_60dBm.txt\n",
      "coaxial_txpwr19_1Mhz_60dBm.txt\n",
      "coaxial_txpwr1_1Mhz_60dBm.txt\n",
      "coaxial_txpwr20_1Mhz_60dBm.txt\n",
      "An error occurred while processing data\\coaxial\\logs\\results_60dBm_STA_1MHz\\coaxial_txpwr20_1Mhz_60dBm.txt: invalid literal for int() with base 10: 'None'\n",
      "coaxial_txpwr2_1Mhz_60dBm.txt\n",
      "coaxial_txpwr3_1Mhz_60dBm.txt\n",
      "coaxial_txpwr4_1Mhz_60dBm.txt\n",
      "coaxial_txpwr5_1Mhz_60dBm.txt\n",
      "coaxial_txpwr6_1Mhz_60dBm.txt\n",
      "coaxial_txpwr7_1Mhz_60dBm.txt\n",
      "coaxial_txpwr8_1Mhz_60dBm.txt\n",
      "coaxial_txpwr9_1Mhz_60dBm.txt\n",
      "coaxial_txpwr0_2Mhz_60dBm.txt\n",
      "coaxial_txpwr10_2Mhz_60dBm.txt\n",
      "coaxial_txpwr11_2Mhz_60dBm.txt\n",
      "coaxial_txpwr12_2Mhz_60dBm.txt\n",
      "coaxial_txpwr13_2Mhz_60dBm.txt\n",
      "coaxial_txpwr14_2Mhz_60dBm.txt\n",
      "coaxial_txpwr15_2Mhz_60dBm.txt\n",
      "coaxial_txpwr16_2Mhz_60dBm.txt\n",
      "coaxial_txpwr17_2Mhz_60dBm.txt\n",
      "coaxial_txpwr18_2Mhz_60dBm.txt\n",
      "coaxial_txpwr19_2Mhz_60dBm.txt\n",
      "coaxial_txpwr1_2Mhz_60dBm.txt\n",
      "coaxial_txpwr20_2Mhz_60dBm.txt\n",
      "coaxial_txpwr2_2Mhz_60dBm.txt\n",
      "coaxial_txpwr3_2Mhz_60dBm.txt\n",
      "coaxial_txpwr4_2Mhz_60dBm.txt\n",
      "coaxial_txpwr5_2Mhz_60dBm.txt\n",
      "coaxial_txpwr6_2Mhz_60dBm.txt\n",
      "coaxial_txpwr7_2Mhz_60dBm.txt\n",
      "coaxial_txpwr8_2Mhz_60dBm.txt\n",
      "coaxial_txpwr9_2Mhz_60dBm.txt\n",
      "coaxial_txpwr10_1Mhz_70dBm.txt\n",
      "coaxial_txpwr11_1Mhz_70dBm.txt\n",
      "coaxial_txpwr12_1Mhz_70dBm.txt\n",
      "coaxial_txpwr13_1Mhz_70dBm.txt\n",
      "coaxial_txpwr14_1Mhz_70dBm.txt\n",
      "coaxial_txpwr15_1Mhz_70dBm.txt\n",
      "coaxial_txpwr16_1Mhz_70dBm.txt\n",
      "coaxial_txpwr17_1Mhz_70dBm.txt\n",
      "coaxial_txpwr18_1Mhz_70dBm.txt\n",
      "coaxial_txpwr19_1Mhz_70dBm.txt\n",
      "coaxial_txpwr20_1Mhz_70dBm.txt\n",
      "coaxial_txpwr7_1Mhz_70dBm.txt\n",
      "coaxial_txpwr8_1Mhz_70dBm.txt\n",
      "coaxial_txpwr9_1Mhz_70dBm.txt\n",
      "coaxial_txpwr0_2Mhz_70dBm.txt\n",
      "An error occurred while processing data\\coaxial\\logs\\results_70dBm_STA_2MHz\\coaxial_txpwr0_2Mhz_70dBm.txt: could not convert string to float: 'None'\n",
      "coaxial_txpwr10_2Mhz_70dBm.txt\n",
      "coaxial_txpwr11_2Mhz_70dBm.txt\n",
      "coaxial_txpwr12_2Mhz_70dBm.txt\n",
      "coaxial_txpwr13_2Mhz_70dBm.txt\n",
      "coaxial_txpwr14_2Mhz_70dBm.txt\n",
      "coaxial_txpwr15_2Mhz_70dBm.txt\n",
      "coaxial_txpwr16_2Mhz_70dBm.txt\n",
      "coaxial_txpwr17_2Mhz_70dBm.txt\n",
      "coaxial_txpwr18_2Mhz_70dBm.txt\n",
      "coaxial_txpwr19_2Mhz_70dBm.txt\n",
      "coaxial_txpwr1_2Mhz_70dBm.txt\n",
      "An error occurred while processing data\\coaxial\\logs\\results_70dBm_STA_2MHz\\coaxial_txpwr1_2Mhz_70dBm.txt: could not convert string to float: 'None'\n",
      "coaxial_txpwr20_2Mhz_70dBm.txt\n",
      "coaxial_txpwr2_2Mhz_70dBm.txt\n",
      "An error occurred while processing data\\coaxial\\logs\\results_70dBm_STA_2MHz\\coaxial_txpwr2_2Mhz_70dBm.txt: could not convert string to float: 'None'\n",
      "coaxial_txpwr3_2Mhz_70dBm.txt\n",
      "An error occurred while processing data\\coaxial\\logs\\results_70dBm_STA_2MHz\\coaxial_txpwr3_2Mhz_70dBm.txt: could not convert string to float: 'None'\n",
      "coaxial_txpwr4_2Mhz_70dBm.txt\n",
      "An error occurred while processing data\\coaxial\\logs\\results_70dBm_STA_2MHz\\coaxial_txpwr4_2Mhz_70dBm.txt: could not convert string to float: 'None'\n",
      "coaxial_txpwr5_2Mhz_70dBm.txt\n",
      "An error occurred while processing data\\coaxial\\logs\\results_70dBm_STA_2MHz\\coaxial_txpwr5_2Mhz_70dBm.txt: could not convert string to float: 'None'\n",
      "coaxial_txpwr6_2Mhz_70dBm.txt\n",
      "An error occurred while processing data\\coaxial\\logs\\results_70dBm_STA_2MHz\\coaxial_txpwr6_2Mhz_70dBm.txt: could not convert string to float: 'None'\n",
      "coaxial_txpwr7_2Mhz_70dBm.txt\n",
      "An error occurred while processing data\\coaxial\\logs\\results_70dBm_STA_2MHz\\coaxial_txpwr7_2Mhz_70dBm.txt: could not convert string to float: 'None'\n",
      "coaxial_txpwr8_2Mhz_70dBm.txt\n",
      "coaxial_txpwr9_2Mhz_70dBm.txt\n"
     ]
    },
    {
     "data": {
      "application/vnd.plotly.v1+json": {
       "config": {
        "plotlyServerURL": "https://plot.ly"
       },
       "data": [
        {
         "hovertemplate": "Test Name=%{y}<extra></extra>",
         "legendgroup": "",
         "marker": {
          "color": "#636efa",
          "symbol": "circle"
         },
         "mode": "markers",
         "name": "",
         "orientation": "v",
         "showlegend": false,
         "type": "scatter",
         "x": [
          "coaxial_txpwr0_1Mhz_50dBm_combined",
          "coaxial_txpwr10_1Mhz_50dBm_combined",
          "coaxial_txpwr11_1Mhz_50dBm_combined",
          "coaxial_txpwr12_1Mhz_50dBm_combined",
          "coaxial_txpwr13_1Mhz_50dBm_combined",
          "coaxial_txpwr14_1Mhz_50dBm_combined",
          "coaxial_txpwr15_1Mhz_50dBm_combined",
          "coaxial_txpwr16_1Mhz_50dBm_combined",
          "coaxial_txpwr17_1Mhz_50dBm_combined",
          "coaxial_txpwr18_1Mhz_50dBm_combined",
          "coaxial_txpwr19_1Mhz_50dBm_combined",
          "coaxial_txpwr1_1Mhz_50dBm_combined",
          "coaxial_txpwr20_1Mhz_50dBm_combined",
          "coaxial_txpwr2_1Mhz_50dBm_combined",
          "coaxial_txpwr3_1Mhz_50dBm_combined",
          "coaxial_txpwr4_1Mhz_50dBm_combined",
          "coaxial_txpwr5_1Mhz_50dBm_combined",
          "coaxial_txpwr6_1Mhz_50dBm_combined",
          "coaxial_txpwr7_1Mhz_50dBm_combined",
          "coaxial_txpwr8_1Mhz_50dBm_combined",
          "coaxial_txpwr9_1Mhz_50dBm_combined",
          "coaxial_txpwr0_2Mhz_50dBm_combined",
          "coaxial_txpwr10_2Mhz_50dBm_combined",
          "coaxial_txpwr11_2Mhz_50dBm_combined",
          "coaxial_txpwr12_2Mhz_50dBm_combined",
          "coaxial_txpwr13_2Mhz_50dBm_combined",
          "coaxial_txpwr14_2Mhz_50dBm_combined",
          "coaxial_txpwr15_2Mhz_50dBm_combined",
          "coaxial_txpwr16_2Mhz_50dBm_combined",
          "coaxial_txpwr17_2Mhz_50dBm_combined",
          "coaxial_txpwr18_2Mhz_50dBm_combined",
          "coaxial_txpwr19_2Mhz_50dBm_combined",
          "coaxial_txpwr1_2Mhz_50dBm_combined",
          "coaxial_txpwr20_2Mhz_50dBm_combined",
          "coaxial_txpwr2_2Mhz_50dBm_combined",
          "coaxial_txpwr3_2Mhz_50dBm_combined",
          "coaxial_txpwr4_2Mhz_50dBm_combined",
          "coaxial_txpwr5_2Mhz_50dBm_combined",
          "coaxial_txpwr6_2Mhz_50dBm_combined",
          "coaxial_txpwr7_2Mhz_50dBm_combined",
          "coaxial_txpwr8_2Mhz_50dBm_combined",
          "coaxial_txpwr9_2Mhz_50dBm_combined",
          "coaxial_txpwr0_1Mhz_60dBm_combined",
          "coaxial_txpwr10_1Mhz_60dBm_combined",
          "coaxial_txpwr11_1Mhz_60dBm_combined",
          "coaxial_txpwr12_1Mhz_60dBm_combined",
          "coaxial_txpwr13_1Mhz_60dBm_combined",
          "coaxial_txpwr14_1Mhz_60dBm_combined",
          "coaxial_txpwr15_1Mhz_60dBm_combined",
          "coaxial_txpwr16_1Mhz_60dBm_combined",
          "coaxial_txpwr17_1Mhz_60dBm_combined",
          "coaxial_txpwr18_1Mhz_60dBm_combined",
          "coaxial_txpwr19_1Mhz_60dBm_combined",
          "coaxial_txpwr1_1Mhz_60dBm_combined",
          "coaxial_txpwr2_1Mhz_60dBm_combined",
          "coaxial_txpwr3_1Mhz_60dBm_combined",
          "coaxial_txpwr4_1Mhz_60dBm_combined",
          "coaxial_txpwr5_1Mhz_60dBm_combined",
          "coaxial_txpwr6_1Mhz_60dBm_combined",
          "coaxial_txpwr7_1Mhz_60dBm_combined",
          "coaxial_txpwr8_1Mhz_60dBm_combined",
          "coaxial_txpwr9_1Mhz_60dBm_combined",
          "coaxial_txpwr0_2Mhz_60dBm_combined",
          "coaxial_txpwr10_2Mhz_60dBm_combined",
          "coaxial_txpwr11_2Mhz_60dBm_combined",
          "coaxial_txpwr12_2Mhz_60dBm_combined",
          "coaxial_txpwr13_2Mhz_60dBm_combined",
          "coaxial_txpwr14_2Mhz_60dBm_combined",
          "coaxial_txpwr15_2Mhz_60dBm_combined",
          "coaxial_txpwr16_2Mhz_60dBm_combined",
          "coaxial_txpwr17_2Mhz_60dBm_combined",
          "coaxial_txpwr18_2Mhz_60dBm_combined",
          "coaxial_txpwr19_2Mhz_60dBm_combined",
          "coaxial_txpwr1_2Mhz_60dBm_combined",
          "coaxial_txpwr20_2Mhz_60dBm_combined",
          "coaxial_txpwr2_2Mhz_60dBm_combined",
          "coaxial_txpwr3_2Mhz_60dBm_combined",
          "coaxial_txpwr4_2Mhz_60dBm_combined",
          "coaxial_txpwr5_2Mhz_60dBm_combined",
          "coaxial_txpwr6_2Mhz_60dBm_combined",
          "coaxial_txpwr7_2Mhz_60dBm_combined",
          "coaxial_txpwr8_2Mhz_60dBm_combined",
          "coaxial_txpwr9_2Mhz_60dBm_combined",
          "coaxial_txpwr10_1Mhz_70dBm_combined",
          "coaxial_txpwr11_1Mhz_70dBm_combined",
          "coaxial_txpwr12_1Mhz_70dBm_combined",
          "coaxial_txpwr13_1Mhz_70dBm_combined",
          "coaxial_txpwr14_1Mhz_70dBm_combined",
          "coaxial_txpwr15_1Mhz_70dBm_combined",
          "coaxial_txpwr16_1Mhz_70dBm_combined",
          "coaxial_txpwr17_1Mhz_70dBm_combined",
          "coaxial_txpwr18_1Mhz_70dBm_combined",
          "coaxial_txpwr19_1Mhz_70dBm_combined",
          "coaxial_txpwr20_1Mhz_70dBm_combined",
          "coaxial_txpwr7_1Mhz_70dBm_combined",
          "coaxial_txpwr8_1Mhz_70dBm_combined",
          "coaxial_txpwr9_1Mhz_70dBm_combined",
          "coaxial_txpwr10_2Mhz_70dBm_combined",
          "coaxial_txpwr11_2Mhz_70dBm_combined",
          "coaxial_txpwr12_2Mhz_70dBm_combined",
          "coaxial_txpwr13_2Mhz_70dBm_combined",
          "coaxial_txpwr14_2Mhz_70dBm_combined",
          "coaxial_txpwr15_2Mhz_70dBm_combined",
          "coaxial_txpwr16_2Mhz_70dBm_combined",
          "coaxial_txpwr17_2Mhz_70dBm_combined",
          "coaxial_txpwr18_2Mhz_70dBm_combined",
          "coaxial_txpwr19_2Mhz_70dBm_combined",
          "coaxial_txpwr20_2Mhz_70dBm_combined",
          "coaxial_txpwr8_2Mhz_70dBm_combined",
          "coaxial_txpwr9_2Mhz_70dBm_combined"
         ],
         "xaxis": "x",
         "y": [
          "coaxial_txpwr0_1Mhz_50dBm_combined",
          "coaxial_txpwr10_1Mhz_50dBm_combined",
          "coaxial_txpwr11_1Mhz_50dBm_combined",
          "coaxial_txpwr12_1Mhz_50dBm_combined",
          "coaxial_txpwr13_1Mhz_50dBm_combined",
          "coaxial_txpwr14_1Mhz_50dBm_combined",
          "coaxial_txpwr15_1Mhz_50dBm_combined",
          "coaxial_txpwr16_1Mhz_50dBm_combined",
          "coaxial_txpwr17_1Mhz_50dBm_combined",
          "coaxial_txpwr18_1Mhz_50dBm_combined",
          "coaxial_txpwr19_1Mhz_50dBm_combined",
          "coaxial_txpwr1_1Mhz_50dBm_combined",
          "coaxial_txpwr20_1Mhz_50dBm_combined",
          "coaxial_txpwr2_1Mhz_50dBm_combined",
          "coaxial_txpwr3_1Mhz_50dBm_combined",
          "coaxial_txpwr4_1Mhz_50dBm_combined",
          "coaxial_txpwr5_1Mhz_50dBm_combined",
          "coaxial_txpwr6_1Mhz_50dBm_combined",
          "coaxial_txpwr7_1Mhz_50dBm_combined",
          "coaxial_txpwr8_1Mhz_50dBm_combined",
          "coaxial_txpwr9_1Mhz_50dBm_combined",
          "coaxial_txpwr0_2Mhz_50dBm_combined",
          "coaxial_txpwr10_2Mhz_50dBm_combined",
          "coaxial_txpwr11_2Mhz_50dBm_combined",
          "coaxial_txpwr12_2Mhz_50dBm_combined",
          "coaxial_txpwr13_2Mhz_50dBm_combined",
          "coaxial_txpwr14_2Mhz_50dBm_combined",
          "coaxial_txpwr15_2Mhz_50dBm_combined",
          "coaxial_txpwr16_2Mhz_50dBm_combined",
          "coaxial_txpwr17_2Mhz_50dBm_combined",
          "coaxial_txpwr18_2Mhz_50dBm_combined",
          "coaxial_txpwr19_2Mhz_50dBm_combined",
          "coaxial_txpwr1_2Mhz_50dBm_combined",
          "coaxial_txpwr20_2Mhz_50dBm_combined",
          "coaxial_txpwr2_2Mhz_50dBm_combined",
          "coaxial_txpwr3_2Mhz_50dBm_combined",
          "coaxial_txpwr4_2Mhz_50dBm_combined",
          "coaxial_txpwr5_2Mhz_50dBm_combined",
          "coaxial_txpwr6_2Mhz_50dBm_combined",
          "coaxial_txpwr7_2Mhz_50dBm_combined",
          "coaxial_txpwr8_2Mhz_50dBm_combined",
          "coaxial_txpwr9_2Mhz_50dBm_combined",
          "coaxial_txpwr0_1Mhz_60dBm_combined",
          "coaxial_txpwr10_1Mhz_60dBm_combined",
          "coaxial_txpwr11_1Mhz_60dBm_combined",
          "coaxial_txpwr12_1Mhz_60dBm_combined",
          "coaxial_txpwr13_1Mhz_60dBm_combined",
          "coaxial_txpwr14_1Mhz_60dBm_combined",
          "coaxial_txpwr15_1Mhz_60dBm_combined",
          "coaxial_txpwr16_1Mhz_60dBm_combined",
          "coaxial_txpwr17_1Mhz_60dBm_combined",
          "coaxial_txpwr18_1Mhz_60dBm_combined",
          "coaxial_txpwr19_1Mhz_60dBm_combined",
          "coaxial_txpwr1_1Mhz_60dBm_combined",
          "coaxial_txpwr2_1Mhz_60dBm_combined",
          "coaxial_txpwr3_1Mhz_60dBm_combined",
          "coaxial_txpwr4_1Mhz_60dBm_combined",
          "coaxial_txpwr5_1Mhz_60dBm_combined",
          "coaxial_txpwr6_1Mhz_60dBm_combined",
          "coaxial_txpwr7_1Mhz_60dBm_combined",
          "coaxial_txpwr8_1Mhz_60dBm_combined",
          "coaxial_txpwr9_1Mhz_60dBm_combined",
          "coaxial_txpwr0_2Mhz_60dBm_combined",
          "coaxial_txpwr10_2Mhz_60dBm_combined",
          "coaxial_txpwr11_2Mhz_60dBm_combined",
          "coaxial_txpwr12_2Mhz_60dBm_combined",
          "coaxial_txpwr13_2Mhz_60dBm_combined",
          "coaxial_txpwr14_2Mhz_60dBm_combined",
          "coaxial_txpwr15_2Mhz_60dBm_combined",
          "coaxial_txpwr16_2Mhz_60dBm_combined",
          "coaxial_txpwr17_2Mhz_60dBm_combined",
          "coaxial_txpwr18_2Mhz_60dBm_combined",
          "coaxial_txpwr19_2Mhz_60dBm_combined",
          "coaxial_txpwr1_2Mhz_60dBm_combined",
          "coaxial_txpwr20_2Mhz_60dBm_combined",
          "coaxial_txpwr2_2Mhz_60dBm_combined",
          "coaxial_txpwr3_2Mhz_60dBm_combined",
          "coaxial_txpwr4_2Mhz_60dBm_combined",
          "coaxial_txpwr5_2Mhz_60dBm_combined",
          "coaxial_txpwr6_2Mhz_60dBm_combined",
          "coaxial_txpwr7_2Mhz_60dBm_combined",
          "coaxial_txpwr8_2Mhz_60dBm_combined",
          "coaxial_txpwr9_2Mhz_60dBm_combined",
          "coaxial_txpwr10_1Mhz_70dBm_combined",
          "coaxial_txpwr11_1Mhz_70dBm_combined",
          "coaxial_txpwr12_1Mhz_70dBm_combined",
          "coaxial_txpwr13_1Mhz_70dBm_combined",
          "coaxial_txpwr14_1Mhz_70dBm_combined",
          "coaxial_txpwr15_1Mhz_70dBm_combined",
          "coaxial_txpwr16_1Mhz_70dBm_combined",
          "coaxial_txpwr17_1Mhz_70dBm_combined",
          "coaxial_txpwr18_1Mhz_70dBm_combined",
          "coaxial_txpwr19_1Mhz_70dBm_combined",
          "coaxial_txpwr20_1Mhz_70dBm_combined",
          "coaxial_txpwr7_1Mhz_70dBm_combined",
          "coaxial_txpwr8_1Mhz_70dBm_combined",
          "coaxial_txpwr9_1Mhz_70dBm_combined",
          "coaxial_txpwr10_2Mhz_70dBm_combined",
          "coaxial_txpwr11_2Mhz_70dBm_combined",
          "coaxial_txpwr12_2Mhz_70dBm_combined",
          "coaxial_txpwr13_2Mhz_70dBm_combined",
          "coaxial_txpwr14_2Mhz_70dBm_combined",
          "coaxial_txpwr15_2Mhz_70dBm_combined",
          "coaxial_txpwr16_2Mhz_70dBm_combined",
          "coaxial_txpwr17_2Mhz_70dBm_combined",
          "coaxial_txpwr18_2Mhz_70dBm_combined",
          "coaxial_txpwr19_2Mhz_70dBm_combined",
          "coaxial_txpwr20_2Mhz_70dBm_combined",
          "coaxial_txpwr8_2Mhz_70dBm_combined",
          "coaxial_txpwr9_2Mhz_70dBm_combined"
         ],
         "yaxis": "y"
        }
       ],
       "layout": {
        "legend": {
         "tracegroupgap": 0
        },
        "template": {
         "data": {
          "bar": [
           {
            "error_x": {
             "color": "#2a3f5f"
            },
            "error_y": {
             "color": "#2a3f5f"
            },
            "marker": {
             "line": {
              "color": "#E5ECF6",
              "width": 0.5
             },
             "pattern": {
              "fillmode": "overlay",
              "size": 10,
              "solidity": 0.2
             }
            },
            "type": "bar"
           }
          ],
          "barpolar": [
           {
            "marker": {
             "line": {
              "color": "#E5ECF6",
              "width": 0.5
             },
             "pattern": {
              "fillmode": "overlay",
              "size": 10,
              "solidity": 0.2
             }
            },
            "type": "barpolar"
           }
          ],
          "carpet": [
           {
            "aaxis": {
             "endlinecolor": "#2a3f5f",
             "gridcolor": "white",
             "linecolor": "white",
             "minorgridcolor": "white",
             "startlinecolor": "#2a3f5f"
            },
            "baxis": {
             "endlinecolor": "#2a3f5f",
             "gridcolor": "white",
             "linecolor": "white",
             "minorgridcolor": "white",
             "startlinecolor": "#2a3f5f"
            },
            "type": "carpet"
           }
          ],
          "choropleth": [
           {
            "colorbar": {
             "outlinewidth": 0,
             "ticks": ""
            },
            "type": "choropleth"
           }
          ],
          "contour": [
           {
            "colorbar": {
             "outlinewidth": 0,
             "ticks": ""
            },
            "colorscale": [
             [
              0,
              "#0d0887"
             ],
             [
              0.1111111111111111,
              "#46039f"
             ],
             [
              0.2222222222222222,
              "#7201a8"
             ],
             [
              0.3333333333333333,
              "#9c179e"
             ],
             [
              0.4444444444444444,
              "#bd3786"
             ],
             [
              0.5555555555555556,
              "#d8576b"
             ],
             [
              0.6666666666666666,
              "#ed7953"
             ],
             [
              0.7777777777777778,
              "#fb9f3a"
             ],
             [
              0.8888888888888888,
              "#fdca26"
             ],
             [
              1,
              "#f0f921"
             ]
            ],
            "type": "contour"
           }
          ],
          "contourcarpet": [
           {
            "colorbar": {
             "outlinewidth": 0,
             "ticks": ""
            },
            "type": "contourcarpet"
           }
          ],
          "heatmap": [
           {
            "colorbar": {
             "outlinewidth": 0,
             "ticks": ""
            },
            "colorscale": [
             [
              0,
              "#0d0887"
             ],
             [
              0.1111111111111111,
              "#46039f"
             ],
             [
              0.2222222222222222,
              "#7201a8"
             ],
             [
              0.3333333333333333,
              "#9c179e"
             ],
             [
              0.4444444444444444,
              "#bd3786"
             ],
             [
              0.5555555555555556,
              "#d8576b"
             ],
             [
              0.6666666666666666,
              "#ed7953"
             ],
             [
              0.7777777777777778,
              "#fb9f3a"
             ],
             [
              0.8888888888888888,
              "#fdca26"
             ],
             [
              1,
              "#f0f921"
             ]
            ],
            "type": "heatmap"
           }
          ],
          "heatmapgl": [
           {
            "colorbar": {
             "outlinewidth": 0,
             "ticks": ""
            },
            "colorscale": [
             [
              0,
              "#0d0887"
             ],
             [
              0.1111111111111111,
              "#46039f"
             ],
             [
              0.2222222222222222,
              "#7201a8"
             ],
             [
              0.3333333333333333,
              "#9c179e"
             ],
             [
              0.4444444444444444,
              "#bd3786"
             ],
             [
              0.5555555555555556,
              "#d8576b"
             ],
             [
              0.6666666666666666,
              "#ed7953"
             ],
             [
              0.7777777777777778,
              "#fb9f3a"
             ],
             [
              0.8888888888888888,
              "#fdca26"
             ],
             [
              1,
              "#f0f921"
             ]
            ],
            "type": "heatmapgl"
           }
          ],
          "histogram": [
           {
            "marker": {
             "pattern": {
              "fillmode": "overlay",
              "size": 10,
              "solidity": 0.2
             }
            },
            "type": "histogram"
           }
          ],
          "histogram2d": [
           {
            "colorbar": {
             "outlinewidth": 0,
             "ticks": ""
            },
            "colorscale": [
             [
              0,
              "#0d0887"
             ],
             [
              0.1111111111111111,
              "#46039f"
             ],
             [
              0.2222222222222222,
              "#7201a8"
             ],
             [
              0.3333333333333333,
              "#9c179e"
             ],
             [
              0.4444444444444444,
              "#bd3786"
             ],
             [
              0.5555555555555556,
              "#d8576b"
             ],
             [
              0.6666666666666666,
              "#ed7953"
             ],
             [
              0.7777777777777778,
              "#fb9f3a"
             ],
             [
              0.8888888888888888,
              "#fdca26"
             ],
             [
              1,
              "#f0f921"
             ]
            ],
            "type": "histogram2d"
           }
          ],
          "histogram2dcontour": [
           {
            "colorbar": {
             "outlinewidth": 0,
             "ticks": ""
            },
            "colorscale": [
             [
              0,
              "#0d0887"
             ],
             [
              0.1111111111111111,
              "#46039f"
             ],
             [
              0.2222222222222222,
              "#7201a8"
             ],
             [
              0.3333333333333333,
              "#9c179e"
             ],
             [
              0.4444444444444444,
              "#bd3786"
             ],
             [
              0.5555555555555556,
              "#d8576b"
             ],
             [
              0.6666666666666666,
              "#ed7953"
             ],
             [
              0.7777777777777778,
              "#fb9f3a"
             ],
             [
              0.8888888888888888,
              "#fdca26"
             ],
             [
              1,
              "#f0f921"
             ]
            ],
            "type": "histogram2dcontour"
           }
          ],
          "mesh3d": [
           {
            "colorbar": {
             "outlinewidth": 0,
             "ticks": ""
            },
            "type": "mesh3d"
           }
          ],
          "parcoords": [
           {
            "line": {
             "colorbar": {
              "outlinewidth": 0,
              "ticks": ""
             }
            },
            "type": "parcoords"
           }
          ],
          "pie": [
           {
            "automargin": true,
            "type": "pie"
           }
          ],
          "scatter": [
           {
            "fillpattern": {
             "fillmode": "overlay",
             "size": 10,
             "solidity": 0.2
            },
            "type": "scatter"
           }
          ],
          "scatter3d": [
           {
            "line": {
             "colorbar": {
              "outlinewidth": 0,
              "ticks": ""
             }
            },
            "marker": {
             "colorbar": {
              "outlinewidth": 0,
              "ticks": ""
             }
            },
            "type": "scatter3d"
           }
          ],
          "scattercarpet": [
           {
            "marker": {
             "colorbar": {
              "outlinewidth": 0,
              "ticks": ""
             }
            },
            "type": "scattercarpet"
           }
          ],
          "scattergeo": [
           {
            "marker": {
             "colorbar": {
              "outlinewidth": 0,
              "ticks": ""
             }
            },
            "type": "scattergeo"
           }
          ],
          "scattergl": [
           {
            "marker": {
             "colorbar": {
              "outlinewidth": 0,
              "ticks": ""
             }
            },
            "type": "scattergl"
           }
          ],
          "scattermapbox": [
           {
            "marker": {
             "colorbar": {
              "outlinewidth": 0,
              "ticks": ""
             }
            },
            "type": "scattermapbox"
           }
          ],
          "scatterpolar": [
           {
            "marker": {
             "colorbar": {
              "outlinewidth": 0,
              "ticks": ""
             }
            },
            "type": "scatterpolar"
           }
          ],
          "scatterpolargl": [
           {
            "marker": {
             "colorbar": {
              "outlinewidth": 0,
              "ticks": ""
             }
            },
            "type": "scatterpolargl"
           }
          ],
          "scatterternary": [
           {
            "marker": {
             "colorbar": {
              "outlinewidth": 0,
              "ticks": ""
             }
            },
            "type": "scatterternary"
           }
          ],
          "surface": [
           {
            "colorbar": {
             "outlinewidth": 0,
             "ticks": ""
            },
            "colorscale": [
             [
              0,
              "#0d0887"
             ],
             [
              0.1111111111111111,
              "#46039f"
             ],
             [
              0.2222222222222222,
              "#7201a8"
             ],
             [
              0.3333333333333333,
              "#9c179e"
             ],
             [
              0.4444444444444444,
              "#bd3786"
             ],
             [
              0.5555555555555556,
              "#d8576b"
             ],
             [
              0.6666666666666666,
              "#ed7953"
             ],
             [
              0.7777777777777778,
              "#fb9f3a"
             ],
             [
              0.8888888888888888,
              "#fdca26"
             ],
             [
              1,
              "#f0f921"
             ]
            ],
            "type": "surface"
           }
          ],
          "table": [
           {
            "cells": {
             "fill": {
              "color": "#EBF0F8"
             },
             "line": {
              "color": "white"
             }
            },
            "header": {
             "fill": {
              "color": "#C8D4E3"
             },
             "line": {
              "color": "white"
             }
            },
            "type": "table"
           }
          ]
         },
         "layout": {
          "annotationdefaults": {
           "arrowcolor": "#2a3f5f",
           "arrowhead": 0,
           "arrowwidth": 1
          },
          "autotypenumbers": "strict",
          "coloraxis": {
           "colorbar": {
            "outlinewidth": 0,
            "ticks": ""
           }
          },
          "colorscale": {
           "diverging": [
            [
             0,
             "#8e0152"
            ],
            [
             0.1,
             "#c51b7d"
            ],
            [
             0.2,
             "#de77ae"
            ],
            [
             0.3,
             "#f1b6da"
            ],
            [
             0.4,
             "#fde0ef"
            ],
            [
             0.5,
             "#f7f7f7"
            ],
            [
             0.6,
             "#e6f5d0"
            ],
            [
             0.7,
             "#b8e186"
            ],
            [
             0.8,
             "#7fbc41"
            ],
            [
             0.9,
             "#4d9221"
            ],
            [
             1,
             "#276419"
            ]
           ],
           "sequential": [
            [
             0,
             "#0d0887"
            ],
            [
             0.1111111111111111,
             "#46039f"
            ],
            [
             0.2222222222222222,
             "#7201a8"
            ],
            [
             0.3333333333333333,
             "#9c179e"
            ],
            [
             0.4444444444444444,
             "#bd3786"
            ],
            [
             0.5555555555555556,
             "#d8576b"
            ],
            [
             0.6666666666666666,
             "#ed7953"
            ],
            [
             0.7777777777777778,
             "#fb9f3a"
            ],
            [
             0.8888888888888888,
             "#fdca26"
            ],
            [
             1,
             "#f0f921"
            ]
           ],
           "sequentialminus": [
            [
             0,
             "#0d0887"
            ],
            [
             0.1111111111111111,
             "#46039f"
            ],
            [
             0.2222222222222222,
             "#7201a8"
            ],
            [
             0.3333333333333333,
             "#9c179e"
            ],
            [
             0.4444444444444444,
             "#bd3786"
            ],
            [
             0.5555555555555556,
             "#d8576b"
            ],
            [
             0.6666666666666666,
             "#ed7953"
            ],
            [
             0.7777777777777778,
             "#fb9f3a"
            ],
            [
             0.8888888888888888,
             "#fdca26"
            ],
            [
             1,
             "#f0f921"
            ]
           ]
          },
          "colorway": [
           "#636efa",
           "#EF553B",
           "#00cc96",
           "#ab63fa",
           "#FFA15A",
           "#19d3f3",
           "#FF6692",
           "#B6E880",
           "#FF97FF",
           "#FECB52"
          ],
          "font": {
           "color": "#2a3f5f"
          },
          "geo": {
           "bgcolor": "white",
           "lakecolor": "white",
           "landcolor": "#E5ECF6",
           "showlakes": true,
           "showland": true,
           "subunitcolor": "white"
          },
          "hoverlabel": {
           "align": "left"
          },
          "hovermode": "closest",
          "mapbox": {
           "style": "light"
          },
          "paper_bgcolor": "white",
          "plot_bgcolor": "#E5ECF6",
          "polar": {
           "angularaxis": {
            "gridcolor": "white",
            "linecolor": "white",
            "ticks": ""
           },
           "bgcolor": "#E5ECF6",
           "radialaxis": {
            "gridcolor": "white",
            "linecolor": "white",
            "ticks": ""
           }
          },
          "scene": {
           "xaxis": {
            "backgroundcolor": "#E5ECF6",
            "gridcolor": "white",
            "gridwidth": 2,
            "linecolor": "white",
            "showbackground": true,
            "ticks": "",
            "zerolinecolor": "white"
           },
           "yaxis": {
            "backgroundcolor": "#E5ECF6",
            "gridcolor": "white",
            "gridwidth": 2,
            "linecolor": "white",
            "showbackground": true,
            "ticks": "",
            "zerolinecolor": "white"
           },
           "zaxis": {
            "backgroundcolor": "#E5ECF6",
            "gridcolor": "white",
            "gridwidth": 2,
            "linecolor": "white",
            "showbackground": true,
            "ticks": "",
            "zerolinecolor": "white"
           }
          },
          "shapedefaults": {
           "line": {
            "color": "#2a3f5f"
           }
          },
          "ternary": {
           "aaxis": {
            "gridcolor": "white",
            "linecolor": "white",
            "ticks": ""
           },
           "baxis": {
            "gridcolor": "white",
            "linecolor": "white",
            "ticks": ""
           },
           "bgcolor": "#E5ECF6",
           "caxis": {
            "gridcolor": "white",
            "linecolor": "white",
            "ticks": ""
           }
          },
          "title": {
           "x": 0.05
          },
          "xaxis": {
           "automargin": true,
           "gridcolor": "white",
           "linecolor": "white",
           "ticks": "",
           "title": {
            "standoff": 15
           },
           "zerolinecolor": "white",
           "zerolinewidth": 2
          },
          "yaxis": {
           "automargin": true,
           "gridcolor": "white",
           "linecolor": "white",
           "ticks": "",
           "title": {
            "standoff": 15
           },
           "zerolinecolor": "white",
           "zerolinewidth": 2
          }
         }
        },
        "title": {
         "text": "Test Name vs Test Name"
        },
        "xaxis": {
         "anchor": "y",
         "domain": [
          0,
          1
         ],
         "title": {
          "text": "Test Name"
         }
        },
        "yaxis": {
         "anchor": "x",
         "domain": [
          0,
          1
         ],
         "title": {
          "text": "Test Name"
         }
        }
       }
      }
     },
     "metadata": {},
     "output_type": "display_data"
    },
    {
     "data": {
      "application/vnd.jupyter.widget-view+json": {
       "model_id": "2b4f98bce1974d40bc9949730ec3fd5e",
       "version_major": 2,
       "version_minor": 0
      },
      "text/plain": [
       "interactive(children=(Dropdown(description='x', options=('Test Name', 'Timestamp', 'Test Type', 'Distance', 'A…"
      ]
     },
     "metadata": {},
     "output_type": "display_data"
    }
   ],
   "source": [
    "\n",
    "# Example usage\n",
    "logs_directory = r'data\\coaxial\\logs'\n",
    "scenarios = extract_scenarios_from_text_files(logs_directory)\n",
    "data_frame = scenarios_to_dataframe(scenarios)\n",
    "\n",
    "if not data_frame.empty:\n",
    "    plot_interactive(data_frame)\n",
    "else:\n",
    "    print(\"No data available for plotting.\")"
   ]
  },
  {
   "cell_type": "code",
   "execution_count": 8,
   "metadata": {},
   "outputs": [
    {
     "name": "stdout",
     "output_type": "stream",
     "text": [
      "BC_tests\n",
      "CO_tests\n",
      "BC_tests\n",
      "CO_tests\n",
      "point_floor_1_1Mhz_indoor_1621.txt\n",
      "point_floor_2_1Mhz_indoor_1624.txt\n",
      "point_floor_2_1Mhz_indoor_1637.txt\n",
      "point_floor_2_1Mhz_indoor_1638.txt\n",
      "point_floor_2_1Mhz_indoor_1640.txt\n",
      "point_floor_3_1Mhz_indoor_1629.txt\n",
      "point_floor_3_1Mhz_indoor_1631.txt\n",
      "point_floor_4_1Mhz_indoor_1644.txt\n",
      "point_floor_4_mv_1Mhz_indoor_1645.txt\n",
      "point_A_1Mhz_indoor_1544.txt\n",
      "point_B_1Mhz_indoor_1547.txt\n",
      "point_C_1Mhz_indoor_1550.txt\n",
      "point_C_1Mhz_indoor_1552.txt\n",
      "point_D_1Mhz_indoor_1554.txt\n",
      "point_D_1Mhz_indoor_1557.txt\n",
      "point_E_1Mhz_indoor_1600.txt\n",
      "point_E_1Mhz_indoor_1605.txt\n",
      "point_E_fixed_10_1Mhz_indoor_1615.txt\n",
      "point_floor_0_2Mhz_indoor_1621.txt\n",
      "point_floor_1_2Mhz_indoor_1625.txt\n",
      "point_floor_1_2Mhz_indoor_1627.txt\n",
      "point_floor_1_2Mhz_indoor_1628.txt\n",
      "point_floor_1_2Mhz_indoor_1646.txt\n",
      "point_floor_1_mov_2Mhz_indoor_1648.txt\n",
      "point_floor_2_2Mhz_indoor_1651.txt\n",
      "point_floor_2_mov_2Mhz_indoor_1653.txt\n",
      "point_floor_3_2Mhz_indoor_1656.txt\n",
      "point_floor_3_mov_2Mhz_indoor_1657.txt\n",
      "point_floor_4_2Mhz_indoor_1701.txt\n",
      "point_floor_4_mov_2Mhz_indoor_1702.txt\n",
      "point_A_2Mhz_indoor_1638.txt\n",
      "point_B_2Mhz_indoor_1640.txt\n",
      "point_B_mov_2Mhz_indoor_1644.txt\n",
      "point_C_2Mhz_indoor_1646.txt\n",
      "point_C_mov_2Mhz_indoor_1647.txt\n",
      "point_D_2Mhz_indoor_1704.txt\n",
      "point_D_mov_2Mhz_indoor_1705.txt\n",
      "point_E_2Mhz_indoor_1652.txt\n",
      "coaxial_txpwr0_1Mhz_50dBm.txt\n",
      "coaxial_txpwr10_1Mhz_50dBm.txt\n",
      "coaxial_txpwr11_1Mhz_50dBm.txt\n",
      "coaxial_txpwr12_1Mhz_50dBm.txt\n",
      "coaxial_txpwr13_1Mhz_50dBm.txt\n",
      "coaxial_txpwr14_1Mhz_50dBm.txt\n",
      "coaxial_txpwr15_1Mhz_50dBm.txt\n",
      "coaxial_txpwr16_1Mhz_50dBm.txt\n",
      "coaxial_txpwr17_1Mhz_50dBm.txt\n",
      "coaxial_txpwr18_1Mhz_50dBm.txt\n",
      "coaxial_txpwr19_1Mhz_50dBm.txt\n",
      "coaxial_txpwr1_1Mhz_50dBm.txt\n",
      "coaxial_txpwr20_1Mhz_50dBm.txt\n",
      "coaxial_txpwr2_1Mhz_50dBm.txt\n",
      "coaxial_txpwr3_1Mhz_50dBm.txt\n",
      "coaxial_txpwr4_1Mhz_50dBm.txt\n",
      "coaxial_txpwr5_1Mhz_50dBm.txt\n",
      "coaxial_txpwr6_1Mhz_50dBm.txt\n",
      "coaxial_txpwr7_1Mhz_50dBm.txt\n",
      "coaxial_txpwr8_1Mhz_50dBm.txt\n",
      "coaxial_txpwr9_1Mhz_50dBm.txt\n",
      "coaxial_txpwr0_2Mhz_50dBm.txt\n",
      "coaxial_txpwr10_2Mhz_50dBm.txt\n",
      "coaxial_txpwr11_2Mhz_50dBm.txt\n",
      "coaxial_txpwr12_2Mhz_50dBm.txt\n",
      "coaxial_txpwr13_2Mhz_50dBm.txt\n",
      "coaxial_txpwr14_2Mhz_50dBm.txt\n",
      "coaxial_txpwr15_2Mhz_50dBm.txt\n",
      "coaxial_txpwr16_2Mhz_50dBm.txt\n",
      "coaxial_txpwr17_2Mhz_50dBm.txt\n",
      "coaxial_txpwr18_2Mhz_50dBm.txt\n",
      "coaxial_txpwr19_2Mhz_50dBm.txt\n",
      "coaxial_txpwr1_2Mhz_50dBm.txt\n",
      "coaxial_txpwr20_2Mhz_50dBm.txt\n",
      "coaxial_txpwr2_2Mhz_50dBm.txt\n",
      "coaxial_txpwr3_2Mhz_50dBm.txt\n",
      "coaxial_txpwr4_2Mhz_50dBm.txt\n",
      "coaxial_txpwr5_2Mhz_50dBm.txt\n",
      "coaxial_txpwr6_2Mhz_50dBm.txt\n",
      "coaxial_txpwr7_2Mhz_50dBm.txt\n",
      "coaxial_txpwr8_2Mhz_50dBm.txt\n",
      "coaxial_txpwr9_2Mhz_50dBm.txt\n",
      "coaxial_txpwr0_1Mhz_60dBm.txt\n",
      "coaxial_txpwr10_1Mhz_60dBm.txt\n",
      "coaxial_txpwr11_1Mhz_60dBm.txt\n",
      "coaxial_txpwr12_1Mhz_60dBm.txt\n",
      "coaxial_txpwr13_1Mhz_60dBm.txt\n",
      "coaxial_txpwr14_1Mhz_60dBm.txt\n",
      "coaxial_txpwr15_1Mhz_60dBm.txt\n",
      "coaxial_txpwr16_1Mhz_60dBm.txt\n",
      "coaxial_txpwr17_1Mhz_60dBm.txt\n",
      "coaxial_txpwr18_1Mhz_60dBm.txt\n",
      "coaxial_txpwr19_1Mhz_60dBm.txt\n",
      "coaxial_txpwr1_1Mhz_60dBm.txt\n",
      "coaxial_txpwr20_1Mhz_60dBm.txt\n",
      "An error occurred while processing data\\coaxial\\logs\\results_60dBm_STA_1MHz\\coaxial_txpwr20_1Mhz_60dBm.txt: invalid literal for int() with base 10: 'None'\n",
      "coaxial_txpwr2_1Mhz_60dBm.txt\n",
      "coaxial_txpwr3_1Mhz_60dBm.txt\n",
      "coaxial_txpwr4_1Mhz_60dBm.txt\n",
      "coaxial_txpwr5_1Mhz_60dBm.txt\n",
      "coaxial_txpwr6_1Mhz_60dBm.txt\n",
      "coaxial_txpwr7_1Mhz_60dBm.txt\n",
      "coaxial_txpwr8_1Mhz_60dBm.txt\n",
      "coaxial_txpwr9_1Mhz_60dBm.txt\n",
      "coaxial_txpwr0_2Mhz_60dBm.txt\n",
      "coaxial_txpwr10_2Mhz_60dBm.txt\n",
      "coaxial_txpwr11_2Mhz_60dBm.txt\n",
      "coaxial_txpwr12_2Mhz_60dBm.txt\n",
      "coaxial_txpwr13_2Mhz_60dBm.txt\n",
      "coaxial_txpwr14_2Mhz_60dBm.txt\n",
      "coaxial_txpwr15_2Mhz_60dBm.txt\n",
      "coaxial_txpwr16_2Mhz_60dBm.txt\n",
      "coaxial_txpwr17_2Mhz_60dBm.txt\n",
      "coaxial_txpwr18_2Mhz_60dBm.txt\n",
      "coaxial_txpwr19_2Mhz_60dBm.txt\n",
      "coaxial_txpwr1_2Mhz_60dBm.txt\n",
      "coaxial_txpwr20_2Mhz_60dBm.txt\n",
      "coaxial_txpwr2_2Mhz_60dBm.txt\n",
      "coaxial_txpwr3_2Mhz_60dBm.txt\n",
      "coaxial_txpwr4_2Mhz_60dBm.txt\n",
      "coaxial_txpwr5_2Mhz_60dBm.txt\n",
      "coaxial_txpwr6_2Mhz_60dBm.txt\n",
      "coaxial_txpwr7_2Mhz_60dBm.txt\n",
      "coaxial_txpwr8_2Mhz_60dBm.txt\n",
      "coaxial_txpwr9_2Mhz_60dBm.txt\n",
      "coaxial_txpwr10_1Mhz_70dBm.txt\n",
      "coaxial_txpwr11_1Mhz_70dBm.txt\n",
      "coaxial_txpwr12_1Mhz_70dBm.txt\n",
      "coaxial_txpwr13_1Mhz_70dBm.txt\n",
      "coaxial_txpwr14_1Mhz_70dBm.txt\n",
      "coaxial_txpwr15_1Mhz_70dBm.txt\n",
      "coaxial_txpwr16_1Mhz_70dBm.txt\n",
      "coaxial_txpwr17_1Mhz_70dBm.txt\n",
      "coaxial_txpwr18_1Mhz_70dBm.txt\n",
      "coaxial_txpwr19_1Mhz_70dBm.txt\n",
      "coaxial_txpwr20_1Mhz_70dBm.txt\n",
      "coaxial_txpwr7_1Mhz_70dBm.txt\n",
      "coaxial_txpwr8_1Mhz_70dBm.txt\n",
      "coaxial_txpwr9_1Mhz_70dBm.txt\n",
      "coaxial_txpwr0_2Mhz_70dBm.txt\n",
      "An error occurred while processing data\\coaxial\\logs\\results_70dBm_STA_2MHz\\coaxial_txpwr0_2Mhz_70dBm.txt: could not convert string to float: 'None'\n",
      "coaxial_txpwr10_2Mhz_70dBm.txt\n",
      "coaxial_txpwr11_2Mhz_70dBm.txt\n",
      "coaxial_txpwr12_2Mhz_70dBm.txt\n",
      "coaxial_txpwr13_2Mhz_70dBm.txt\n",
      "coaxial_txpwr14_2Mhz_70dBm.txt\n",
      "coaxial_txpwr15_2Mhz_70dBm.txt\n",
      "coaxial_txpwr16_2Mhz_70dBm.txt\n",
      "coaxial_txpwr17_2Mhz_70dBm.txt\n",
      "coaxial_txpwr18_2Mhz_70dBm.txt\n",
      "coaxial_txpwr19_2Mhz_70dBm.txt\n",
      "coaxial_txpwr1_2Mhz_70dBm.txt\n",
      "An error occurred while processing data\\coaxial\\logs\\results_70dBm_STA_2MHz\\coaxial_txpwr1_2Mhz_70dBm.txt: could not convert string to float: 'None'\n",
      "coaxial_txpwr20_2Mhz_70dBm.txt\n",
      "coaxial_txpwr2_2Mhz_70dBm.txt\n",
      "An error occurred while processing data\\coaxial\\logs\\results_70dBm_STA_2MHz\\coaxial_txpwr2_2Mhz_70dBm.txt: could not convert string to float: 'None'\n",
      "coaxial_txpwr3_2Mhz_70dBm.txt\n",
      "An error occurred while processing data\\coaxial\\logs\\results_70dBm_STA_2MHz\\coaxial_txpwr3_2Mhz_70dBm.txt: could not convert string to float: 'None'\n",
      "coaxial_txpwr4_2Mhz_70dBm.txt\n",
      "An error occurred while processing data\\coaxial\\logs\\results_70dBm_STA_2MHz\\coaxial_txpwr4_2Mhz_70dBm.txt: could not convert string to float: 'None'\n",
      "coaxial_txpwr5_2Mhz_70dBm.txt\n",
      "An error occurred while processing data\\coaxial\\logs\\results_70dBm_STA_2MHz\\coaxial_txpwr5_2Mhz_70dBm.txt: could not convert string to float: 'None'\n",
      "coaxial_txpwr6_2Mhz_70dBm.txt\n",
      "An error occurred while processing data\\coaxial\\logs\\results_70dBm_STA_2MHz\\coaxial_txpwr6_2Mhz_70dBm.txt: could not convert string to float: 'None'\n",
      "coaxial_txpwr7_2Mhz_70dBm.txt\n",
      "An error occurred while processing data\\coaxial\\logs\\results_70dBm_STA_2MHz\\coaxial_txpwr7_2Mhz_70dBm.txt: could not convert string to float: 'None'\n",
      "coaxial_txpwr8_2Mhz_70dBm.txt\n",
      "coaxial_txpwr9_2Mhz_70dBm.txt\n"
     ]
    }
   ],
   "source": [
    "# Extracting of scenarios from indoor logs\n",
    "coaxial_directory = r'data\\coaxial\\logs'\n",
    "indoor_directory = r'data\\indoor\\logs'\n",
    "\n",
    "scenarios_indoor = extract_scenarios_from_text_files(indoor_directory)\n",
    "scenarios_coaxial = extract_scenarios_from_text_files(coaxial_directory)\n",
    "\n",
    "scenarios_indoor_1M = []\n",
    "scenarios_indoor_2M = []\n",
    "for scenario in scenarios_indoor:\n",
    "    if scenario.bandwidth == '1M':\n",
    "        scenarios_indoor_1M.append(scenario)\n",
    "    elif scenario.bandwidth == '2M':\n",
    "        scenarios_indoor_2M.append(scenario)\n",
    "\n",
    "scenarios_coaxial_1M = []\n",
    "scenarios_coaxial_2M = []\n",
    "for scenario in scenarios_coaxial:\n",
    "    if scenario.bandwidth == '1M':\n",
    "        scenarios_coaxial_1M.append(scenario)\n",
    "    elif scenario.bandwidth == '2M':\n",
    "        scenarios_coaxial_2M.append(scenario)\n"
   ]
  },
  {
   "cell_type": "code",
   "execution_count": 10,
   "metadata": {},
   "outputs": [],
   "source": [
    "mcs_1m_in =[]\n",
    "tx_rate_1m_in = []\n",
    "rssi_1m_in = []\n",
    "\n",
    "mcs_2m_in =[]\n",
    "tx_rate_2m_in = []\n",
    "rssi_2m_in = []\n",
    "\n",
    "mcs_1m_co =[]\n",
    "tx_rate_1m_co = []\n",
    "rssi_1m_co = []\n",
    "\n",
    "mcs_2m_co =[]\n",
    "tx_rate_2m_co = []\n",
    "rssi_2m_co = []\n",
    "\n",
    "\n",
    "\n",
    "for scenario in scenarios_indoor_1M:\n",
    "    mcs_1m_in.append(scenario.mcs)\n",
    "    tx_rate_1m_in.append(scenario.rx_iperf_bitrate)\n",
    "    rssi_1m_in.append(scenario.rssi_median)\n",
    "\n",
    "for scenario in scenarios_indoor_2M:\n",
    "    mcs_2m_in.append(scenario.mcs)\n",
    "    tx_rate_2m_in.append(scenario.rx_iperf_bitrate)\n",
    "    rssi_2m_in.append(scenario.rssi_median)\n",
    "\n",
    "for scenario in scenarios_coaxial_1M:\n",
    "    mcs_1m_in.append(scenario.mcs)\n",
    "    tx_rate_1m_in.append(scenario.rx_iperf_bitrate)\n",
    "    rssi_1m_co.append(scenario.rssi_median)\n",
    "\n",
    "for scenario in scenarios_coaxial_2M:\n",
    "    mcs_2m_in.append(scenario.mcs)\n",
    "    tx_rate_2m_in.append(scenario.rx_iperf_bitrate)\n",
    "    rssi_2m_co.append(scenario.rssi_median)\n"
   ]
  },
  {
   "cell_type": "code",
   "execution_count": null,
   "metadata": {},
   "outputs": [],
   "source": []
  }
 ],
 "metadata": {
  "kernelspec": {
   "display_name": "Python 3",
   "language": "python",
   "name": "python3"
  },
  "language_info": {
   "codemirror_mode": {
    "name": "ipython",
    "version": 3
   },
   "file_extension": ".py",
   "mimetype": "text/x-python",
   "name": "python",
   "nbconvert_exporter": "python",
   "pygments_lexer": "ipython3",
   "version": "3.11.9"
  }
 },
 "nbformat": 4,
 "nbformat_minor": 2
}
