{
 "cells": [
  {
   "cell_type": "code",
   "execution_count": 2,
   "metadata": {},
   "outputs": [],
   "source": [
    "import extract_data\n"
   ]
  },
  {
   "cell_type": "code",
   "execution_count": 3,
   "metadata": {},
   "outputs": [
    {
     "name": "stdout",
     "output_type": "stream",
     "text": [
      "CSV file created at: c:\\Users\\raffoul\\Desktop\\WiFi_HaLow\\data/outdoor\\point100_1Mhz_outdoor_results.csv\n",
      "Processed file: point100_1Mhz_LoS_test08_0525.log\n",
      "CSV file created at: c:\\Users\\raffoul\\Desktop\\WiFi_HaLow\\data/outdoor\\point100_1Mhz_outdoor_results.csv\n",
      "Processed file: point100_1Mhz_LoS_test08_0526.log\n",
      "CSV file created at: c:\\Users\\raffoul\\Desktop\\WiFi_HaLow\\data/outdoor\\point10_1Mhz_outdoor_results.csv\n",
      "Processed file: point10_1Mhz_LoS_test08_0519.log\n",
      "CSV file created at: c:\\Users\\raffoul\\Desktop\\WiFi_HaLow\\data/outdoor\\point10_1Mhz_outdoor_results.csv\n",
      "Processed file: point10_1Mhz_LoS_test08_0523.log\n",
      "CSV file created at: c:\\Users\\raffoul\\Desktop\\WiFi_HaLow\\data/outdoor\\point125_1Mhz_outdoor_results.csv\n",
      "Processed file: point125_1Mhz_LoS_test08_0529.log\n",
      "CSV file created at: c:\\Users\\raffoul\\Desktop\\WiFi_HaLow\\data/outdoor\\point25_1Mhz_outdoor_results.csv\n",
      "Processed file: point25_1Mhz_LoS_test08_0520.log\n",
      "CSV file created at: c:\\Users\\raffoul\\Desktop\\WiFi_HaLow\\data/outdoor\\point50_1Mhz_outdoor_results.csv\n",
      "Processed file: point50_1Mhz_LoS_test08_0522.log\n",
      "CSV file created at: c:\\Users\\raffoul\\Desktop\\WiFi_HaLow\\data/outdoor\\point75_1Mhz_outdoor_results.csv\n",
      "Processed file: point75_1Mhz_LoS_test08_0524.log\n",
      "CSV file created at: c:\\Users\\raffoul\\Desktop\\WiFi_HaLow\\data/outdoor\\pointA_1Mhz_outdoor_results.csv\n",
      "Processed file: pointA_1Mhz_LoS_test08_0522.log\n",
      "CSV file created at: c:\\Users\\raffoul\\Desktop\\WiFi_HaLow\\data/outdoor\\pointA_1Mhz_outdoor_results.csv\n",
      "Processed file: pointA_1Mhz_LoS_test08_0533.log\n",
      "CSV file created at: c:\\Users\\raffoul\\Desktop\\WiFi_HaLow\\data/outdoor\\pointB_1Mhz_outdoor_results.csv\n",
      "Processed file: pointB_1Mhz_LoS_test08_0535.log\n",
      "CSV file created at: c:\\Users\\raffoul\\Desktop\\WiFi_HaLow\\data/outdoor\\pointC_1Mhz_outdoor_results.csv\n",
      "Processed file: pointC_1Mhz_LoS_test08_0519.log\n",
      "CSV file created at: c:\\Users\\raffoul\\Desktop\\WiFi_HaLow\\data/outdoor\\pointD_1Mhz_outdoor_results.csv\n",
      "Processed file: pointD_1Mhz_LoS_test08_0528.log\n",
      "CSV file created at: c:\\Users\\raffoul\\Desktop\\WiFi_HaLow\\data/outdoor\\pointE_1Mhz_outdoor_results.csv\n",
      "Processed file: pointE_1Mhz_LoS_test08_0534.log\n",
      "Success\n"
     ]
    }
   ],
   "source": [
    "# extract_data.process_directory('outdoor_test', 'data/outdoor', 'outdoor')\n",
    "\n",
    "extract_data.process_directory('indoor_test', 'data/indoor', 'indoor')\n",
    "\n",
    "# extract_data.process_directory('coaxial_test', 'data/coaxial', 'coaxial')"
   ]
  }
 ],
 "metadata": {
  "kernelspec": {
   "display_name": "Python 3",
   "language": "python",
   "name": "python3"
  },
  "language_info": {
   "codemirror_mode": {
    "name": "ipython",
    "version": 3
   },
   "file_extension": ".py",
   "mimetype": "text/x-python",
   "name": "python",
   "nbconvert_exporter": "python",
   "pygments_lexer": "ipython3",
   "version": "3.11.9"
  }
 },
 "nbformat": 4,
 "nbformat_minor": 2
}
