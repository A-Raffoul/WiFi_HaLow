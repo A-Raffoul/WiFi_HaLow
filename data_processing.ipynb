{
 "cells": [
  {
   "cell_type": "code",
   "execution_count": 3,
   "metadata": {},
   "outputs": [],
   "source": [
    "import pandas as pd\n",
    "import matplotlib.pyplot as plt\n",
    "import os\n",
    "import glob"
   ]
  },
  {
   "cell_type": "code",
   "execution_count": 9,
   "metadata": {},
   "outputs": [],
   "source": [
    "def read_csv_files(folder_path):\n",
    "    # Find all CSV files in the specified folder\n",
    "    csv_files = glob.glob(os.path.join(folder_path, \"*.csv\"))\n",
    "    dataframes = []\n",
    "    print (csv_files)\n",
    "    for file in csv_files:\n",
    "        df = pd.read_csv(file)\n",
    "        dataframes.append(df)\n",
    "    return pd.concat(dataframes, ignore_index=True)\n"
   ]
  },
  {
   "cell_type": "code",
   "execution_count": 4,
   "metadata": {},
   "outputs": [],
   "source": [
    "def process_data(df):\n",
    "    # Convert necessary columns to numeric types\n",
    "    df['Receiver Bit Rate'] = pd.to_numeric(df['Receiver Bit Rate'], errors='coerce')\n",
    "    df['Jitter'] = pd.to_numeric(df['Jitter'], errors='coerce')\n",
    "    df['Receiver BER (%)'] = pd.to_numeric(df['Receiver BER (%)'], errors='coerce')\n",
    "    df['Ping Time (ms)'] = pd.to_numeric(df['Ping Time (ms)'], errors='coerce')\n",
    "    \n",
    "    # Drop rows with missing values if necessary\n",
    "    df.dropna(inplace=True)\n",
    "    return df\n"
   ]
  },
  {
   "cell_type": "code",
   "execution_count": 6,
   "metadata": {},
   "outputs": [],
   "source": [
    "folder_path = 'data\\indoor'  # Change this to your folder path\n"
   ]
  },
  {
   "cell_type": "code",
   "execution_count": 10,
   "metadata": {},
   "outputs": [
    {
     "name": "stdout",
     "output_type": "stream",
     "text": [
      "['data\\\\indoor\\\\pointA_1Mhz_test08_0428_results.csv', 'data\\\\indoor\\\\pointA_2Mhz_test08_0433_results.csv', 'data\\\\indoor\\\\pointB_1Mhz_test08_0439_results.csv', 'data\\\\indoor\\\\pointB_2Mhz_test08_0442_results.csv', 'data\\\\indoor\\\\pointC_1Mhz_test08_0446_results.csv', 'data\\\\indoor\\\\pointC_2Mhz_test08_0449_results.csv', 'data\\\\indoor\\\\pointD_1Mhz_test08_0454_results.csv', 'data\\\\indoor\\\\pointD_2Mhz_test08_0458_results.csv', 'data\\\\indoor\\\\pointF_1Mhz_test08_0512_results.csv', 'data\\\\indoor\\\\pointF_2Mhz_test08_0516_results.csv', 'data\\\\indoor\\\\pointG_1Mhz_test08_0521_results.csv', 'data\\\\indoor\\\\pointG_2Mhz_test08_0521_results.csv', 'data\\\\indoor\\\\pointH_1Mhz_test08_0536_results.csv', 'data\\\\indoor\\\\pointH_2Mhz_test08_0544_results.csv', 'data\\\\indoor\\\\pointK_1Mhz_test08_0555_results.csv', 'data\\\\indoor\\\\pointK_2Mhz_test08_0558_results.csv']\n",
      "Empty DataFrame\n",
      "Columns: [Test Name, MCS, Bandwidth, Frequency, Rate Control, Guard Interval, Tx Gain, Packet Size, Packets Transmitted, Packets Received, Packet Loss (%), Ping Sequence, Ping Time (ms), Test Length (seconds), Receiver Bit Rate, Jitter, Receiver Lost/Total Datagrams, Receiver BER (%), Iperf Second, Iperf Bitrate (Mbits/sec), RSSI Sequence Index, RSSI, SNR]\n",
      "Index: []\n",
      "\n",
      "[0 rows x 23 columns]\n"
     ]
    }
   ],
   "source": [
    "df = read_csv_files(folder_path)\n",
    "\n",
    "# Process data\n",
    "df = process_data(df)\n",
    "\n",
    "print (df)\n",
    "\n",
    "# Generate graphics\n",
    "# plot_ping_times(df)\n",
    "# plot_bitrate(df)\n",
    "\n"
   ]
  },
  {
   "cell_type": "code",
   "execution_count": null,
   "metadata": {},
   "outputs": [],
   "source": []
  },
  {
   "cell_type": "markdown",
   "metadata": {},
   "source": [
    "testtt\n"
   ]
  },
  {
   "cell_type": "code",
   "execution_count": 1,
   "metadata": {},
   "outputs": [
    {
     "name": "stdout",
     "output_type": "stream",
     "text": [
      "First few rows of the data:\n",
      "                 Test Name  MCS Bandwidth  Frequency Rate Control  \\\n",
      "0  pointA_1Mhz_test08_0428  7.0        1M     8635.0           ON   \n",
      "1                      NaN  NaN       NaN        NaN          NaN   \n",
      "2                      NaN  NaN       NaN        NaN          NaN   \n",
      "3                      NaN  NaN       NaN        NaN          NaN   \n",
      "4                      NaN  NaN       NaN        NaN          NaN   \n",
      "\n",
      "  Guard Interval  Tx Gain  Packet Size  Packets Transmitted  Packets Received  \\\n",
      "0           LONG     14.0        108.0                 30.0              25.0   \n",
      "1            NaN      NaN          NaN                  NaN               NaN   \n",
      "2            NaN      NaN          NaN                  NaN               NaN   \n",
      "3            NaN      NaN          NaN                  NaN               NaN   \n",
      "4            NaN      NaN          NaN                  NaN               NaN   \n",
      "\n",
      "   ...  Test Length (seconds)  Receiver Bit Rate  Jitter  \\\n",
      "0  ...                    NaN                NaN     NaN   \n",
      "1  ...                    NaN                NaN     NaN   \n",
      "2  ...                    NaN                NaN     NaN   \n",
      "3  ...                    NaN                NaN     NaN   \n",
      "4  ...                    NaN                NaN     NaN   \n",
      "\n",
      "   Receiver Lost/Total Datagrams  Receiver BER (%)  Iperf Second  \\\n",
      "0                            NaN               NaN             1   \n",
      "1                            NaN               NaN             2   \n",
      "2                            NaN               NaN             3   \n",
      "3                            NaN               NaN             4   \n",
      "4                            NaN               NaN             5   \n",
      "\n",
      "   Iperf Bitrate (Mbits/sec)  RSSI Sequence Index  RSSI   SNR  \n",
      "0                       2.55                  1.0   0.0   0.0  \n",
      "1                       1.74                  2.0 -43.0  18.0  \n",
      "2                       1.97                  3.0 -67.0  28.0  \n",
      "3                       1.74                  4.0 -68.0  29.0  \n",
      "4                       1.85                  5.0 -67.0  28.0  \n",
      "\n",
      "[5 rows x 23 columns]\n",
      "\n",
      "Summary of the data:\n",
      "<class 'pandas.core.frame.DataFrame'>\n",
      "RangeIndex: 60 entries, 0 to 59\n",
      "Data columns (total 23 columns):\n",
      " #   Column                         Non-Null Count  Dtype  \n",
      "---  ------                         --------------  -----  \n",
      " 0   Test Name                      1 non-null      object \n",
      " 1   MCS                            1 non-null      float64\n",
      " 2   Bandwidth                      1 non-null      object \n",
      " 3   Frequency                      1 non-null      float64\n",
      " 4   Rate Control                   1 non-null      object \n",
      " 5   Guard Interval                 1 non-null      object \n",
      " 6   Tx Gain                        1 non-null      float64\n",
      " 7   Packet Size                    1 non-null      float64\n",
      " 8   Packets Transmitted            1 non-null      float64\n",
      " 9   Packets Received               1 non-null      float64\n",
      " 10  Packet Loss (%)                1 non-null      float64\n",
      " 11  Ping Sequence                  25 non-null     float64\n",
      " 12  Ping Time (ms)                 25 non-null     float64\n",
      " 13  Test Length (seconds)          0 non-null      float64\n",
      " 14  Receiver Bit Rate              0 non-null      float64\n",
      " 15  Jitter                         0 non-null      float64\n",
      " 16  Receiver Lost/Total Datagrams  0 non-null      float64\n",
      " 17  Receiver BER (%)               0 non-null      float64\n",
      " 18  Iperf Second                   60 non-null     int64  \n",
      " 19  Iperf Bitrate (Mbits/sec)      60 non-null     float64\n",
      " 20  RSSI Sequence Index            15 non-null     float64\n",
      " 21  RSSI                           15 non-null     float64\n",
      " 22  SNR                            15 non-null     float64\n",
      "dtypes: float64(18), int64(1), object(4)\n",
      "memory usage: 10.9+ KB\n",
      "None\n",
      "\n",
      "Statistical summary of numeric features:\n",
      "       MCS  Frequency  Tx Gain  Packet Size  Packets Transmitted  \\\n",
      "count  1.0        1.0      1.0          1.0                  1.0   \n",
      "mean   7.0     8635.0     14.0        108.0                 30.0   \n",
      "std    NaN        NaN      NaN          NaN                  NaN   \n",
      "min    7.0     8635.0     14.0        108.0                 30.0   \n",
      "25%    7.0     8635.0     14.0        108.0                 30.0   \n",
      "50%    7.0     8635.0     14.0        108.0                 30.0   \n",
      "75%    7.0     8635.0     14.0        108.0                 30.0   \n",
      "max    7.0     8635.0     14.0        108.0                 30.0   \n",
      "\n",
      "       Packets Received  Packet Loss (%)  Ping Sequence  Ping Time (ms)  \\\n",
      "count               1.0           1.0000      25.000000        25.00000   \n",
      "mean               25.0          16.6667      13.000000         7.85960   \n",
      "std                 NaN              NaN       7.359801         6.68307   \n",
      "min                25.0          16.6667       1.000000         5.87000   \n",
      "25%                25.0          16.6667       7.000000         5.92000   \n",
      "50%                25.0          16.6667      13.000000         5.93000   \n",
      "75%                25.0          16.6667      19.000000         5.99000   \n",
      "max                25.0          16.6667      25.000000        38.40000   \n",
      "\n",
      "       Test Length (seconds)  Receiver Bit Rate  Jitter  \\\n",
      "count                    0.0                0.0     0.0   \n",
      "mean                     NaN                NaN     NaN   \n",
      "std                      NaN                NaN     NaN   \n",
      "min                      NaN                NaN     NaN   \n",
      "25%                      NaN                NaN     NaN   \n",
      "50%                      NaN                NaN     NaN   \n",
      "75%                      NaN                NaN     NaN   \n",
      "max                      NaN                NaN     NaN   \n",
      "\n",
      "       Receiver Lost/Total Datagrams  Receiver BER (%)  Iperf Second  \\\n",
      "count                            0.0               0.0     60.000000   \n",
      "mean                             NaN               NaN     30.500000   \n",
      "std                              NaN               NaN     17.464249   \n",
      "min                              NaN               NaN      1.000000   \n",
      "25%                              NaN               NaN     15.750000   \n",
      "50%                              NaN               NaN     30.500000   \n",
      "75%                              NaN               NaN     45.250000   \n",
      "max                              NaN               NaN     60.000000   \n",
      "\n",
      "       Iperf Bitrate (Mbits/sec)  RSSI Sequence Index       RSSI        SNR  \n",
      "count                  60.000000            15.000000  15.000000  15.000000  \n",
      "mean                    1.829333             8.000000 -61.866667  25.533333  \n",
      "std                     0.130473             4.472136  18.395911   7.539104  \n",
      "min                     1.390000             1.000000 -72.000000   0.000000  \n",
      "25%                     1.740000             4.500000 -68.500000  28.000000  \n",
      "50%                     1.850000             8.000000 -67.000000  28.000000  \n",
      "75%                     1.850000            11.500000 -66.500000  28.000000  \n",
      "max                     2.550000            15.000000   0.000000  29.000000  \n"
     ]
    }
   ],
   "source": [
    "import pandas as pd\n",
    "\n",
    "# Load the CSV file\n",
    "file_path = 'data\\indoor\\pointA_1Mhz_test08_0428_results.csv'\n",
    "data = pd.read_csv(file_path)\n",
    "\n",
    "# Display the first few rows of the DataFrame\n",
    "print(\"First few rows of the data:\")\n",
    "print(data.head())\n",
    "\n",
    "# Display a summary of the DataFrame\n",
    "print(\"\\nSummary of the data:\")\n",
    "print(data.info())\n",
    "\n",
    "# Describe the numerical features\n",
    "print(\"\\nStatistical summary of numeric features:\")\n",
    "print(data.describe())"
   ]
  },
  {
   "cell_type": "code",
   "execution_count": 6,
   "metadata": {},
   "outputs": [
    {
     "data": {
      "image/png": "[encoded data removed]",
      "text/plain": [
       "<Figure size 500x300 with 1 Axes>"
      ]
     },
     "metadata": {},
     "output_type": "display_data"
    },
    {
     "data": {
      "image/png": "[encoded data removed]",
      "text/plain": [
       "<Figure size 500x300 with 1 Axes>"
      ]
     },
     "metadata": {},
     "output_type": "display_data"
    }
   ],
   "source": [
    "\n",
    "# Plot SNR over time\n",
    "plt.figure(figsize=(5, 3))\n",
    "plt.plot(data['Iperf Second'], data['SNR'], marker='o', label='SNR', color='blue')\n",
    "plt.title('SNR Over Time')\n",
    "plt.xlabel('Time (seconds)')\n",
    "plt.ylabel('SNR')\n",
    "plt.grid(True)\n",
    "plt.legend()\n",
    "plt.show()\n",
    "\n",
    "# Plot RSSI over time\n",
    "plt.figure(figsize=(5, 3))\n",
    "plt.plot(data['Iperf Second'], data['RSSI'], marker='o', label='RSSI', color='red')\n",
    "plt.title('RSSI Over Time')\n",
    "plt.xlabel('Time (seconds)')\n",
    "plt.ylabel('RSSI')\n",
    "plt.grid(True)\n",
    "plt.legend()\n",
    "plt.show()\n"
   ]
  }
 ],
 "metadata": {
  "kernelspec": {
   "display_name": "Python 3",
   "language": "python",
   "name": "python3"
  },
  "language_info": {
   "codemirror_mode": {
    "name": "ipython",
    "version": 3
   },
   "file_extension": ".py",
   "mimetype": "text/x-python",
   "name": "python",
   "nbconvert_exporter": "python",
   "pygments_lexer": "ipython3",
   "version": "3.11.9"
  }
 },
 "nbformat": 4,
 "nbformat_minor": 2
}
